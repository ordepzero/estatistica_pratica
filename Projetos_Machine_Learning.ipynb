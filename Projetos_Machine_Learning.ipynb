{
 "cells": [
  {
   "cell_type": "markdown",
   "id": "d30ac692-5c3e-4c4a-a486-9653a81634c8",
   "metadata": {},
   "source": [
    "### Projeto de Machine Learning End-to-End\n",
    "\n",
    "#### Etapas:\n",
    "- Olhar para o todo\n",
    "    - Real entendimento sobre um problema a ser resolvido no desenvolvimento de uma solução\n",
    "    - Qual é o objetivo do negócio?\n",
    "        - Dessa forma é possível identificar os algotimos adequados\n",
    "        - Medida de performance\n",
    "    - Modelo de ML provavelmente não é o produto final, e sim como o negócio irá usar a solução.\n",
    "    - Que solução já é usada?\n",
    "        - A solução atual pode ser usada como comparativo\n",
    "- Conseguir dados\n",
    "- Explorar e analisar os dados para ter insights\n",
    "- Preparar os dados para os algotimos de ML\n",
    "- Selecionar um modelo e treiná-lo\n",
    "- Refinar o modelo\n",
    "- Apresentar o resultado\n",
    "- Lançar, monitorar e manter o sistema"
   ]
  }
 ],
 "metadata": {
  "kernelspec": {
   "display_name": "Python 3 (ipykernel)",
   "language": "python",
   "name": "python3"
  },
  "language_info": {
   "codemirror_mode": {
    "name": "ipython",
    "version": 3
   },
   "file_extension": ".py",
   "mimetype": "text/x-python",
   "name": "python",
   "nbconvert_exporter": "python",
   "pygments_lexer": "ipython3",
   "version": "3.8.12"
  }
 },
 "nbformat": 4,
 "nbformat_minor": 5
}
