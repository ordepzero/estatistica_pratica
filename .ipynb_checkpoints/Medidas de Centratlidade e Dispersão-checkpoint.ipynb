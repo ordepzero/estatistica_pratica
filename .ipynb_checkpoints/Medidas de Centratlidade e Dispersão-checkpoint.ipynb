{
 "cells": [
  {
   "cell_type": "markdown",
   "id": "73b0b0a7",
   "metadata": {},
   "source": [
    "#### Lendo base de dados\n",
    "Link: https://www.kaggle.com/datasets/burnoutminer/heights-and-weights-dataset/"
   ]
  },
  {
   "cell_type": "code",
   "execution_count": 10,
   "id": "9ab98a6c",
   "metadata": {},
   "outputs": [],
   "source": [
    "import pandas as pd\n",
    "from scipy import stats"
   ]
  },
  {
   "cell_type": "code",
   "execution_count": 3,
   "id": "dce49ef0",
   "metadata": {},
   "outputs": [
    {
     "data": {
      "text/html": [
       "<div>\n",
       "<style scoped>\n",
       "    .dataframe tbody tr th:only-of-type {\n",
       "        vertical-align: middle;\n",
       "    }\n",
       "\n",
       "    .dataframe tbody tr th {\n",
       "        vertical-align: top;\n",
       "    }\n",
       "\n",
       "    .dataframe thead th {\n",
       "        text-align: right;\n",
       "    }\n",
       "</style>\n",
       "<table border=\"1\" class=\"dataframe\">\n",
       "  <thead>\n",
       "    <tr style=\"text-align: right;\">\n",
       "      <th></th>\n",
       "      <th>Index</th>\n",
       "      <th>Height(Inches)</th>\n",
       "      <th>Weight(Pounds)</th>\n",
       "    </tr>\n",
       "  </thead>\n",
       "  <tbody>\n",
       "    <tr>\n",
       "      <th>0</th>\n",
       "      <td>1</td>\n",
       "      <td>65.78331</td>\n",
       "      <td>112.9925</td>\n",
       "    </tr>\n",
       "    <tr>\n",
       "      <th>1</th>\n",
       "      <td>2</td>\n",
       "      <td>71.51521</td>\n",
       "      <td>136.4873</td>\n",
       "    </tr>\n",
       "    <tr>\n",
       "      <th>2</th>\n",
       "      <td>3</td>\n",
       "      <td>69.39874</td>\n",
       "      <td>153.0269</td>\n",
       "    </tr>\n",
       "    <tr>\n",
       "      <th>3</th>\n",
       "      <td>4</td>\n",
       "      <td>68.21660</td>\n",
       "      <td>142.3354</td>\n",
       "    </tr>\n",
       "    <tr>\n",
       "      <th>4</th>\n",
       "      <td>5</td>\n",
       "      <td>67.78781</td>\n",
       "      <td>144.2971</td>\n",
       "    </tr>\n",
       "  </tbody>\n",
       "</table>\n",
       "</div>"
      ],
      "text/plain": [
       "   Index  Height(Inches)  Weight(Pounds)\n",
       "0      1        65.78331        112.9925\n",
       "1      2        71.51521        136.4873\n",
       "2      3        69.39874        153.0269\n",
       "3      4        68.21660        142.3354\n",
       "4      5        67.78781        144.2971"
      ]
     },
     "execution_count": 3,
     "metadata": {},
     "output_type": "execute_result"
    }
   ],
   "source": [
    "df = pd.read_csv('datasets/SOCR-HeightWeight.csv')  \n",
    "df.head()"
   ]
  },
  {
   "cell_type": "markdown",
   "id": "320668a2",
   "metadata": {},
   "source": [
    "### Média"
   ]
  },
  {
   "cell_type": "code",
   "execution_count": 4,
   "id": "cbd723fe",
   "metadata": {},
   "outputs": [
    {
     "data": {
      "text/plain": [
       "Index             12500.500000\n",
       "Height(Inches)       67.993114\n",
       "Weight(Pounds)      127.079421\n",
       "dtype: float64"
      ]
     },
     "execution_count": 4,
     "metadata": {},
     "output_type": "execute_result"
    }
   ],
   "source": [
    "# Media\n",
    "df.mean()"
   ]
  },
  {
   "cell_type": "code",
   "execution_count": 6,
   "id": "68bc0590",
   "metadata": {},
   "outputs": [
    {
     "data": {
      "text/plain": [
       "Index             12497.066038\n",
       "Height(Inches)       69.538768\n",
       "Weight(Pounds)      145.926048\n",
       "dtype: float64"
      ]
     },
     "execution_count": 6,
     "metadata": {},
     "output_type": "execute_result"
    }
   ],
   "source": [
    "# Media\n",
    "df[df['Weight(Pounds)'] > 140].mean()"
   ]
  },
  {
   "cell_type": "code",
   "execution_count": 9,
   "id": "72fae7b3",
   "metadata": {},
   "outputs": [
    {
     "data": {
      "text/plain": [
       "Index             12500.50000\n",
       "Height(Inches)       67.99570\n",
       "Weight(Pounds)      127.15775\n",
       "dtype: float64"
      ]
     },
     "execution_count": 9,
     "metadata": {},
     "output_type": "execute_result"
    }
   ],
   "source": [
    "# Mediana\n",
    "df.median()"
   ]
  },
  {
   "cell_type": "code",
   "execution_count": 13,
   "id": "58ff7dc5",
   "metadata": {},
   "outputs": [
    {
     "data": {
      "text/plain": [
       "array([127.10234021])"
      ]
     },
     "execution_count": 13,
     "metadata": {},
     "output_type": "execute_result"
    }
   ],
   "source": [
    "# Media aparada: ha remocao de 10% de dados de cada extremo\n",
    "#calculate 10% trimmed mean of 'points' and 'assists' columns, \n",
    "stats.trim_mean(df[['Weight(Pounds)']], 0.1)"
   ]
  },
  {
   "cell_type": "markdown",
   "id": "fee8795e",
   "metadata": {},
   "source": [
    "### Estimativas de Variabilidade (ou dispersão)\n",
    "\n",
    "Mede se os valores de dados estão compactados ou espalhados.\n"
   ]
  },
  {
   "cell_type": "markdown",
   "id": "73ae1e91",
   "metadata": {},
   "source": [
    "   > Desvios (erros ou resíduos): diferença entre os valores observados e a estimativa de localização"
   ]
  },
  {
   "cell_type": "code",
   "execution_count": 15,
   "id": "d86bf371",
   "metadata": {},
   "outputs": [
    {
     "data": {
      "text/plain": [
       "Index             5.208542e+07\n",
       "Height(Inches)    3.616382e+00\n",
       "Weight(Pounds)    1.359765e+02\n",
       "dtype: float64"
      ]
     },
     "execution_count": 15,
     "metadata": {},
     "output_type": "execute_result"
    }
   ],
   "source": [
    "# Variancia (erro médio quadrático)\n",
    "df.var()"
   ]
  },
  {
   "cell_type": "code",
   "execution_count": 18,
   "id": "d82669af",
   "metadata": {},
   "outputs": [
    {
     "data": {
      "text/plain": [
       "Index             7217.022701\n",
       "Height(Inches)       1.901679\n",
       "Weight(Pounds)      11.660898\n",
       "dtype: float64"
      ]
     },
     "execution_count": 18,
     "metadata": {},
     "output_type": "execute_result"
    }
   ],
   "source": [
    "# Desvio padrão (norma Euclidiana ou norma l2)\n",
    "df.std()"
   ]
  },
  {
   "cell_type": "code",
   "execution_count": 21,
   "id": "e26e1114",
   "metadata": {},
   "outputs": [
    {
     "data": {
      "text/plain": [
       "array([7.79225])"
      ]
     },
     "execution_count": 21,
     "metadata": {},
     "output_type": "execute_result"
    }
   ],
   "source": [
    "# Desvio absoluto médio: Mediana do valor absoluto dos desvios da mediana\n",
    "stats.median_abs_deviation(df[['Weight(Pounds)']])"
   ]
  },
  {
   "cell_type": "code",
   "execution_count": 22,
   "id": "63bf68a6",
   "metadata": {},
   "outputs": [
    {
     "data": {
      "text/plain": [
       "Index             6250.000000\n",
       "Height(Inches)       1.517945\n",
       "Weight(Pounds)       9.282490\n",
       "dtype: float64"
      ]
     },
     "execution_count": 22,
     "metadata": {},
     "output_type": "execute_result"
    }
   ],
   "source": [
    "# Desvio absoluto médio: média do valor absoluto dos desvio da média\n",
    "df.mad() "
   ]
  },
  {
   "cell_type": "code",
   "execution_count": 23,
   "id": "4a488829",
   "metadata": {},
   "outputs": [
    {
     "data": {
      "text/html": [
       "<div>\n",
       "<style scoped>\n",
       "    .dataframe tbody tr th:only-of-type {\n",
       "        vertical-align: middle;\n",
       "    }\n",
       "\n",
       "    .dataframe tbody tr th {\n",
       "        vertical-align: top;\n",
       "    }\n",
       "\n",
       "    .dataframe thead th {\n",
       "        text-align: right;\n",
       "    }\n",
       "</style>\n",
       "<table border=\"1\" class=\"dataframe\">\n",
       "  <thead>\n",
       "    <tr style=\"text-align: right;\">\n",
       "      <th></th>\n",
       "      <th>Index</th>\n",
       "      <th>Height(Inches)</th>\n",
       "      <th>Weight(Pounds)</th>\n",
       "    </tr>\n",
       "  </thead>\n",
       "  <tbody>\n",
       "    <tr>\n",
       "      <th>count</th>\n",
       "      <td>25000.000000</td>\n",
       "      <td>25000.000000</td>\n",
       "      <td>25000.000000</td>\n",
       "    </tr>\n",
       "    <tr>\n",
       "      <th>mean</th>\n",
       "      <td>12500.500000</td>\n",
       "      <td>67.993114</td>\n",
       "      <td>127.079421</td>\n",
       "    </tr>\n",
       "    <tr>\n",
       "      <th>std</th>\n",
       "      <td>7217.022701</td>\n",
       "      <td>1.901679</td>\n",
       "      <td>11.660898</td>\n",
       "    </tr>\n",
       "    <tr>\n",
       "      <th>min</th>\n",
       "      <td>1.000000</td>\n",
       "      <td>60.278360</td>\n",
       "      <td>78.014760</td>\n",
       "    </tr>\n",
       "    <tr>\n",
       "      <th>25%</th>\n",
       "      <td>6250.750000</td>\n",
       "      <td>66.704397</td>\n",
       "      <td>119.308675</td>\n",
       "    </tr>\n",
       "    <tr>\n",
       "      <th>50%</th>\n",
       "      <td>12500.500000</td>\n",
       "      <td>67.995700</td>\n",
       "      <td>127.157750</td>\n",
       "    </tr>\n",
       "    <tr>\n",
       "      <th>75%</th>\n",
       "      <td>18750.250000</td>\n",
       "      <td>69.272958</td>\n",
       "      <td>134.892850</td>\n",
       "    </tr>\n",
       "    <tr>\n",
       "      <th>max</th>\n",
       "      <td>25000.000000</td>\n",
       "      <td>75.152800</td>\n",
       "      <td>170.924000</td>\n",
       "    </tr>\n",
       "  </tbody>\n",
       "</table>\n",
       "</div>"
      ],
      "text/plain": [
       "              Index  Height(Inches)  Weight(Pounds)\n",
       "count  25000.000000    25000.000000    25000.000000\n",
       "mean   12500.500000       67.993114      127.079421\n",
       "std     7217.022701        1.901679       11.660898\n",
       "min        1.000000       60.278360       78.014760\n",
       "25%     6250.750000       66.704397      119.308675\n",
       "50%    12500.500000       67.995700      127.157750\n",
       "75%    18750.250000       69.272958      134.892850\n",
       "max    25000.000000       75.152800      170.924000"
      ]
     },
     "execution_count": 23,
     "metadata": {},
     "output_type": "execute_result"
    }
   ],
   "source": [
    "df.describe()"
   ]
  }
 ],
 "metadata": {
  "kernelspec": {
   "display_name": "Python 3 (ipykernel)",
   "language": "python",
   "name": "python3"
  },
  "language_info": {
   "codemirror_mode": {
    "name": "ipython",
    "version": 3
   },
   "file_extension": ".py",
   "mimetype": "text/x-python",
   "name": "python",
   "nbconvert_exporter": "python",
   "pygments_lexer": "ipython3",
   "version": "3.8.12"
  }
 },
 "nbformat": 4,
 "nbformat_minor": 5
}
