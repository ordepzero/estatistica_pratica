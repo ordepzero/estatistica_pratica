{
 "cells": [
  {
   "cell_type": "code",
   "execution_count": null,
   "id": "9e4d5a3f-7cec-4f46-9afd-cc04ddc9aad0",
   "metadata": {},
   "outputs": [],
   "source": []
  }
 ],
 "metadata": {
  "kernelspec": {
   "display_name": "",
   "name": ""
  },
  "language_info": {
   "name": ""
  }
 },
 "nbformat": 4,
 "nbformat_minor": 5
}
