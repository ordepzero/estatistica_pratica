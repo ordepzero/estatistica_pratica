{
 "cells": [
  {
   "cell_type": "markdown",
   "id": "a09e6a18-e45d-4009-af89-0f663359e79d",
   "metadata": {
    "tags": []
   },
   "source": [
    "## Clasificação"
   ]
  },
  {
   "cell_type": "markdown",
   "id": "eca17748-73ba-4594-aee1-61791f8983d4",
   "metadata": {},
   "source": [
    "- Projeto de classificação com a base de dados MINIST.\n",
    "- É uma base de dados de dígitos escritos manualmente, contendo dígitos de 0 a 9.\n",
    "- As imagens do dataset são padronizadas para caber em uma matriz 28×28 pixels, cada dígito possui 784 atributos, onde cada pixel representa um nível de escala de cinza, variando de 0 (branco) 255 (preto)."
   ]
  },
  {
   "cell_type": "markdown",
   "id": "81aa4384-a697-4367-aeba-3f162808a7e1",
   "metadata": {},
   "source": [
    "### Setup"
   ]
  },
  {
   "cell_type": "markdown",
   "id": "fb7a3bf8-a516-4042-975b-0bd0b1d37c89",
   "metadata": {},
   "source": [
    "Primeiro, vamos importar alguns módulos comuns, garantir que o MatplotLib plote as figuras inline e preparar uma função para salvar as figuras. Também verificamos se o Python 3.5 ou posterior está instalado, bem como o Scikit-Learn ≥0,20."
   ]
  },
  {
   "cell_type": "code",
   "execution_count": 1,
   "id": "1756cf90-adf1-48cc-891f-b43a1b2a8219",
   "metadata": {},
   "outputs": [],
   "source": [
    "# Python ≥3.5 is required\n",
    "import sys\n",
    "assert sys.version_info >= (3, 5)\n",
    "\n",
    "# Is this notebook running on Colab or Kaggle?\n",
    "IS_COLAB = \"google.colab\" in sys.modules\n",
    "IS_KAGGLE = \"kaggle_secrets\" in sys.modules\n",
    "\n",
    "# Scikit-Learn ≥0.20 is required\n",
    "import sklearn\n",
    "assert sklearn.__version__ >= \"0.20\"\n",
    "\n",
    "# Common imports\n",
    "import numpy as np\n",
    "import os\n",
    "\n",
    "# to make this notebook's output stable across runs\n",
    "np.random.seed(42)\n",
    "\n",
    "# To plot pretty figures\n",
    "%matplotlib inline\n",
    "import matplotlib as mpl\n",
    "import matplotlib.pyplot as plt\n",
    "mpl.rc('axes', labelsize=14)\n",
    "mpl.rc('xtick', labelsize=12)\n",
    "mpl.rc('ytick', labelsize=12)\n",
    "\n",
    "# Where to save the figures\n",
    "PROJECT_ROOT_DIR = \".\"\n",
    "CHAPTER_ID = \"classification\"\n",
    "IMAGES_PATH = os.path.join(PROJECT_ROOT_DIR, \"images\", CHAPTER_ID)\n",
    "os.makedirs(IMAGES_PATH, exist_ok=True)\n",
    "\n",
    "def save_fig(fig_id, tight_layout=True, fig_extension=\"png\", resolution=300):\n",
    "    path = os.path.join(IMAGES_PATH, fig_id + \".\" + fig_extension)\n",
    "    print(\"Saving figure\", fig_id)\n",
    "    if tight_layout:\n",
    "        plt.tight_layout()\n",
    "    plt.savefig(path, format=fig_extension, dpi=resolution)"
   ]
  },
  {
   "cell_type": "markdown",
   "id": "e17b3f71-00c6-4aaf-9b94-1013737ed55e",
   "metadata": {},
   "source": [
    "### Importando a base de dados diretamente do Scikit-Learn"
   ]
  },
  {
   "cell_type": "code",
   "execution_count": 2,
   "id": "2a559862-50c4-4aef-bfcf-763fa99cf1f9",
   "metadata": {},
   "outputs": [],
   "source": [
    "# Este import foi inserido para corrir um erro durante o download do dataset\n",
    "import ssl\n",
    "ssl._create_default_https_context = ssl._create_unverified_context"
   ]
  },
  {
   "cell_type": "code",
   "execution_count": 3,
   "id": "2f034e5a-447d-4479-a546-b40cc4a2fcd5",
   "metadata": {},
   "outputs": [
    {
     "name": "stderr",
     "output_type": "stream",
     "text": [
      "C:\\Users\\pedro\\AppData\\Roaming\\Python\\Python38\\site-packages\\sklearn\\datasets\\_openml.py:1022: FutureWarning: The default value of `parser` will change from `'liac-arff'` to `'auto'` in 1.4. You can set `parser='auto'` to silence this warning. Therefore, an `ImportError` will be raised from 1.4 if the dataset is dense and pandas is not installed. Note that the pandas parser may return different data types. See the Notes Section in fetch_openml's API doc for details.\n",
      "  warn(\n"
     ]
    },
    {
     "data": {
      "text/plain": [
       "dict_keys(['data', 'target', 'frame', 'categories', 'feature_names', 'target_names', 'DESCR', 'details', 'url'])"
      ]
     },
     "execution_count": 3,
     "metadata": {},
     "output_type": "execute_result"
    }
   ],
   "source": [
    "from sklearn.datasets import fetch_openml\n",
    "mnist = fetch_openml('mnist_784', version=1, as_frame=False)\n",
    "mnist.keys()"
   ]
  },
  {
   "cell_type": "code",
   "execution_count": 4,
   "id": "56238df1-229a-4d76-8727-928de6971644",
   "metadata": {},
   "outputs": [
    {
     "data": {
      "text/plain": [
       "(70000, 784)"
      ]
     },
     "execution_count": 4,
     "metadata": {},
     "output_type": "execute_result"
    }
   ],
   "source": [
    "X, y = mnist[\"data\"], mnist[\"target\"]\n",
    "X.shape"
   ]
  },
  {
   "cell_type": "code",
   "execution_count": 5,
   "id": "1950e1c1-b98b-4f82-8ffa-b8ba3a12af86",
   "metadata": {},
   "outputs": [
    {
     "data": {
      "text/plain": [
       "array(['5', '0', '4', ..., '4', '5', '6'], dtype=object)"
      ]
     },
     "execution_count": 5,
     "metadata": {},
     "output_type": "execute_result"
    }
   ],
   "source": [
    "y"
   ]
  },
  {
   "cell_type": "markdown",
   "id": "7fb67a8c-5408-4958-bf24-ff453d951f6f",
   "metadata": {},
   "source": [
    "#### Mostrando um caractere"
   ]
  },
  {
   "cell_type": "code",
   "execution_count": 6,
   "id": "61a4ad3d-d0e6-4dd5-a7e8-be79389c6313",
   "metadata": {},
   "outputs": [
    {
     "name": "stdout",
     "output_type": "stream",
     "text": [
      "Saving figure some_digit_plot\n"
     ]
    },
    {
     "data": {
      "image/png": "[encoded data removed]",
      "text/plain": [
       "<Figure size 432x288 with 1 Axes>"
      ]
     },
     "metadata": {
      "needs_background": "light"
     },
     "output_type": "display_data"
    }
   ],
   "source": [
    "%matplotlib inline\n",
    "import matplotlib as mpl\n",
    "import matplotlib.pyplot as plt\n",
    "\n",
    "some_digit = X[0]\n",
    "some_digit_image = some_digit.reshape(28, 28)\n",
    "plt.imshow(some_digit_image, cmap=mpl.cm.binary)\n",
    "plt.axis(\"off\")\n",
    "\n",
    "save_fig(\"some_digit_plot\")\n",
    "plt.show()"
   ]
  },
  {
   "cell_type": "code",
   "execution_count": 7,
   "id": "4dba18ef-a7eb-4f40-b07a-3ebe28721999",
   "metadata": {
    "tags": []
   },
   "outputs": [
    {
     "data": {
      "text/plain": [
       "array([  0.,   0.,   0.,   0.,   0.,   0.,   0.,   0.,   0.,   0.,   0.,\n",
       "         0.,   0.,   0.,   0.,   0.,   0.,   0.,   0.,   0.,   0.,   0.,\n",
       "         0.,   0.,   0.,   0.,   0.,   0.,   0.,   0.,   0.,   0.,   0.,\n",
       "         0.,   0.,   0.,   0.,   0.,   0.,   0.,   0.,   0.,   0.,   0.,\n",
       "         0.,   0.,   0.,   0.,   0.,   0.,   0.,   0.,   0.,   0.,   0.,\n",
       "         0.,   0.,   0.,   0.,   0.,   0.,   0.,   0.,   0.,   0.,   0.,\n",
       "         0.,   0.,   0.,   0.,   0.,   0.,   0.,   0.,   0.,   0.,   0.,\n",
       "         0.,   0.,   0.,   0.,   0.,   0.,   0.,   0.,   0.,   0.,   0.,\n",
       "         0.,   0.,   0.,   0.,   0.,   0.,   0.,   0.,   0.,   0.,   0.,\n",
       "         0.,   0.,   0.,   0.,   0.,   0.,   0.,   0.,   0.,   0.,   0.,\n",
       "         0.,   0.,   0.,   0.,   0.,   0.,   0.,   0.,   0.,   0.,   0.,\n",
       "         0.,   0.,   0.,   0.,   0.,   0.,   0.,   0.,   0.,   0.,   0.,\n",
       "         0.,   0.,   0.,   0.,   0.,   0.,   0.,   0.,   0.,   0.,   0.,\n",
       "         0.,   0.,   0.,   0.,   0.,   0.,   0.,   0.,   0.,   3.,  18.,\n",
       "        18.,  18., 126., 136., 175.,  26., 166., 255., 247., 127.,   0.,\n",
       "         0.,   0.,   0.,   0.,   0.,   0.,   0.,   0.,   0.,   0.,   0.,\n",
       "        30.,  36.,  94., 154., 170., 253., 253., 253., 253., 253., 225.,\n",
       "       172., 253., 242., 195.,  64.,   0.,   0.,   0.,   0.,   0.,   0.,\n",
       "         0.,   0.,   0.,   0.,   0.,  49., 238., 253., 253., 253., 253.,\n",
       "       253., 253., 253., 253., 251.,  93.,  82.,  82.,  56.,  39.,   0.,\n",
       "         0.,   0.,   0.,   0.,   0.,   0.,   0.,   0.,   0.,   0.,   0.,\n",
       "        18., 219., 253., 253., 253., 253., 253., 198., 182., 247., 241.,\n",
       "         0.,   0.,   0.,   0.,   0.,   0.,   0.,   0.,   0.,   0.,   0.,\n",
       "         0.,   0.,   0.,   0.,   0.,   0.,   0.,  80., 156., 107., 253.,\n",
       "       253., 205.,  11.,   0.,  43., 154.,   0.,   0.,   0.,   0.,   0.,\n",
       "         0.,   0.,   0.,   0.,   0.,   0.,   0.,   0.,   0.,   0.,   0.,\n",
       "         0.,   0.,   0.,  14.,   1., 154., 253.,  90.,   0.,   0.,   0.,\n",
       "         0.,   0.,   0.,   0.,   0.,   0.,   0.,   0.,   0.,   0.,   0.,\n",
       "         0.,   0.,   0.,   0.,   0.,   0.,   0.,   0.,   0.,   0.,   0.,\n",
       "       139., 253., 190.,   2.,   0.,   0.,   0.,   0.,   0.,   0.,   0.,\n",
       "         0.,   0.,   0.,   0.,   0.,   0.,   0.,   0.,   0.,   0.,   0.,\n",
       "         0.,   0.,   0.,   0.,   0.,   0.,  11., 190., 253.,  70.,   0.,\n",
       "         0.,   0.,   0.,   0.,   0.,   0.,   0.,   0.,   0.,   0.,   0.,\n",
       "         0.,   0.,   0.,   0.,   0.,   0.,   0.,   0.,   0.,   0.,   0.,\n",
       "         0.,   0.,  35., 241., 225., 160., 108.,   1.,   0.,   0.,   0.,\n",
       "         0.,   0.,   0.,   0.,   0.,   0.,   0.,   0.,   0.,   0.,   0.,\n",
       "         0.,   0.,   0.,   0.,   0.,   0.,   0.,   0.,   0.,  81., 240.,\n",
       "       253., 253., 119.,  25.,   0.,   0.,   0.,   0.,   0.,   0.,   0.,\n",
       "         0.,   0.,   0.,   0.,   0.,   0.,   0.,   0.,   0.,   0.,   0.,\n",
       "         0.,   0.,   0.,   0.,   0.,  45., 186., 253., 253., 150.,  27.,\n",
       "         0.,   0.,   0.,   0.,   0.,   0.,   0.,   0.,   0.,   0.,   0.,\n",
       "         0.,   0.,   0.,   0.,   0.,   0.,   0.,   0.,   0.,   0.,   0.,\n",
       "         0.,  16.,  93., 252., 253., 187.,   0.,   0.,   0.,   0.,   0.,\n",
       "         0.,   0.,   0.,   0.,   0.,   0.,   0.,   0.,   0.,   0.,   0.,\n",
       "         0.,   0.,   0.,   0.,   0.,   0.,   0.,   0.,   0., 249., 253.,\n",
       "       249.,  64.,   0.,   0.,   0.,   0.,   0.,   0.,   0.,   0.,   0.,\n",
       "         0.,   0.,   0.,   0.,   0.,   0.,   0.,   0.,   0.,   0.,   0.,\n",
       "         0.,  46., 130., 183., 253., 253., 207.,   2.,   0.,   0.,   0.,\n",
       "         0.,   0.,   0.,   0.,   0.,   0.,   0.,   0.,   0.,   0.,   0.,\n",
       "         0.,   0.,   0.,   0.,   0.,  39., 148., 229., 253., 253., 253.,\n",
       "       250., 182.,   0.,   0.,   0.,   0.,   0.,   0.,   0.,   0.,   0.,\n",
       "         0.,   0.,   0.,   0.,   0.,   0.,   0.,   0.,   0.,  24., 114.,\n",
       "       221., 253., 253., 253., 253., 201.,  78.,   0.,   0.,   0.,   0.,\n",
       "         0.,   0.,   0.,   0.,   0.,   0.,   0.,   0.,   0.,   0.,   0.,\n",
       "         0.,   0.,  23.,  66., 213., 253., 253., 253., 253., 198.,  81.,\n",
       "         2.,   0.,   0.,   0.,   0.,   0.,   0.,   0.,   0.,   0.,   0.,\n",
       "         0.,   0.,   0.,   0.,   0.,   0.,  18., 171., 219., 253., 253.,\n",
       "       253., 253., 195.,  80.,   9.,   0.,   0.,   0.,   0.,   0.,   0.,\n",
       "         0.,   0.,   0.,   0.,   0.,   0.,   0.,   0.,   0.,   0.,  55.,\n",
       "       172., 226., 253., 253., 253., 253., 244., 133.,  11.,   0.,   0.,\n",
       "         0.,   0.,   0.,   0.,   0.,   0.,   0.,   0.,   0.,   0.,   0.,\n",
       "         0.,   0.,   0.,   0.,   0., 136., 253., 253., 253., 212., 135.,\n",
       "       132.,  16.,   0.,   0.,   0.,   0.,   0.,   0.,   0.,   0.,   0.,\n",
       "         0.,   0.,   0.,   0.,   0.,   0.,   0.,   0.,   0.,   0.,   0.,\n",
       "         0.,   0.,   0.,   0.,   0.,   0.,   0.,   0.,   0.,   0.,   0.,\n",
       "         0.,   0.,   0.,   0.,   0.,   0.,   0.,   0.,   0.,   0.,   0.,\n",
       "         0.,   0.,   0.,   0.,   0.,   0.,   0.,   0.,   0.,   0.,   0.,\n",
       "         0.,   0.,   0.,   0.,   0.,   0.,   0.,   0.,   0.,   0.,   0.,\n",
       "         0.,   0.,   0.,   0.,   0.,   0.,   0.,   0.,   0.,   0.,   0.,\n",
       "         0.,   0.,   0.,   0.,   0.,   0.,   0.,   0.,   0.,   0.,   0.,\n",
       "         0.,   0.,   0.,   0.,   0.,   0.,   0.,   0.,   0.,   0.,   0.,\n",
       "         0.,   0.,   0.])"
      ]
     },
     "execution_count": 7,
     "metadata": {},
     "output_type": "execute_result"
    }
   ],
   "source": [
    "some_digit"
   ]
  },
  {
   "cell_type": "markdown",
   "id": "d1c998c4-9b15-4a35-b9a3-09b4d1bbc8f8",
   "metadata": {},
   "source": [
    "#### Separando as bases de treino e teste"
   ]
  },
  {
   "cell_type": "markdown",
   "id": "2d2b0279-738b-42a2-b3cc-d5c492d2ac67",
   "metadata": {},
   "source": [
    "- Esta base de dados já está separada, precisamos colocar os indices"
   ]
  },
  {
   "cell_type": "code",
   "execution_count": 8,
   "id": "8cba4cfc-a7e1-4bb2-81c0-aff8334b155c",
   "metadata": {},
   "outputs": [],
   "source": [
    "X_train, X_test, y_train, y_test = X[:60000], X[60000:], y[:60000], y[60000:]"
   ]
  },
  {
   "cell_type": "code",
   "execution_count": 9,
   "id": "f89cf6f8-5b78-4af1-bf5e-273a66f35a4e",
   "metadata": {},
   "outputs": [],
   "source": [
    "# Convertendo os labels de string para inteiro\n",
    "y_train = y_train.astype(int)\n",
    "y_test = y_test.astype(int)"
   ]
  },
  {
   "cell_type": "markdown",
   "id": "742610b3-cb4d-418b-b8d1-50fd25618935",
   "metadata": {},
   "source": [
    "#### Dicas\n",
    "\n",
    "- Alguns algoritmos são mais sensíveis à ordem das instâncias de treinamento, e podem performar mal caso ocorra muitas intâncias semelhantes. Embaralhando a ordem dos datasets garante que isso não aconteça.\n",
    "- O embaralhamento pode ser uma má ideia com séries temporais."
   ]
  },
  {
   "cell_type": "markdown",
   "id": "2256f1ef-9206-4c1b-bf90-5ffab00adb17",
   "metadata": {},
   "source": [
    "### Treinando um classificador Binário"
   ]
  },
  {
   "cell_type": "markdown",
   "id": "f2e94d35-ea9d-4d64-bb57-28b1c4d77340",
   "metadata": {},
   "source": [
    "- Para simplificar o problema será considerado apenas um dígito, o 5."
   ]
  },
  {
   "cell_type": "markdown",
   "id": "dfcd9255-51ed-476f-bde1-27d20cde146e",
   "metadata": {},
   "source": [
    "#### Selecinando os dados correspondentes ao dígito 5"
   ]
  },
  {
   "cell_type": "code",
   "execution_count": 10,
   "id": "1bdc5720-0cf6-4c07-9519-aa86141de073",
   "metadata": {},
   "outputs": [],
   "source": [
    "y_train_5 = (y_train == 5) # True para todos os 5's, False para todos os outros\n",
    "y_test_5 = (y_test == 5)"
   ]
  },
  {
   "cell_type": "code",
   "execution_count": 11,
   "id": "10b0074b-2510-43db-9e7d-fd1886896fb4",
   "metadata": {},
   "outputs": [
    {
     "data": {
      "text/plain": [
       "(array([False,  True]), array([False,  True]))"
      ]
     },
     "execution_count": 11,
     "metadata": {},
     "output_type": "execute_result"
    }
   ],
   "source": [
    "# verificando os valores que estao presentes\n",
    "np.unique(y_train_5),np.unique(y_test_5)"
   ]
  },
  {
   "cell_type": "markdown",
   "id": "e225eeed-2a2d-4e9f-ae07-79348f518abb",
   "metadata": {},
   "source": [
    "#### Selecionando o classificador"
   ]
  },
  {
   "cell_type": "markdown",
   "id": "af6b821e-e4ba-4c2f-a2cf-1c2ccaa525f9",
   "metadata": {},
   "source": [
    "- Vamos utilizar o Stochastic Gradiente Descent (SGD), ele tem como vantagem lidar com datasets grandes com eficiência, devido considerar as instâncias de treinando independentes, uma por vez, o que favore ele também ser utilizando para aprendizado 'online'. "
   ]
  },
  {
   "cell_type": "code",
   "execution_count": 12,
   "id": "572170b8-95bf-48c8-a0bc-be121b7898fc",
   "metadata": {},
   "outputs": [
    {
     "data": {
      "text/html": [
       "<style>#sk-container-id-1 {color: black;}#sk-container-id-1 pre{padding: 0;}#sk-container-id-1 div.sk-toggleable {background-color: white;}#sk-container-id-1 label.sk-toggleable__label {cursor: pointer;display: block;width: 100%;margin-bottom: 0;padding: 0.3em;box-sizing: border-box;text-align: center;}#sk-container-id-1 label.sk-toggleable__label-arrow:before {content: \"▸\";float: left;margin-right: 0.25em;color: #696969;}#sk-container-id-1 label.sk-toggleable__label-arrow:hover:before {color: black;}#sk-container-id-1 div.sk-estimator:hover label.sk-toggleable__label-arrow:before {color: black;}#sk-container-id-1 div.sk-toggleable__content {max-height: 0;max-width: 0;overflow: hidden;text-align: left;background-color: #f0f8ff;}#sk-container-id-1 div.sk-toggleable__content pre {margin: 0.2em;color: black;border-radius: 0.25em;background-color: #f0f8ff;}#sk-container-id-1 input.sk-toggleable__control:checked~div.sk-toggleable__content {max-height: 200px;max-width: 100%;overflow: auto;}#sk-container-id-1 input.sk-toggleable__control:checked~label.sk-toggleable__label-arrow:before {content: \"▾\";}#sk-container-id-1 div.sk-estimator input.sk-toggleable__control:checked~label.sk-toggleable__label {background-color: #d4ebff;}#sk-container-id-1 div.sk-label input.sk-toggleable__control:checked~label.sk-toggleable__label {background-color: #d4ebff;}#sk-container-id-1 input.sk-hidden--visually {border: 0;clip: rect(1px 1px 1px 1px);clip: rect(1px, 1px, 1px, 1px);height: 1px;margin: -1px;overflow: hidden;padding: 0;position: absolute;width: 1px;}#sk-container-id-1 div.sk-estimator {font-family: monospace;background-color: #f0f8ff;border: 1px dotted black;border-radius: 0.25em;box-sizing: border-box;margin-bottom: 0.5em;}#sk-container-id-1 div.sk-estimator:hover {background-color: #d4ebff;}#sk-container-id-1 div.sk-parallel-item::after {content: \"\";width: 100%;border-bottom: 1px solid gray;flex-grow: 1;}#sk-container-id-1 div.sk-label:hover label.sk-toggleable__label {background-color: #d4ebff;}#sk-container-id-1 div.sk-serial::before {content: \"\";position: absolute;border-left: 1px solid gray;box-sizing: border-box;top: 0;bottom: 0;left: 50%;z-index: 0;}#sk-container-id-1 div.sk-serial {display: flex;flex-direction: column;align-items: center;background-color: white;padding-right: 0.2em;padding-left: 0.2em;position: relative;}#sk-container-id-1 div.sk-item {position: relative;z-index: 1;}#sk-container-id-1 div.sk-parallel {display: flex;align-items: stretch;justify-content: center;background-color: white;position: relative;}#sk-container-id-1 div.sk-item::before, #sk-container-id-1 div.sk-parallel-item::before {content: \"\";position: absolute;border-left: 1px solid gray;box-sizing: border-box;top: 0;bottom: 0;left: 50%;z-index: -1;}#sk-container-id-1 div.sk-parallel-item {display: flex;flex-direction: column;z-index: 1;position: relative;background-color: white;}#sk-container-id-1 div.sk-parallel-item:first-child::after {align-self: flex-end;width: 50%;}#sk-container-id-1 div.sk-parallel-item:last-child::after {align-self: flex-start;width: 50%;}#sk-container-id-1 div.sk-parallel-item:only-child::after {width: 0;}#sk-container-id-1 div.sk-dashed-wrapped {border: 1px dashed gray;margin: 0 0.4em 0.5em 0.4em;box-sizing: border-box;padding-bottom: 0.4em;background-color: white;}#sk-container-id-1 div.sk-label label {font-family: monospace;font-weight: bold;display: inline-block;line-height: 1.2em;}#sk-container-id-1 div.sk-label-container {text-align: center;}#sk-container-id-1 div.sk-container {/* jupyter's `normalize.less` sets `[hidden] { display: none; }` but bootstrap.min.css set `[hidden] { display: none !important; }` so we also need the `!important` here to be able to override the default hidden behavior on the sphinx rendered scikit-learn.org. See: https://github.com/scikit-learn/scikit-learn/issues/21755 */display: inline-block !important;position: relative;}#sk-container-id-1 div.sk-text-repr-fallback {display: none;}</style><div id=\"sk-container-id-1\" class=\"sk-top-container\"><div class=\"sk-text-repr-fallback\"><pre>SGDClassifier(random_state=42)</pre><b>In a Jupyter environment, please rerun this cell to show the HTML representation or trust the notebook. <br />On GitHub, the HTML representation is unable to render, please try loading this page with nbviewer.org.</b></div><div class=\"sk-container\" hidden><div class=\"sk-item\"><div class=\"sk-estimator sk-toggleable\"><input class=\"sk-toggleable__control sk-hidden--visually\" id=\"sk-estimator-id-1\" type=\"checkbox\" checked><label for=\"sk-estimator-id-1\" class=\"sk-toggleable__label sk-toggleable__label-arrow\">SGDClassifier</label><div class=\"sk-toggleable__content\"><pre>SGDClassifier(random_state=42)</pre></div></div></div></div></div>"
      ],
      "text/plain": [
       "SGDClassifier(random_state=42)"
      ]
     },
     "execution_count": 12,
     "metadata": {},
     "output_type": "execute_result"
    }
   ],
   "source": [
    "from sklearn.linear_model import SGDClassifier\n",
    "\n",
    "sgd_clf = SGDClassifier(max_iter=1000, tol=1e-3, random_state=42)\n",
    "sgd_clf.fit(X_train, y_train_5)"
   ]
  },
  {
   "cell_type": "code",
   "execution_count": 13,
   "id": "0131860c-79df-4897-94d3-880efd2dfb5d",
   "metadata": {},
   "outputs": [
    {
     "data": {
      "text/plain": [
       "array([ True])"
      ]
     },
     "execution_count": 13,
     "metadata": {},
     "output_type": "execute_result"
    }
   ],
   "source": [
    "# Verificando se classifica como 5\n",
    "sgd_clf.predict([some_digit])"
   ]
  },
  {
   "cell_type": "markdown",
   "id": "8f92f749-9b00-44ea-8744-25f358ce9d2a",
   "metadata": {},
   "source": [
    "- O algoritmo classificou corretamente esse exemplo"
   ]
  },
  {
   "cell_type": "markdown",
   "id": "30b67299-164d-460c-ae3d-08f7b04c0da8",
   "metadata": {},
   "source": [
    "### Avaliando a performance"
   ]
  },
  {
   "cell_type": "markdown",
   "id": "c4bede7c-df95-44fa-9b1e-b76308dbad67",
   "metadata": {},
   "source": [
    "#### Medindo a acurácia com Validação Cruzada"
   ]
  },
  {
   "cell_type": "code",
   "execution_count": 14,
   "id": "1c88bff1-56d6-435f-b59e-4fe373a1e2cf",
   "metadata": {},
   "outputs": [
    {
     "data": {
      "text/plain": [
       "array([0.95035, 0.96035, 0.9604 ])"
      ]
     },
     "execution_count": 14,
     "metadata": {},
     "output_type": "execute_result"
    }
   ],
   "source": [
    "from sklearn.model_selection import cross_val_score\n",
    "cross_val_score(sgd_clf, X_train, y_train_5, cv=3, scoring=\"accuracy\")"
   ]
  },
  {
   "cell_type": "markdown",
   "id": "be1009f1-1034-4a55-b54e-96ff08497a99",
   "metadata": {},
   "source": [
    "#### Implementando Validaçao Cruzada"
   ]
  },
  {
   "cell_type": "markdown",
   "id": "e79b7c58-2a08-4b52-a502-2cc7b1964eee",
   "metadata": {},
   "source": [
    "- Vamos implementar nosso próprio código de validação cruzada para termos mais controle do processo.\n",
    "- Vamos investigar um pouco mais a fundo esse resultados!!!"
   ]
  },
  {
   "cell_type": "code",
   "execution_count": 15,
   "id": "939b9359-ac28-4a89-99d1-0f0945abca8a",
   "metadata": {},
   "outputs": [
    {
     "name": "stdout",
     "output_type": "stream",
     "text": [
      "0.9669\n",
      "0.91625\n",
      "0.96785\n"
     ]
    }
   ],
   "source": [
    "from sklearn.model_selection import StratifiedKFold\n",
    "from sklearn.base import clone\n",
    "\n",
    "# Parâmetro shuffle igual a True\n",
    "# A classe StratifiedKFold separa cada parte mantendo a proporção de cada classe\n",
    "skfolds = StratifiedKFold(n_splits=3, shuffle=True, random_state=42)\n",
    "\n",
    "for train_index, test_index in skfolds.split(X_train, y_train_5):\n",
    "    clone_clf = clone(sgd_clf)\n",
    "    X_train_folds = X_train[train_index]\n",
    "    y_train_folds = y_train_5[train_index]\n",
    "    X_test_fold = X_train[test_index]\n",
    "    y_test_fold = y_train_5[test_index]\n",
    "\n",
    "    clone_clf.fit(X_train_folds, y_train_folds)\n",
    "    y_pred = clone_clf.predict(X_test_fold)\n",
    "    n_correct = sum(y_pred == y_test_fold)\n",
    "    print(n_correct / len(y_pred))"
   ]
  },
  {
   "cell_type": "code",
   "execution_count": 16,
   "id": "42c38886-4f1d-4ffb-9187-61b0a5dad8f6",
   "metadata": {},
   "outputs": [
    {
     "name": "stdout",
     "output_type": "stream",
     "text": [
      "Média:  0.9503333333333334\n"
     ]
    }
   ],
   "source": [
    "print(\"Média: \",(0.9669+0.91625+0.96785)/3)"
   ]
  },
  {
   "cell_type": "markdown",
   "id": "301d585a-0544-458c-bee7-3c2cb257f989",
   "metadata": {},
   "source": [
    "- Média de acima de 95%!!!! Incrível!!\n",
    "- Vamos verificar como classificador classificou cada imagem."
   ]
  },
  {
   "cell_type": "markdown",
   "id": "ceeca1a5-3a09-410b-a176-112a84f54a67",
   "metadata": {},
   "source": [
    "#### Verificando a proporção de cada classe"
   ]
  },
  {
   "cell_type": "code",
   "execution_count": 17,
   "id": "9069409a-0131-42a9-91d7-a5373be8ff15",
   "metadata": {},
   "outputs": [],
   "source": [
    "from collections import Counter"
   ]
  },
  {
   "cell_type": "code",
   "execution_count": 18,
   "id": "0aa75053-ff92-4679-bf80-39acbc431983",
   "metadata": {
    "tags": []
   },
   "outputs": [
    {
     "name": "stdout",
     "output_type": "stream",
     "text": [
      "O valor False aparece 18193 vezes\n",
      "O valor True aparece 1807 vezes\n"
     ]
    }
   ],
   "source": [
    "counts = Counter(y_test_fold)\n",
    "\n",
    "for value, count in counts.items():\n",
    "    print(f\"O valor {value} aparece {count} vezes\")"
   ]
  },
  {
   "cell_type": "code",
   "execution_count": 19,
   "id": "2afd6c03-1318-4b3c-b9b0-bc8bf7acf5f2",
   "metadata": {},
   "outputs": [
    {
     "name": "stdout",
     "output_type": "stream",
     "text": [
      "Proporcao de valores True: 9.932391579178805%\n"
     ]
    }
   ],
   "source": [
    "print(f\"Proporcao de valores True: {(1807/18193)*100}%\")"
   ]
  },
  {
   "cell_type": "markdown",
   "id": "1d584059-8538-4519-9e20-0396f6c1e45e",
   "metadata": {},
   "source": [
    "- A proporção de valores True é de aproximadamente 10% e 90% como False, se o algoritmo palpitar todos os resultados como False, o desempenho dele será de 90%.\n",
    "- A métrica de acurácia neste caso não faz muito sentido, é uma base de dados desbalanceada (ou skewed datasets)"
   ]
  },
  {
   "cell_type": "markdown",
   "id": "3e059360-4c75-4cd5-97e2-ac4afcc06621",
   "metadata": {},
   "source": [
    "#### Classificador 'Never5'"
   ]
  },
  {
   "cell_type": "markdown",
   "id": "3d3f386f-9eda-4dbc-9861-bedc1a277035",
   "metadata": {},
   "source": [
    "- Vamos verificar o desempenho de um classificar que classifica tudo como False, ou seja, nunca classe 5."
   ]
  },
  {
   "cell_type": "code",
   "execution_count": 20,
   "id": "ca659a4b-92d2-4189-a169-271a2891ffe1",
   "metadata": {},
   "outputs": [],
   "source": [
    "from sklearn.base import BaseEstimator\n",
    "class Never5Classifier(BaseEstimator):\n",
    "    def fit(self, X, y=None):\n",
    "        pass\n",
    "    def predict(self, X):\n",
    "        return np.zeros((len(X), 1), dtype=bool)"
   ]
  },
  {
   "cell_type": "code",
   "execution_count": 21,
   "id": "37117381-71fa-4e99-b98f-874d55eaa5ea",
   "metadata": {},
   "outputs": [
    {
     "data": {
      "text/plain": [
       "array([0.91125, 0.90855, 0.90915])"
      ]
     },
     "execution_count": 21,
     "metadata": {},
     "output_type": "execute_result"
    }
   ],
   "source": [
    "never_5_clf = Never5Classifier()\n",
    "cross_val_score(never_5_clf, X_train, y_train_5, cv=3, scoring=\"accuracy\")"
   ]
  },
  {
   "cell_type": "markdown",
   "id": "c1dc64c6-7b5a-49f6-a8b4-5cb6535e031b",
   "metadata": {},
   "source": [
    "- Esse classifiacdor atingiu o resultado que comentamos anteriormente"
   ]
  },
  {
   "cell_type": "markdown",
   "id": "dc57774b-f6af-4b62-a2fc-931fe6f72a48",
   "metadata": {},
   "source": [
    "#### Notas\n",
    "\n",
    "- A acurácia geralmente não é indicada para medir a performance para classificadores, principalmente com bases desbalanceadas."
   ]
  },
  {
   "cell_type": "markdown",
   "id": "443cdcd1-bedb-40bb-8600-01a85c14ab28",
   "metadata": {},
   "source": [
    "### Matriz de Confusão"
   ]
  },
  {
   "cell_type": "markdown",
   "id": "ba7005af-9ab4-4b1a-ab8d-7000cb836183",
   "metadata": {},
   "source": [
    "- Versão da matriz de confusão com métricas"
   ]
  },
  {
   "cell_type": "markdown",
   "id": "7d27bb13-69e7-4862-97f6-2701058b5421",
   "metadata": {},
   "source": [
    "![alt text for screen readers](images/matriz_confusao.png \"Text to show on mouseover\")"
   ]
  },
  {
   "cell_type": "markdown",
   "id": "524ac6fb-9a84-44d4-ad83-65c152b8375e",
   "metadata": {},
   "source": [
    "- Um forma melhor de avaliar a performance é com a matriz de confusão"
   ]
  },
  {
   "cell_type": "markdown",
   "id": "1ea434f2-8baf-42b0-8b4f-ed2649fd72bd",
   "metadata": {},
   "source": [
    "- A função cross_val_predict executa o K-FOLD cross-validation, porém ao invés de retornar a pontuação da classificação, ele retorna as predições realizadas em cada teste."
   ]
  },
  {
   "cell_type": "code",
   "execution_count": 22,
   "id": "bb1e1d8c-63d9-4c96-a98c-0531bdc2e88d",
   "metadata": {},
   "outputs": [],
   "source": [
    "from sklearn.model_selection import cross_val_predict\n",
    "\n",
    "y_train_pred = cross_val_predict(sgd_clf, X_train, y_train_5, cv=3)"
   ]
  },
  {
   "cell_type": "code",
   "execution_count": 23,
   "id": "af9d9be9-3ce9-4f4b-a227-3226816f987a",
   "metadata": {},
   "outputs": [
    {
     "data": {
      "text/plain": [
       "array([[53892,   687],\n",
       "       [ 1891,  3530]], dtype=int64)"
      ]
     },
     "execution_count": 23,
     "metadata": {},
     "output_type": "execute_result"
    }
   ],
   "source": [
    "from sklearn.metrics import confusion_matrix\n",
    "\n",
    "confusion_matrix(y_train_5, y_train_pred)"
   ]
  },
  {
   "cell_type": "markdown",
   "id": "30003f7e-0f7e-4660-a0bc-1b9ca1ac8f2c",
   "metadata": {},
   "source": [
    "#### Dúvida\n",
    "\n",
    "- No caso de amostras criadas com reposição, como construir a matrix de confusão?"
   ]
  },
  {
   "cell_type": "markdown",
   "id": "4456b6ee-890e-480e-ba59-6186d2f82b0a",
   "metadata": {},
   "source": [
    "#### Precisão"
   ]
  },
  {
   "cell_type": "markdown",
   "id": "fb7ca583-efee-4e64-b62d-d060e224a692",
   "metadata": {},
   "source": [
    "$ precision = \\frac{TP}{TP + FP} $"
   ]
  },
  {
   "cell_type": "markdown",
   "id": "4697e763-57fb-4c51-b8ca-f7f8f56c9a03",
   "metadata": {},
   "source": [
    "- A precisão é usada juntamente com outra métrica chamada Recall, Sensitivity ou True Positive Rate (TPR)"
   ]
  },
  {
   "cell_type": "markdown",
   "id": "faa08fdb-3bab-4c8c-9b14-d65749129f7b",
   "metadata": {},
   "source": [
    "#### Recall"
   ]
  },
  {
   "cell_type": "markdown",
   "id": "c0b697d2-9dd1-44f0-8c14-b71d093313d6",
   "metadata": {},
   "source": [
    "$ recall = \\frac{TP}{TP + FN}$"
   ]
  },
  {
   "cell_type": "markdown",
   "id": "41a18c3f-1e16-4f0f-98ed-4c51a7fadc04",
   "metadata": {},
   "source": [
    "#### Aplicando Precision e Recall nos nossos resultados"
   ]
  },
  {
   "cell_type": "code",
   "execution_count": 24,
   "id": "fc65bc68-72fe-4dbd-8d05-994e19c70698",
   "metadata": {},
   "outputs": [
    {
     "data": {
      "text/plain": [
       "0.8370879772350012"
      ]
     },
     "execution_count": 24,
     "metadata": {},
     "output_type": "execute_result"
    }
   ],
   "source": [
    "from sklearn.metrics import precision_score, recall_score\n",
    "\n",
    "precision_score(y_train_5, y_train_pred)"
   ]
  },
  {
   "cell_type": "code",
   "execution_count": 25,
   "id": "6787c887-2b5a-4843-ab38-24c09baeed1c",
   "metadata": {},
   "outputs": [
    {
     "data": {
      "text/plain": [
       "0.8370879772350012"
      ]
     },
     "execution_count": 25,
     "metadata": {},
     "output_type": "execute_result"
    }
   ],
   "source": [
    "cm = confusion_matrix(y_train_5, y_train_pred)\n",
    "cm[1, 1] / (cm[0, 1] + cm[1, 1])"
   ]
  },
  {
   "cell_type": "markdown",
   "id": "0e22cab4-79bc-4a06-9ffb-d9fbf7ca9a1e",
   "metadata": {},
   "source": [
    "- Quando é apresentando um 5 para o classificador ele classifica corretamente 83% das vezes."
   ]
  },
  {
   "cell_type": "code",
   "execution_count": 26,
   "id": "147ce6a1-1dcd-4d88-bf96-927c7d6ecffd",
   "metadata": {},
   "outputs": [
    {
     "data": {
      "text/plain": [
       "0.6511713705958311"
      ]
     },
     "execution_count": 26,
     "metadata": {},
     "output_type": "execute_result"
    }
   ],
   "source": [
    "recall_score(y_train_5, y_train_pred)"
   ]
  },
  {
   "cell_type": "code",
   "execution_count": 27,
   "id": "fbb7167a-970f-489c-805c-05d8e3a746e3",
   "metadata": {},
   "outputs": [
    {
     "data": {
      "text/plain": [
       "0.6511713705958311"
      ]
     },
     "execution_count": 27,
     "metadata": {},
     "output_type": "execute_result"
    }
   ],
   "source": [
    "cm[1, 1] / (cm[1, 0] + cm[1, 1])"
   ]
  },
  {
   "cell_type": "markdown",
   "id": "62e3913c-ff09-4c6b-bf0a-73cc25b960f1",
   "metadata": {},
   "source": [
    "- O Classificador detectou corretamente 65% das instâncias"
   ]
  },
  {
   "cell_type": "markdown",
   "id": "39dc906b-c665-490c-9cab-8e6489a5a676",
   "metadata": {},
   "source": [
    "#### F1-Score"
   ]
  },
  {
   "cell_type": "markdown",
   "id": "b79544da-2d9a-4eff-860b-2280ac825d02",
   "metadata": {},
   "source": [
    "- É a média harmônica (https://pt.wikipedia.org/wiki/M%C3%A9dia_harm%C3%B4nica) da precisão e recall, assim simetricamente é possível representar as duas métricas com um único valor.\n",
    "- A vantagem é de que a média regular trata todos os valores igualmente, a médica harmônica atribui um peso maior para valores menores. Desta forma, o classificador terá uma F1 alta apenas se ambas métricas forem altas."
   ]
  },
  {
   "cell_type": "markdown",
   "id": "ff43b395-5b57-4dbb-bbe0-3f9978be8b1a",
   "metadata": {},
   "source": [
    "#### Computando o F1-Score"
   ]
  },
  {
   "cell_type": "code",
   "execution_count": 28,
   "id": "7f8577bd-9e54-4db1-affe-dd496a22aa19",
   "metadata": {},
   "outputs": [
    {
     "data": {
      "text/plain": [
       "0.7325171197343846"
      ]
     },
     "execution_count": 28,
     "metadata": {},
     "output_type": "execute_result"
    }
   ],
   "source": [
    "from sklearn.metrics import f1_score\n",
    "\n",
    "f1_score(y_train_5, y_train_pred)"
   ]
  },
  {
   "cell_type": "code",
   "execution_count": 29,
   "id": "95470f5b-4ba4-4d6e-accc-f9928653d5c4",
   "metadata": {
    "jp-MarkdownHeadingCollapsed": true,
    "tags": []
   },
   "outputs": [
    {
     "data": {
      "text/plain": [
       "0.7325171197343847"
      ]
     },
     "execution_count": 29,
     "metadata": {},
     "output_type": "execute_result"
    }
   ],
   "source": [
    "cm[1, 1] / (cm[1, 1] + (cm[1, 0] + cm[0, 1]) / 2)"
   ]
  },
  {
   "cell_type": "markdown",
   "id": "9659cbe7-1902-4692-a344-01d9635f57f2",
   "metadata": {},
   "source": [
    "#### Notas\n",
    "\n",
    "- O F1-favorece classificadores que possuem precision e recall semelhantes, porém há situações que é necessário se preocupar mais com a precisão ou com o recall, então nem sempre o F1-score indicado.\n",
    "- Não é possível priorizar, recall ou precision, se aumentar a precisão, diminui o recall e vice-versa. Isso é chamado Precision/Recall Trade-off."
   ]
  },
  {
   "cell_type": "markdown",
   "id": "abaa9a89-f70f-4a28-911e-81179dff8850",
   "metadata": {},
   "source": [
    "### Precision/Recall Trade-off"
   ]
  },
  {
   "cell_type": "markdown",
   "id": "2465ddd7-1f9f-4fb5-a6b1-4bfa25109ee6",
   "metadata": {},
   "source": [
    "- Vamos demonstrar que priorizando uma das duas métricas, precision ou recall,  a outra diminui e assim o F1 é prejudicado.\n",
    "- Vamos utilizar o Stochastic Gradiente Descent (SGD) para demonstrar.\n",
    "- Este algorito, para cada instância ele computa um escore baseado numa função de decisão, se o escore for maior que um limiar (threshold), ele atribui positivo, caso contrário, negativo.\n",
    "- Para este algoritmo o limiar é 0."
   ]
  },
  {
   "cell_type": "markdown",
   "id": "07593cb8-10e4-49e4-83df-ed7789f6f228",
   "metadata": {},
   "source": [
    "#### Verificando o limiar de uma instância"
   ]
  },
  {
   "cell_type": "code",
   "execution_count": 30,
   "id": "6244cc75-255d-45c2-ac7f-089758b1ebc6",
   "metadata": {},
   "outputs": [
    {
     "data": {
      "text/plain": [
       "array([2164.22030239])"
      ]
     },
     "execution_count": 30,
     "metadata": {},
     "output_type": "execute_result"
    }
   ],
   "source": [
    "y_scores = sgd_clf.decision_function([some_digit])\n",
    "y_scores"
   ]
  },
  {
   "cell_type": "markdown",
   "id": "c0cf23d6-a1e6-4768-95a2-b9da9529034b",
   "metadata": {},
   "source": [
    "#### Comparando se é maior que o limiar"
   ]
  },
  {
   "cell_type": "code",
   "execution_count": 31,
   "id": "522b9551-1eb2-4804-ab6d-3ae7a7cb3164",
   "metadata": {},
   "outputs": [
    {
     "data": {
      "text/plain": [
       "array([ True])"
      ]
     },
     "execution_count": 31,
     "metadata": {},
     "output_type": "execute_result"
    }
   ],
   "source": [
    "threshold = 0\n",
    "y_some_digit_pred = (y_scores > threshold)\n",
    "\n",
    "y_some_digit_pred"
   ]
  },
  {
   "cell_type": "markdown",
   "id": "e3104efe-778f-459a-83f1-94509a811165",
   "metadata": {},
   "source": [
    "- O resultado de que o escore é maior que 0"
   ]
  },
  {
   "cell_type": "markdown",
   "id": "af34f8c9-4cf4-4b18-b5bd-da26e2482ba8",
   "metadata": {},
   "source": [
    "#### Aumentando o valor do limiar"
   ]
  },
  {
   "cell_type": "code",
   "execution_count": 32,
   "id": "b3596c3c-d3f9-493e-89b9-2ff85be88583",
   "metadata": {},
   "outputs": [
    {
     "data": {
      "text/plain": [
       "array([False])"
      ]
     },
     "execution_count": 32,
     "metadata": {},
     "output_type": "execute_result"
    }
   ],
   "source": [
    "threshold = 8000\n",
    "y_some_digit_pred = (y_scores > threshold)\n",
    "y_some_digit_pred"
   ]
  },
  {
   "cell_type": "markdown",
   "id": "645be3aa-08ed-49fb-9b99-bae7ce2d1144",
   "metadata": {},
   "source": [
    "- O resultado apontou que agora a predição foi incorreta, ou seja, deixei de computar uma instância como TP e computei uma instância como FN, ou seja, diminui o valor do recall."
   ]
  },
  {
   "cell_type": "markdown",
   "id": "ed800daf-f92e-49d2-8af7-7d0fe6bd78aa",
   "metadata": {},
   "source": [
    "#### Como decidir qual limiar usar?"
   ]
  },
  {
   "cell_type": "markdown",
   "id": "3d0852ad-5d97-4e3c-98c2-8efd9d0f852f",
   "metadata": {},
   "source": [
    "- Como decidir qual limiar usar?\n",
    "- Primeiro usar o cross_val_predict() para obter os escores de todas as instâncias na base de treinamento, passando o parâmetro para indicar que deseja receber os escores de decisão ao invés das predições."
   ]
  },
  {
   "cell_type": "code",
   "execution_count": 33,
   "id": "404bd4fb-1c61-41c9-a45f-a6b081f66b84",
   "metadata": {},
   "outputs": [],
   "source": [
    "y_scores = cross_val_predict(sgd_clf, X_train, y_train_5, cv=3,\n",
    "                             method=\"decision_function\")"
   ]
  },
  {
   "cell_type": "markdown",
   "id": "ef41d5c5-3c7a-480a-84c4-de60430d6be6",
   "metadata": {},
   "source": [
    "- Depois aplica a função precision_recall_curve() para computar precisão e recall das instâncias"
   ]
  },
  {
   "cell_type": "code",
   "execution_count": 34,
   "id": "2fe30a62-32cf-40bd-94d5-eb55e1cae9e3",
   "metadata": {},
   "outputs": [],
   "source": [
    "from sklearn.metrics import precision_recall_curve\n",
    "\n",
    "# retorna a precisão, recall e threshold de cada instância\n",
    "precisions, recalls, thresholds = precision_recall_curve(y_train_5, y_scores)"
   ]
  },
  {
   "cell_type": "markdown",
   "id": "26695080-73d8-4b98-a8de-7792bb0d0913",
   "metadata": {},
   "source": [
    "- Depois plota a precisão e recall em função dos threshold"
   ]
  },
  {
   "cell_type": "code",
   "execution_count": 35,
   "id": "d9abbac0-e1c9-489b-ab3f-f61343654b7b",
   "metadata": {},
   "outputs": [
    {
     "name": "stdout",
     "output_type": "stream",
     "text": [
      "Saving figure precision_recall_vs_threshold_plot\n"
     ]
    },
    {
     "data": {
      "image/png": "[encoded data removed]",
      "text/plain": [
       "<Figure size 576x288 with 1 Axes>"
      ]
     },
     "metadata": {
      "needs_background": "light"
     },
     "output_type": "display_data"
    }
   ],
   "source": [
    "def plot_precision_recall_vs_threshold(precisions, recalls, thresholds):\n",
    "    plt.plot(thresholds, precisions[:-1], \"b--\", label=\"Precision\", linewidth=2)\n",
    "    plt.plot(thresholds, recalls[:-1], \"g-\", label=\"Recall\", linewidth=2)\n",
    "    plt.legend(loc=\"center right\", fontsize=16) # Not shown in the book\n",
    "    plt.xlabel(\"Threshold\", fontsize=16)        # Not shown\n",
    "    plt.grid(True)                              # Not shown\n",
    "    plt.axis([-50000, 50000, 0, 1])             # Not shown\n",
    "\n",
    "\n",
    "# Definindo a precisao de 90%\n",
    "recall_90_precision = recalls[np.argmax(precisions >= 0.90)] \n",
    "threshold_90_precision = thresholds[np.argmax(precisions >= 0.90)] # Threshold de aproximadamente 3370\n",
    "\n",
    "\n",
    "plt.figure(figsize=(8, 4))                                                                  # Not shown\n",
    "plot_precision_recall_vs_threshold(precisions, recalls, thresholds)\n",
    "plt.plot([threshold_90_precision, threshold_90_precision], [0., 0.9], \"r:\")                 # Not shown\n",
    "plt.plot([-50000, threshold_90_precision], [0.9, 0.9], \"r:\")                                # Not shown\n",
    "plt.plot([-50000, threshold_90_precision], [recall_90_precision, recall_90_precision], \"r:\")# Not shown\n",
    "plt.plot([threshold_90_precision], [0.9], \"ro\")                                             # Not shown\n",
    "plt.plot([threshold_90_precision], [recall_90_precision], \"ro\")                             # Not shown\n",
    "save_fig(\"precision_recall_vs_threshold_plot\")                                              # Not shown\n",
    "plt.show()"
   ]
  },
  {
   "cell_type": "markdown",
   "id": "f2d5ab57-6ef4-4efa-8365-c9edf3b94777",
   "metadata": {},
   "source": [
    "- Essa imagem mostra o comportamento de cada uma das métricas.\n",
    "- Se desejar priorizar uma das métricas, esse gráfico ajuda a decidir.\n",
    "- Neste exemplo, está considerando 90% de precisão, o recall de 0.4799852425751706 e threshold de 3370"
   ]
  },
  {
   "cell_type": "code",
   "execution_count": 36,
   "id": "dd964612-8ff1-465e-a771-fcd42d24d94a",
   "metadata": {},
   "outputs": [
    {
     "name": "stdout",
     "output_type": "stream",
     "text": [
      "Valor do recall para precisao 90%:  0.4799852425751706\n"
     ]
    }
   ],
   "source": [
    "print(\"Valor do recall para precisao 90%: \",recall_90_precision)"
   ]
  },
  {
   "cell_type": "code",
   "execution_count": 37,
   "id": "7a4c9ace-8f91-494b-9501-59fb1476b431",
   "metadata": {},
   "outputs": [
    {
     "name": "stdout",
     "output_type": "stream",
     "text": [
      "Valor do threshold_90_precision para precisao 90%:  3370.0194991439557\n"
     ]
    }
   ],
   "source": [
    "print(\"Valor do threshold_90_precision para precisao 90%: \",threshold_90_precision)"
   ]
  },
  {
   "cell_type": "markdown",
   "id": "6c20e5b5-725a-471a-aea6-8c3cbcb02f08",
   "metadata": {},
   "source": [
    "#### Notas\n",
    "\n",
    "- Dessa forma é possível ter um classificar com a precisão virtual desejada.\n",
    "- Cuidado para não selecionar uma precisão com um recall muito baixo, não será muito útil."
   ]
  },
  {
   "cell_type": "markdown",
   "id": "0a3aee8c-ad60-438d-b998-0e2866f5b7f3",
   "metadata": {},
   "source": [
    "#### Gráfico comparativo Precision x Recall"
   ]
  },
  {
   "cell_type": "code",
   "execution_count": 38,
   "id": "4d0a6317-4d61-4e67-9d5d-24ce3f2a6927",
   "metadata": {},
   "outputs": [
    {
     "name": "stdout",
     "output_type": "stream",
     "text": [
      "Saving figure precision_vs_recall_plot\n"
     ]
    },
    {
     "data": {
      "image/png": "[encoded data removed]",
      "text/plain": [
       "<Figure size 576x432 with 1 Axes>"
      ]
     },
     "metadata": {
      "needs_background": "light"
     },
     "output_type": "display_data"
    }
   ],
   "source": [
    "def plot_precision_vs_recall(precisions, recalls):\n",
    "    plt.plot(recalls, precisions, \"b-\", linewidth=2)\n",
    "    plt.xlabel(\"Recall\", fontsize=16)\n",
    "    plt.ylabel(\"Precision\", fontsize=16)\n",
    "    plt.axis([0, 1, 0, 1])\n",
    "    plt.grid(True)\n",
    "\n",
    "plt.figure(figsize=(8, 6))\n",
    "plot_precision_vs_recall(precisions, recalls)\n",
    "plt.plot([recall_90_precision, recall_90_precision], [0., 0.9], \"r:\")\n",
    "plt.plot([0.0, recall_90_precision], [0.9, 0.9], \"r:\")\n",
    "plt.plot([recall_90_precision], [0.9], \"ro\")\n",
    "save_fig(\"precision_vs_recall_plot\")\n",
    "plt.show()"
   ]
  },
  {
   "cell_type": "markdown",
   "id": "7de87e76-9d95-42d7-8b55-65bde22aac94",
   "metadata": {},
   "source": [
    "- A partir do recall 0.6 a precisão despenca rapidamente!\n",
    "- É melhor selecionar em um ponto antes da queda!"
   ]
  },
  {
   "cell_type": "markdown",
   "id": "ce2d612c-5432-4f79-b41a-a13baa2ad094",
   "metadata": {},
   "source": [
    "https://github.com/ageron/handson-ml2/blob/master/03_classification.ipynb"
   ]
  },
  {
   "cell_type": "markdown",
   "id": "3524880a-4eea-428b-a716-0a1b085057af",
   "metadata": {},
   "source": [
    "### Curva ROC (Receiver Operating Characteristic)"
   ]
  },
  {
   "cell_type": "markdown",
   "id": "c6987374-6754-44d2-a2cc-f682a92e4a61",
   "metadata": {},
   "source": [
    "- Usada com classificadores binários\n",
    "- Similar à curva precisão/sensibilidade\n",
    "- Plota True Positive Rate (TPR) contra False Positive Rate (FPR) para vários Thresholds\n",
    "- $ FPR = \\frac{FP}{FP + TN}$\n",
    "- Especificidade: também chamada de True Negative Rate (TNR)\n"
   ]
  },
  {
   "cell_type": "markdown",
   "id": "09fe2844-c9a1-4dfc-a26b-4ddd8a0c1754",
   "metadata": {},
   "source": [
    "#### Carregando as configurações"
   ]
  },
  {
   "cell_type": "code",
   "execution_count": 39,
   "id": "b01fd46c-3e60-4781-81cc-3bb4c5ddde7a",
   "metadata": {},
   "outputs": [],
   "source": [
    "from sklearn.metrics import roc_curve\n",
    "\n",
    "fpr, tpr, thresholds = roc_curve(y_train_5, y_scores)"
   ]
  },
  {
   "cell_type": "code",
   "execution_count": 41,
   "id": "3086e07c-eb55-421c-b9fc-b2a0c58e9c5f",
   "metadata": {},
   "outputs": [
    {
     "name": "stdout",
     "output_type": "stream",
     "text": [
      "Saving figure roc_curve_plot\n"
     ]
    },
    {
     "data": {
      "image/png": "[encoded data removed]",
      "text/plain": [
       "<Figure size 576x432 with 1 Axes>"
      ]
     },
     "metadata": {
      "needs_background": "light"
     },
     "output_type": "display_data"
    }
   ],
   "source": [
    "def plot_roc_curve(fpr, tpr, label=None):\n",
    "    plt.plot(fpr, tpr, linewidth=2, label=label)\n",
    "    plt.plot([0, 1], [0, 1], 'k--') # dashed diagonal\n",
    "    plt.axis([0, 1, 0, 1])                                    # Not shown in the book\n",
    "    plt.xlabel('False Positive Rate (Fall-Out)', fontsize=16) # Not shown\n",
    "    plt.ylabel('True Positive Rate (Recall)', fontsize=16)    # Not shown\n",
    "    plt.grid(True)                                            # Not shown\n",
    "\n",
    "plt.figure(figsize=(8, 6))                                    # Not shown\n",
    "plot_roc_curve(fpr, tpr)\n",
    "fpr_90 = fpr[np.argmax(tpr >= recall_90_precision)]           # Not shown\n",
    "plt.plot([fpr_90, fpr_90], [0., recall_90_precision], \"r:\")   # Not shown\n",
    "plt.plot([0.0, fpr_90], [recall_90_precision, recall_90_precision], \"r:\")  # Not shown\n",
    "plt.plot([fpr_90], [recall_90_precision], \"ro\")               # Not shown\n",
    "save_fig(\"roc_curve_plot\")                                    # Not shown\n",
    "plt.show()"
   ]
  },
  {
   "cell_type": "markdown",
   "id": "11bb67fa-d7f1-4d81-b252-162b1b635d38",
   "metadata": {},
   "source": [
    "- A linha tracejada representa a Curva ROC de um classificador aleatório\n",
    "- Um bom classificador deve ficar o mais distante possível da linha tracejada em direção ao topo esquerdo"
   ]
  },
  {
   "cell_type": "markdown",
   "id": "656f2855-9d83-4044-84e0-75f1644814b3",
   "metadata": {},
   "source": [
    "### Área Sob a Curva ROC (ROC Area Under the Curve - ROC AUC)"
   ]
  },
  {
   "cell_type": "markdown",
   "id": "64634d23-aa00-41c1-b260-6d08c6c1b308",
   "metadata": {},
   "source": [
    "- Uma forma de comparar classificadores é com a Área Sob a Curva ROC\n",
    "- Um classificador perfeito tem valor de ROC AUC igual a 1"
   ]
  },
  {
   "cell_type": "markdown",
   "id": "aa07f22a-2c5b-4cfa-9381-de59c6c5d3a4",
   "metadata": {},
   "source": [
    "#### Dica\n",
    "\n",
    "- Como decidir qual método utilizar? Precision/Recall (PR) ou Curva ROC?\n",
    "    - Como regra geral, prefira PR em qualquer momento que a classe positiva seja rara, ou, preocupe mais Falsos Positivos que Flasos Negativos.]\n",
    "    - Caso contrário, use Curva ROC"
   ]
  },
  {
   "cell_type": "markdown",
   "id": "d6cc16cf-c3ac-4fe2-b24b-2c668f7ed3ae",
   "metadata": {},
   "source": [
    "### Comparando a Curva ROC do SGDClassifier x RandomForestClassifier"
   ]
  },
  {
   "cell_type": "markdown",
   "id": "0c4cfd55-6d63-4b8e-a3b9-1305d200d861",
   "metadata": {},
   "source": [
    "- O RandomForestClassifier não possui a função decision_function(), porém possui a função predict_prob() que retorna  um array contendo uma linha por instância e uma coluna por classe, cada um contendo a probabilidade de da instância pertencer àquela classe."
   ]
  },
  {
   "cell_type": "code",
   "execution_count": 42,
   "id": "6d25d9f8-e3fd-4620-85b2-7d0668f560b6",
   "metadata": {},
   "outputs": [],
   "source": [
    "from sklearn.ensemble import RandomForestClassifier\n",
    "forest_clf = RandomForestClassifier(n_estimators=100, random_state=42)\n",
    "y_probas_forest = cross_val_predict(forest_clf, X_train, y_train_5, cv=3,\n",
    "                                    method=\"predict_proba\")"
   ]
  },
  {
   "cell_type": "code",
   "execution_count": 57,
   "id": "000cc4b6-4da9-4606-a80e-45895cff884e",
   "metadata": {},
   "outputs": [
    {
     "data": {
      "text/plain": [
       "array([[0.11, 0.89],\n",
       "       [0.99, 0.01],\n",
       "       [0.96, 0.04],\n",
       "       ...,\n",
       "       [0.02, 0.98],\n",
       "       [0.92, 0.08],\n",
       "       [0.94, 0.06]])"
      ]
     },
     "execution_count": 57,
     "metadata": {},
     "output_type": "execute_result"
    }
   ],
   "source": [
    "y_probas_forest"
   ]
  },
  {
   "cell_type": "code",
   "execution_count": 56,
   "id": "f49969b5-92c7-4e94-8ace-c708c9cddbb2",
   "metadata": {},
   "outputs": [
    {
     "data": {
      "text/plain": [
       "array([False,  True])"
      ]
     },
     "execution_count": 56,
     "metadata": {},
     "output_type": "execute_result"
    }
   ],
   "source": [
    "# A classe será ordenada nesta ordem\n",
    "np.unique(y_train_5)"
   ]
  },
  {
   "cell_type": "code",
   "execution_count": 48,
   "id": "aeff0133-99b6-4de0-bed1-e172aaa99b47",
   "metadata": {},
   "outputs": [],
   "source": [
    "y_scores_forest = y_probas_forest[:, 1] # score = probabilidade da classe positiva\n",
    "fpr_forest, tpr_forest, thresholds_forest = roc_curve(y_train_5,y_scores_forest)"
   ]
  },
  {
   "cell_type": "code",
   "execution_count": 59,
   "id": "d18d9feb-f171-437d-ba99-223ce861a53f",
   "metadata": {},
   "outputs": [
    {
     "name": "stdout",
     "output_type": "stream",
     "text": [
      "Saving figure roc_curve_comparison_plot\n"
     ]
    },
    {
     "data": {
      "image/png": "[encoded data removed]",
      "text/plain": [
       "<Figure size 576x432 with 1 Axes>"
      ]
     },
     "metadata": {
      "needs_background": "light"
     },
     "output_type": "display_data"
    }
   ],
   "source": [
    "recall_for_forest = tpr_forest[np.argmax(fpr_forest >= fpr_90)]\n",
    "\n",
    "plt.figure(figsize=(8, 6))\n",
    "plt.plot(fpr, tpr, \"b:\", linewidth=2, label=\"SGD\")\n",
    "plot_roc_curve(fpr_forest, tpr_forest, \"Random Forest\")\n",
    "plt.plot([fpr_90, fpr_90], [0., recall_90_precision], \"r:\")\n",
    "plt.plot([0.0, fpr_90], [recall_90_precision, recall_90_precision], \"r:\")\n",
    "plt.plot([fpr_90], [recall_90_precision], \"ro\")\n",
    "plt.plot([fpr_90, fpr_90], [0., recall_for_forest], \"r:\")\n",
    "plt.plot([fpr_90], [recall_for_forest], \"ro\")\n",
    "plt.grid(True)\n",
    "plt.legend(loc=\"lower right\", fontsize=16)\n",
    "save_fig(\"roc_curve_comparison_plot\")\n",
    "plt.show()"
   ]
  },
  {
   "cell_type": "markdown",
   "id": "8d725383-fc35-4768-bf03-9434b29c1ab0",
   "metadata": {},
   "source": [
    "- Gráfico comparando os dois algoritmos SGD e RandomForest, sendo que o RandomForest foi superior que o SGD"
   ]
  }
 ],
 "metadata": {
  "kernelspec": {
   "display_name": "datascience_guide",
   "language": "python",
   "name": "datascience_guide"
  },
  "language_info": {
   "codemirror_mode": {
    "name": "ipython",
    "version": 3
   },
   "file_extension": ".py",
   "mimetype": "text/x-python",
   "name": "python",
   "nbconvert_exporter": "python",
   "pygments_lexer": "ipython3",
   "version": "3.8.12"
  }
 },
 "nbformat": 4,
 "nbformat_minor": 5
}
