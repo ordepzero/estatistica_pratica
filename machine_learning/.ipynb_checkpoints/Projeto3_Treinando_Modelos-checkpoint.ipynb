{
 "cells": [
  {
   "cell_type": "markdown",
   "id": "80574fa2-8feb-4158-b264-3883efa4e814",
   "metadata": {},
   "source": [
    "### Objetivos deste projeto\n",
    "\n",
    "- Apresentar duas formas de treinamento de um modelo de Regressão Linear\n",
    "    - Closed-form\n",
    "    - Otimização iterativa (Gradiente Descendente)\n",
    "- Regressão Polinomial\n",
    "- Técnicas de Regularização e Curvas de Aprendizado\n",
    "- Regressão Logística\n",
    "- Regressão Softmax"
   ]
  },
  {
   "cell_type": "markdown",
   "id": "eb5446dc-0e19-49c1-8840-09c572893caa",
   "metadata": {},
   "source": [
    "### Regressão Linear"
   ]
  },
  {
   "cell_type": "markdown",
   "id": "7064bf28-44ba-4cf2-9ed7-de31f51873db",
   "metadata": {},
   "source": [
    "A equação da regressão linear é representada por:\r\n",
    "\r\n",
    "$ Y = \\beta_0 + \\beta_1 X + \\epsilon $\r\n",
    "\r\n",
    "Onde:\r\n",
    "- $ Y $ é a variável dependente (ou resposta)\r\n",
    "- $ X $ é a variável independente (ou preditora)\r\n",
    "- $ \\beta_0 $ é o coeficiente de interceptação (ou constante)\r\n",
    "- $ \\beta_1 $ é o coeficiente angular (ou coeficiente da variável independente)\r\n",
    "- $ \\epsilon $ é o erro aleatório"
   ]
  },
  {
   "cell_type": "markdown",
   "id": "1253fc98-04ee-4043-99e5-bcec3662458a",
   "metadata": {},
   "source": [
    "### Mean Square Error (MSE)\n",
    "\n",
    "O Mean Square Error (MSE) é a função de custo do modelo de Regressão Linear, o treinamento do modelo ocorre com a diminuição do MSE. calculado pela seguinte equação: \n",
    " \n",
    "$ MSE = \\frac{1}{n} \\Sigma_{i=1}^n({Y_{i}}-\\hat{Y_{i}})^2 $ \n",
    "\n",
    "Onde:\n",
    "\n",
    "- $ MSE $ é o Mean Square Error (Erro Quadrático Médio)\n",
    "- $ n $ é o número de observações\n",
    "- $ Y_{i} $  é o valor observado da variável dependente para a i-ésima observação\n",
    "- $ \\hat{Y_{i}} $ é o valor previsto da variável dependente para a i-ésima observação"
   ]
  }
 ],
 "metadata": {
  "kernelspec": {
   "display_name": "Python 3 (ipykernel)",
   "language": "python",
   "name": "python3"
  },
  "language_info": {
   "codemirror_mode": {
    "name": "ipython",
    "version": 3
   },
   "file_extension": ".py",
   "mimetype": "text/x-python",
   "name": "python",
   "nbconvert_exporter": "python",
   "pygments_lexer": "ipython3",
   "version": "3.8.18"
  }
 },
 "nbformat": 4,
 "nbformat_minor": 5
}
