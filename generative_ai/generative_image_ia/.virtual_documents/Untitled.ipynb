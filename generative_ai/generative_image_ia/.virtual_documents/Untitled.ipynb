





import tensorflow as tf


import tensorflow as tf
from tensorflow.keras import layers, models
import numpy as np

# Define o gerador
def make_generator_model():
    model = models.Sequential()
    model.add(layers.Dense(7*7*256, use_bias=False, input_shape=(100,)))
    model.add(layers.BatchNormalization())
    model.add(layers.LeakyReLU())

    model.add(layers.Reshape((7, 7, 256)))
    assert model.output_shape == (None, 7, 7, 256) # Note: None is the batch size

    model.add(layers.Conv2DTranspose(128, (5, 5), strides=(1, 1), padding='same', use_bias=False))
    assert model.output_shape == (None, 7, 7, 128)
    model.add(layers.BatchNormalization())
    model.add(layers.LeakyReLU())

    model.add(layers.Conv2DTranspose(64, (5, 5), strides=(2, 2), padding='same', use_bias=False))
    assert model.output_shape == (None, 14, 14, 64)
    model.add(layers.BatchNormalization())
    model.add(layers.LeakyReLU())

    model.add(layers.Conv2DTranspose(1, (5, 5), strides=(2, 2), padding='same', use_bias=False, activation='tanh'))
    assert model.output_shape == (None, 28, 28, 1)

    return model

# Define o discriminador
def make_discriminator_model():
    model = models.Sequential()
    model.add(layers.Conv2D(64, (5, 5), strides=(2, 2), padding='same',
                                     input_shape=[28, 28, 1]))
    model.add(layers.LeakyReLU())
    model.add(layers.Dropout(0.3))

    model.add(layers.Conv2D(128, (5, 5), strides=(2, 2), padding='same'))
    model.add(layers.LeakyReLU())
    model.add(layers.Dropout(0.3))

    model.add(layers.Flatten())
    model.add(layers.Dense(1))

    return model

# Define o modelo GAN
def make_gan(generator, discriminator):
    discriminator.trainable = False
    gan = models.Sequential([generator, discriminator])
    return gan

# Carrega os dados
(x_train, _), (_, _) = tf.keras.datasets.mnist.load_data()
x_train = x_train.reshape(x_train.shape[0], 28, 28, 1).astype('float32')
x_train = (x_train - 127.5) / 127.5 # Normaliza as imagens para [-1, 1]

# Cria os modelos
generator = make_generator_model()
discriminator = make_discriminator_model()

# Compila o discriminador
discriminator.compile(optimizer='adam', loss=tf.keras.losses.BinaryCrossentropy(from_logits=True), metrics=['accuracy'])

# Compila o modelo GAN
gan = make_gan(generator, discriminator)
gan.compile(optimizer='adam', loss=tf.keras.losses.BinaryCrossentropy(from_logits=True))

# Treina o modelo
EPOCHS = 50
BATCH_SIZE = 256

for epoch in range(EPOCHS):
    for i in range(x_train.shape[0] // BATCH_SIZE):
        noise = np.random.normal(0, 1, (BATCH_SIZE, 100))
        generated_images = generator.predict(noise)
        real_images = x_train[np.random.randint(0, x_train.shape[0], BATCH_SIZE)]
        x = np.concatenate([real_images, generated_images])
        y = np.concatenate([np.ones((BATCH_SIZE, 1)), np.zeros((BATCH_SIZE, 1))])
        y += 0.05 * np.random.random(y.shape)
        discriminator.trainable = True
        d_loss = discriminator.train_on_batch(x, y)
        noise = np.random.normal(0, 1, (BATCH_SIZE, 100))
        y = np.ones((BATCH_SIZE, 1))
        discriminator.trainable = False
        g_loss = gan.train_on_batch(noise, y)
    print("Epoch:", epoch + 1, "D Loss:", d_loss[0], "G Loss:", g_loss)

# Salva o modelo gerador
generator.save('generator_model.h5')



# Carrega o modelo gerador treinado
generator = tf.keras.models.load_model('generator_model.h5')

# Gera imagens a partir de ruído aleatório
noise = np.random.normal(0, 1, (10, 100))
generated_images = generator.predict(noise)

# Exibe as imagens geradas
import matplotlib.pyplot as plt
for i in range(10):
    plt.imshow(generated_images[i, :, :, 0], cmap='gray')
    plt.axis('off')
    plt.show()



!pip install tensorflow
