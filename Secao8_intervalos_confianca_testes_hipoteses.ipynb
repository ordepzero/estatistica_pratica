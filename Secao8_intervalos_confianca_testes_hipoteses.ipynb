{
 "cells": [
  {
   "cell_type": "markdown",
   "id": "2ba0e65d-d267-4764-ad2d-f48afd338a1f",
   "metadata": {},
   "source": [
    "### Intervalo de confiança\n",
    "\n",
    "Intervalo em que uma estatística é encontrado com um nível de confiança."
   ]
  },
  {
   "cell_type": "markdown",
   "id": "82cc3a43-ae1a-406a-bd96-7c83cb2df89b",
   "metadata": {},
   "source": [
    "#### Nível de confiança\n",
    "\n",
    "Indica que os experimentos estarão dentro do intervalo de confiança com essa certeza, ou, com esse nível de confiança. Por exemplo, nível de confiança de 95%, indica que em 95% do casos, a população real estará neste intervalo de confiança."
   ]
  },
  {
   "cell_type": "markdown",
   "id": "81aa0822-1255-40c1-be53-907d7e176b13",
   "metadata": {
    "tags": []
   },
   "source": [
    "### Definindo o intervalo de confiança\n",
    "\n",
    "- $\\bar x - Z_{\\alpha / 2} *  \\dfrac{\\mu}{\\sqrt{n}} $\n",
    "- $\\bar x + Z_{\\alpha / 2} *  \\dfrac{\\mu}{\\sqrt{n}} $\n",
    "\n",
    "\n",
    "Onde:\n",
    "\n",
    "$\\bar x$: média da amostra\n",
    "\n",
    "$Z$: escore Z, É o quanto uma medida se afasta da média em termos de Desvios.\n",
    "\n",
    "$\\alpha$ : 1 - nível de confiança\n",
    "\n",
    "$\\mu$: desvio padrão\n",
    "\n",
    "\n",
    "***É importante resaltar que os nossos dados devem ter distribuição normal para aplicar esses cálculos.***"
   ]
  },
  {
   "cell_type": "markdown",
   "id": "5375fc15-00a9-44cd-8245-12f47cedf0f5",
   "metadata": {
    "tags": []
   },
   "source": [
    "### Como consultar a Tabela Z\n",
    "\n",
    "- Busca na tabela o valor resultado do cálculo $\\alpha$/2.\n",
    "- Encontra os valores correspondentes na primeira coluna e primeira linha\n",
    "- $Z_{\\alpha / 2}$ é igual a soma dos dois valores"
   ]
  },
  {
   "cell_type": "markdown",
   "id": "51e6b077-fbbc-47fa-9818-38ef79249b02",
   "metadata": {},
   "source": [
    "### Exemplo prático - Calculando o intervalo de confiança manualmente"
   ]
  },
  {
   "cell_type": "code",
   "execution_count": 2,
   "id": "885be10f-7648-4190-b845-a6f2f30e724e",
   "metadata": {},
   "outputs": [],
   "source": [
    "import numpy as np\n",
    "from scipy.stats import norm\n",
    "from scipy import stats\n",
    "import seaborn as sns\n",
    "import math"
   ]
  },
  {
   "cell_type": "code",
   "execution_count": 5,
   "id": "8f633056-58b2-4586-95a5-e345c7781d69",
   "metadata": {
    "jp-MarkdownHeadingCollapsed": true,
    "tags": []
   },
   "outputs": [],
   "source": [
    "# Dados de altura de pessoas\n",
    "dados = np.array([126. , 129.5, 133. , 133. , 136.5, 136.5, 140. , 140. , 140. ,\n",
    "                  140. , 143.5, 143.5, 143.5, 143.5, 143.5, 143.5, 147. , 147. ,\n",
    "                  147. , 147. , 147. , 147. , 147. , 150.5, 150.5, 150.5, 150.5,\n",
    "                  150.5, 150.5, 150.5, 150.5, 154. , 154. , 154. , 154. , 154. ,\n",
    "                  154. , 154. , 154. , 154. , 157.5, 157.5, 157.5, 157.5, 157.5,\n",
    "                  157.5, 157.5, 157.5, 157.5, 157.5, 161. , 161. , 161. , 161. ,\n",
    "                  161. , 161. , 161. , 161. , 161. , 161. , 164.5, 164.5, 164.5,\n",
    "                  164.5, 164.5, 164.5, 164.5, 164.5, 164.5, 168. , 168. , 168. ,\n",
    "                  168. , 168. , 168. , 168. , 168. , 171.5, 171.5, 171.5, 171.5,\n",
    "                  171.5, 171.5, 171.5, 175. , 175. , 175. , 175. , 175. , 175. ,\n",
    "                  178.5, 178.5, 178.5, 178.5, 182. , 182. , 185.5, 185.5, 189., 192.5])"
   ]
  },
  {
   "cell_type": "code",
   "execution_count": 6,
   "id": "d2d36673-5389-4530-a885-1bb1b4543522",
   "metadata": {},
   "outputs": [
    {
     "data": {
      "text/plain": [
       "100"
      ]
     },
     "execution_count": 6,
     "metadata": {},
     "output_type": "execute_result"
    }
   ],
   "source": [
    "n = len(dados)\n",
    "n"
   ]
  },
  {
   "cell_type": "code",
   "execution_count": 13,
   "id": "9afd4544-6338-4bcd-a463-4178dbc501fc",
   "metadata": {},
   "outputs": [
    {
     "data": {
      "text/plain": [
       "159.25"
      ]
     },
     "execution_count": 13,
     "metadata": {},
     "output_type": "execute_result"
    }
   ],
   "source": [
    "media = np.mean(dados)\n",
    "media"
   ]
  },
  {
   "cell_type": "code",
   "execution_count": 7,
   "id": "463d3bcf-ba36-4d95-a25b-38c962cb2fba",
   "metadata": {},
   "outputs": [
    {
     "data": {
      "text/plain": [
       "13.65"
      ]
     },
     "execution_count": 7,
     "metadata": {},
     "output_type": "execute_result"
    }
   ],
   "source": [
    "desvio_padrao = np.std(dados)\n",
    "desvio_padrao"
   ]
  },
  {
   "cell_type": "code",
   "execution_count": 8,
   "id": "6cb88dca-c5a7-4746-8f62-b9d7c1abf069",
   "metadata": {},
   "outputs": [
    {
     "data": {
      "text/plain": [
       "0.025"
      ]
     },
     "execution_count": 8,
     "metadata": {},
     "output_type": "execute_result"
    }
   ],
   "source": [
    "alpha = 0.05 / 2\n",
    "alpha"
   ]
  },
  {
   "cell_type": "code",
   "execution_count": 9,
   "id": "f30284e7-bac5-4b22-8f2b-a2ab5b43cd94",
   "metadata": {},
   "outputs": [
    {
     "data": {
      "text/plain": [
       "0.975"
      ]
     },
     "execution_count": 9,
     "metadata": {},
     "output_type": "execute_result"
    }
   ],
   "source": [
    "1 - alpha"
   ]
  },
  {
   "cell_type": "code",
   "execution_count": 11,
   "id": "bb01880e-2db7-49fb-bca8-7e5906538f31",
   "metadata": {},
   "outputs": [
    {
     "data": {
      "text/plain": [
       "1.959963984540054"
      ]
     },
     "execution_count": 11,
     "metadata": {},
     "output_type": "execute_result"
    }
   ],
   "source": [
    "z = norm.ppf(1 - alpha)\n",
    "z"
   ]
  },
  {
   "cell_type": "code",
   "execution_count": 14,
   "id": "b25f33b0-de42-4856-ae77-f0245db68d81",
   "metadata": {},
   "outputs": [
    {
     "data": {
      "text/plain": [
       "156.57464916110283"
      ]
     },
     "execution_count": 14,
     "metadata": {},
     "output_type": "execute_result"
    }
   ],
   "source": [
    "x_inferior = media - z * (desvio_padrao / math.sqrt(n))\n",
    "x_inferior"
   ]
  },
  {
   "cell_type": "code",
   "execution_count": 15,
   "id": "07c8dadc-238d-4a43-ad6f-360ad3f1dfa0",
   "metadata": {
    "tags": []
   },
   "outputs": [
    {
     "data": {
      "text/plain": [
       "161.92535083889717"
      ]
     },
     "execution_count": 15,
     "metadata": {},
     "output_type": "execute_result"
    }
   ],
   "source": [
    "x_superior = media + z * (desvio_padrao / math.sqrt(n))\n",
    "x_superior"
   ]
  },
  {
   "cell_type": "code",
   "execution_count": 16,
   "id": "a45f8bb9-2af2-4d3b-9ac6-b7bd4e654a30",
   "metadata": {},
   "outputs": [
    {
     "data": {
      "text/plain": [
       "2.675350838897174"
      ]
     },
     "execution_count": 16,
     "metadata": {},
     "output_type": "execute_result"
    }
   ],
   "source": [
    "margem_erro = abs(media - x_superior)\n",
    "margem_erro"
   ]
  },
  {
   "cell_type": "code",
   "execution_count": 19,
   "id": "20480cb2-51a2-4243-b1ca-04f9a70cac26",
   "metadata": {},
   "outputs": [
    {
     "name": "stderr",
     "output_type": "stream",
     "text": [
      "C:\\ProgramData\\Anaconda3\\lib\\site-packages\\seaborn\\distributions.py:2619: FutureWarning: `distplot` is a deprecated function and will be removed in a future version. Please adapt your code to use either `displot` (a figure-level function with similar flexibility) or `histplot` (an axes-level function for histograms).\n",
      "  warnings.warn(msg, FutureWarning)\n"
     ]
    },
    {
     "data": {
      "image/png": "[encoded data removed]",
      "text/plain": [
       "<Figure size 432x288 with 1 Axes>"
      ]
     },
     "metadata": {
      "needs_background": "light"
     },
     "output_type": "display_data"
    }
   ],
   "source": [
    "sns.distplot(dados);"
   ]
  },
  {
   "cell_type": "markdown",
   "id": "f4988fa7-4c35-4148-adae-e0a304e564fd",
   "metadata": {},
   "source": [
    "### Exemplo prático - Calculando o intervalo de confiança com scipy"
   ]
  },
  {
   "cell_type": "markdown",
   "id": "d4ed0391-970c-405b-a4c4-e97ed7cabb49",
   "metadata": {},
   "source": [
    "https://docs.scipy.org/doc/scipy/reference/generated/scipy.stats.norm.html"
   ]
  },
  {
   "cell_type": "code",
   "execution_count": 21,
   "id": "33097755-df3f-4941-9b45-007fbd298c3e",
   "metadata": {},
   "outputs": [
    {
     "data": {
      "text/plain": [
       "1.3718766178288244"
      ]
     },
     "execution_count": 21,
     "metadata": {},
     "output_type": "execute_result"
    }
   ],
   "source": [
    "# Significa Standard Error of the Mean. É a divisão do desvio padrão pela raiz quadrada do tamanho da amostra\n",
    "stats.sem(dados)"
   ]
  },
  {
   "cell_type": "code",
   "execution_count": 22,
   "id": "1d464fb7-4e16-49a4-8c76-be1d34e767d2",
   "metadata": {},
   "outputs": [
    {
     "data": {
      "text/plain": [
       "1.3718766178288246"
      ]
     },
     "execution_count": 22,
     "metadata": {},
     "output_type": "execute_result"
    }
   ],
   "source": [
    "desvio_padrao / math.sqrt(n - 1)"
   ]
  },
  {
   "cell_type": "markdown",
   "id": "00c05ea6-d173-4ae9-b8e2-2c0c567f4081",
   "metadata": {},
   "source": [
    "##### Intervalo"
   ]
  },
  {
   "cell_type": "code",
   "execution_count": 23,
   "id": "b91e6757-8eb8-485e-9799-383d2b66f099",
   "metadata": {},
   "outputs": [
    {
     "data": {
      "text/plain": [
       "(156.5611712378229, 161.9388287621771)"
      ]
     },
     "execution_count": 23,
     "metadata": {},
     "output_type": "execute_result"
    }
   ],
   "source": [
    "intervalos = norm.interval(0.95, media, stats.sem(dados))\n",
    "intervalos"
   ]
  },
  {
   "cell_type": "markdown",
   "id": "3095163c-7191-45e3-8e6b-0d01fd1b8925",
   "metadata": {},
   "source": [
    "> Mesmo intervalo calculado manualmente"
   ]
  },
  {
   "cell_type": "code",
   "execution_count": 25,
   "id": "fff09325-fb8c-4695-956c-4e1a9387a898",
   "metadata": {},
   "outputs": [
    {
     "data": {
      "text/plain": [
       "2.68882876217711"
      ]
     },
     "execution_count": 25,
     "metadata": {},
     "output_type": "execute_result"
    }
   ],
   "source": [
    "margem_erro = media - intervalos[0]\n",
    "margem_erro"
   ]
  },
  {
   "cell_type": "markdown",
   "id": "a524d24f-4cdb-4e03-8c4d-bc59adc0c2ad",
   "metadata": {},
   "source": [
    "### Diferentes níveis de confiança"
   ]
  },
  {
   "cell_type": "code",
   "execution_count": 27,
   "id": "d08aec28-39d1-468b-8664-7187165a71c4",
   "metadata": {},
   "outputs": [
    {
     "data": {
      "text/plain": [
       "(155.71628000694295, 162.78371999305705)"
      ]
     },
     "execution_count": 27,
     "metadata": {},
     "output_type": "execute_result"
    }
   ],
   "source": [
    "# 99%\n",
    "intervalos = norm.interval(0.99, media, stats.sem(dados))\n",
    "intervalos"
   ]
  },
  {
   "cell_type": "code",
   "execution_count": 28,
   "id": "5f2aa6a8-f58f-42c8-9f27-ccb2a25167ec",
   "metadata": {},
   "outputs": [
    {
     "data": {
      "text/plain": [
       "(157.49186937268743, 161.00813062731257)"
      ]
     },
     "execution_count": 28,
     "metadata": {},
     "output_type": "execute_result"
    }
   ],
   "source": [
    "# 80%\n",
    "intervalos = norm.interval(0.8, media, stats.sem(dados))\n",
    "intervalos"
   ]
  },
  {
   "cell_type": "markdown",
   "id": "7c60b912-dc62-4922-a7eb-dd2698f01207",
   "metadata": {},
   "source": [
    "> o intervalo diminui à medida que o nível de confiança aumenta"
   ]
  }
 ],
 "metadata": {
  "kernelspec": {
   "display_name": "Python 3 (ipykernel)",
   "language": "python",
   "name": "python3"
  },
  "language_info": {
   "codemirror_mode": {
    "name": "ipython",
    "version": 3
   },
   "file_extension": ".py",
   "mimetype": "text/x-python",
   "name": "python",
   "nbconvert_exporter": "python",
   "pygments_lexer": "ipython3",
   "version": "3.8.12"
  }
 },
 "nbformat": 4,
 "nbformat_minor": 5
}
