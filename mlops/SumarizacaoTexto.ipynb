{
 "cells": [
  {
   "cell_type": "markdown",
   "id": "89e7700c-af3b-4a39-95f2-4da107d72b47",
   "metadata": {},
   "source": [
    "### Projeto de Sumarização de Texto de Ponta-a-ponta\n",
    "\n",
    "1. Introdução e configuração do repositório GitHub\n",
    "2. Criação de modelo de projeto\n",
    "3. Configuração do projeto e instalação de requisitos\n",
    "4. Módulo de registro, utilitários e exceção\n",
    "5. Fluxos de trabalho do projeto\n",
    "6. Experiência de notebook com todos os componentes\n",
    "7. Implementação de código modular de todos os componentes\n",
    "8. Pipeline de treinamento\n",
    "9. Pipeline de previsão e criação de aplicativos de usuário\n",
    "10. Implantação final de CI/CD na AWS"
   ]
  }
 ],
 "metadata": {
  "kernelspec": {
   "display_name": "Python 3 (ipykernel)",
   "language": "python",
   "name": "python3"
  },
  "language_info": {
   "codemirror_mode": {
    "name": "ipython",
    "version": 3
   },
   "file_extension": ".py",
   "mimetype": "text/x-python",
   "name": "python",
   "nbconvert_exporter": "python",
   "pygments_lexer": "ipython3",
   "version": "3.8.18"
  }
 },
 "nbformat": 4,
 "nbformat_minor": 5
}
