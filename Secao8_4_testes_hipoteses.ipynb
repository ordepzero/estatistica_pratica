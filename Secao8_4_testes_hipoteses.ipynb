{
 "cells": [
  {
   "cell_type": "markdown",
   "id": "e43607e4",
   "metadata": {},
   "source": [
    "### Testes de Hipóteses"
   ]
  },
  {
   "cell_type": "markdown",
   "id": "fa540887",
   "metadata": {},
   "source": [
    "- Usado tomar uma decisão entre duas ou mais hipóteses, utilizando os dados observados de um determinado experimento.\n",
    "- Hipótese: idéia a ser testada\n",
    "- Hipótese nula (H0): \n",
    "    - afirmação que já existia\n",
    "    - presumir que é verdadeira até que se prove o contrário\n",
    "- Hipótese alternativa (H1): \n",
    "    - o que está tentando se provar (tudo o que é diferente da nula)\n",
    "- Alfa\n",
    "    - probabiliadde de rejeitar a hipótese nula, quanto menor mais seguro é o resultado (nível de significância) - em geral 0,01 ou 0,05\n",
    "    - Ex: 5% de chances de concluir que existe uma diferença quando não há diferença real\n",
    "- Valor de p (p-value)\n",
    "    - valor calculado pelo teste usado para rejeitar ou aceitar as hipóteses\n",
    "    - p-value >= alfa: não rejeita H0 (não há evidências)\n",
    "- Erro Tipo I\n",
    "    - rejeitar hipótese nula (H0) quando não deveria\n",
    "- Erro Tipo II\n",
    "    - não rejeitar hipótese nula (H0) quando deveria rejeitar"
   ]
  },
  {
   "cell_type": "markdown",
   "id": "cd94503e",
   "metadata": {},
   "source": [
    "### Qual teste usar?\n",
    "\n",
    "#### Teste de Hipótese Z ou Teste de Hipótese T?\n",
    "- Usa-se o Teste de Hipótese Z quando a amostra tiver mais de 30 amostra, caso contrário, usar o Teste de hipótese T"
   ]
  },
  {
   "cell_type": "markdown",
   "id": "e51ee0c9",
   "metadata": {},
   "source": [
    "### Teste de Hipótese Z\n",
    "- Usa a estatística Z\n",
    "- Usa-se quando o desvio padrão é conhecido\n",
    "- Fórmula:\n",
    "$ Z = \\dfrac{\\bar X - \\mu_0}{\\dfrac{\\sigma}{\\sqrt{n}}} $ \n",
    "\n",
    "Onde:\n",
    "\n",
    "$\\bar X$: é a estatística a ser testada (H1), ex: média\n",
    "\n",
    "$\\mu_0$: é a estatística considerada (H0), ex: média\n",
    "\n",
    "$\\sigma$: desvio padrão\n",
    "\n",
    "$n$: tamanho da amostra"
   ]
  },
  {
   "cell_type": "markdown",
   "id": "253a0f79",
   "metadata": {},
   "source": [
    "### Exemplo tirado de um site\n",
    "\n",
    "\n",
    "Uma indústria produz discos de metal, segundo o vendedor, os diâmetros dos discos são de **10 cm**, com **desvio padrão de 0,13 cm**. O comprador selecionou **30** discos aleatoriamente para confirmar os diâmetros e obteve **média 9,9 cm**. O comprador deseja confirmar os diâmetros para **uma $\\alfa$ = 0,05**.\n",
    "\n",
    "- Passo 1: Escreva suas hipóteses\n",
    "- H0: os discos tem 10 cm de diâmetro (m = 10)\n",
    "- H1: os discos tem diâmetro diferente de 10 cm (m ≠10)\n",
    "- Teste bicaudal\n",
    "\n",
    "$ Z_{calc} = \\dfrac{(9.9 - 10)}{\\dfrac{0.13}{\\sqrt{30}}}  = -4.347$\n",
    "\n",
    "$ Z_{cric} = 1 - (\\dfrac{\\alpha}{2}) $ \n",
    "\n",
    "$ Z_{cric} =  1 - \\dfrac{0.05}{2} $\n",
    "\n",
    "$ Z_{cric} =  1 - 0.025  = 0.975 $ (busca na tabela Z)\n",
    "\n",
    "$ Z_{cric} = 1.96 $\n",
    "\n",
    "\n",
    "#### Decisão\n",
    "\n",
    "Se $ Z_{calc} ≥ Z_{crit}$ Rejeita H0. Porque as chances de erro são pequenas\n",
    "\n",
    "Se $ Z_{calc} < Z_{crit}$ Não Rejeita H0. Porque as chances de erro são grandes\n",
    "\n",
    "Valor (tabela) do $Z_{crit}$ = 1,96\n",
    "\n",
    "Temos:\n",
    "\n",
    "$Z_{calc} = -4,34 $\n",
    "\n",
    "Então: |- 4,34| > |1,96|\n",
    "\n",
    "Logo, rejeitamos a H0.\n",
    "\n",
    "http://www.leg.ufpr.br/lib/exe/fetch.php/disciplinas:ce001:teste_z_-_para_apresentar.pdf\n",
    "\n",
    "[Outro exemplo] https://fumachi.mat.br/2023/03/27/teste-z/"
   ]
  },
  {
   "cell_type": "markdown",
   "id": "71a938ff",
   "metadata": {},
   "source": [
    "### Exercício Prático - Teste de Hipótese Z"
   ]
  },
  {
   "cell_type": "code",
   "execution_count": 1,
   "id": "e0b22a30",
   "metadata": {},
   "outputs": [],
   "source": [
    "import numpy as np\n",
    "import math\n",
    "from scipy.stats import norm"
   ]
  },
  {
   "cell_type": "code",
   "execution_count": 2,
   "id": "671df9f6",
   "metadata": {},
   "outputs": [],
   "source": [
    "dados_originais = np.array([126. , 129.5, 133. , 133. , 136.5, 136.5, 140. , 140. , 140. ,\n",
    "                            140. , 143.5, 143.5, 143.5, 143.5, 143.5, 143.5, 147. , 147. ,\n",
    "                            147. , 147. , 147. , 147. , 147. , 150.5, 150.5, 150.5, 150.5,\n",
    "                            150.5, 150.5, 150.5, 150.5, 154. , 154. , 154. , 154. , 154. ,\n",
    "                            154. , 154. , 154. , 154. , 157.5, 157.5, 157.5, 157.5, 157.5,\n",
    "                            157.5, 157.5, 157.5, 157.5, 157.5, 161. , 161. , 161. , 161. ,\n",
    "                            161. , 161. , 161. , 161. , 161. , 161. , 164.5, 164.5, 164.5,\n",
    "                            164.5, 164.5, 164.5, 164.5, 164.5, 164.5, 168. , 168. , 168. ,\n",
    "                            168. , 168. , 168. , 168. , 168. , 171.5, 171.5, 171.5, 171.5,\n",
    "                            171.5, 171.5, 171.5, 175. , 175. , 175. , 175. , 175. , 175. ,\n",
    "                            178.5, 178.5, 178.5, 178.5, 182. , 182. , 185.5, 185.5, 189., 192.5])"
   ]
  },
  {
   "cell_type": "code",
   "execution_count": 3,
   "id": "41a9238c",
   "metadata": {},
   "outputs": [
    {
     "data": {
      "text/plain": [
       "159.25"
      ]
     },
     "execution_count": 3,
     "metadata": {},
     "output_type": "execute_result"
    }
   ],
   "source": [
    "H0_media = np.mean(dados_originais)\n",
    "H0_media"
   ]
  },
  {
   "cell_type": "code",
   "execution_count": 4,
   "id": "ae4a53e3",
   "metadata": {},
   "outputs": [
    {
     "data": {
      "text/plain": [
       "13.65"
      ]
     },
     "execution_count": 4,
     "metadata": {},
     "output_type": "execute_result"
    }
   ],
   "source": [
    "H0_desvio_padrao = np.std(dados_originais)\n",
    "H0_desvio_padrao"
   ]
  },
  {
   "cell_type": "code",
   "execution_count": 5,
   "id": "062019ca",
   "metadata": {},
   "outputs": [
    {
     "data": {
      "text/plain": [
       "array([129.78 , 133.385, 136.99 , 136.99 , 140.595, 140.595, 144.2  ,\n",
       "       144.2  , 144.2  , 144.2  , 147.805, 147.805, 147.805, 147.805,\n",
       "       147.805, 147.805, 151.41 , 151.41 , 151.41 , 151.41 , 151.41 ,\n",
       "       151.41 , 151.41 , 155.015, 155.015, 155.015, 155.015, 155.015,\n",
       "       155.015, 155.015, 155.015, 158.62 , 158.62 , 158.62 , 158.62 ,\n",
       "       158.62 , 158.62 , 158.62 , 158.62 , 158.62 , 162.225, 162.225,\n",
       "       162.225, 162.225, 162.225, 162.225, 162.225, 162.225, 162.225,\n",
       "       162.225, 165.83 , 165.83 , 165.83 , 165.83 , 165.83 , 165.83 ,\n",
       "       165.83 , 165.83 , 165.83 , 165.83 , 169.435, 169.435, 169.435,\n",
       "       169.435, 169.435, 169.435, 169.435, 169.435, 169.435, 173.04 ,\n",
       "       173.04 , 173.04 , 173.04 , 173.04 , 173.04 , 173.04 , 173.04 ,\n",
       "       176.645, 176.645, 176.645, 176.645, 176.645, 176.645, 176.645,\n",
       "       180.25 , 180.25 , 180.25 , 180.25 , 180.25 , 180.25 , 183.855,\n",
       "       183.855, 183.855, 183.855, 187.46 , 187.46 , 191.065, 191.065,\n",
       "       194.67 , 198.275])"
      ]
     },
     "execution_count": 5,
     "metadata": {},
     "output_type": "execute_result"
    }
   ],
   "source": [
    "dados_novos = dados_originais * 1.03\n",
    "dados_novos"
   ]
  },
  {
   "cell_type": "code",
   "execution_count": 6,
   "id": "64e696e5",
   "metadata": {},
   "outputs": [
    {
     "data": {
      "text/plain": [
       "164.0275"
      ]
     },
     "execution_count": 6,
     "metadata": {},
     "output_type": "execute_result"
    }
   ],
   "source": [
    "H1_media = np.mean(dados_novos)\n",
    "H1_media"
   ]
  },
  {
   "cell_type": "code",
   "execution_count": 7,
   "id": "de1a4094",
   "metadata": {},
   "outputs": [
    {
     "data": {
      "text/plain": [
       "14.0595"
      ]
     },
     "execution_count": 7,
     "metadata": {},
     "output_type": "execute_result"
    }
   ],
   "source": [
    "H1_desvio_padrao = np.std(dados_novos)\n",
    "H1_desvio_padrao"
   ]
  },
  {
   "cell_type": "code",
   "execution_count": 8,
   "id": "2fbdc9b0",
   "metadata": {},
   "outputs": [
    {
     "data": {
      "text/plain": [
       "100"
      ]
     },
     "execution_count": 8,
     "metadata": {},
     "output_type": "execute_result"
    }
   ],
   "source": [
    "H1_n = len(dados_novos)\n",
    "H1_n"
   ]
  },
  {
   "cell_type": "code",
   "execution_count": 9,
   "id": "234f13b3",
   "metadata": {},
   "outputs": [],
   "source": [
    "alpha = 0.05"
   ]
  },
  {
   "cell_type": "markdown",
   "id": "d116004d",
   "metadata": {},
   "source": [
    "#### Teste de hipótese Z manual"
   ]
  },
  {
   "cell_type": "code",
   "execution_count": 10,
   "id": "d4dd723f",
   "metadata": {},
   "outputs": [
    {
     "data": {
      "text/plain": [
       "3.398058252427187"
      ]
     },
     "execution_count": 10,
     "metadata": {},
     "output_type": "execute_result"
    }
   ],
   "source": [
    "Z = (H1_media - H0_media) / (H1_desvio_padrao / math.sqrt(H1_n))\n",
    "Z"
   ]
  },
  {
   "cell_type": "code",
   "execution_count": 14,
   "id": "1caad8de",
   "metadata": {},
   "outputs": [
    {
     "data": {
      "text/plain": [
       "(0.9996606701617486, 3.3980582524271936)"
      ]
     },
     "execution_count": 14,
     "metadata": {},
     "output_type": "execute_result"
    }
   ],
   "source": [
    "# cdf é a probabilidade ACUMULATIVA\n",
    "# ppf retorna o valor de Z passando a probabilidade\n",
    "norm.cdf(3.398058252427187), norm.ppf(0.9996606701617486)"
   ]
  },
  {
   "cell_type": "code",
   "execution_count": 12,
   "id": "d411e147",
   "metadata": {},
   "outputs": [
    {
     "data": {
      "text/plain": [
       "0.9996606701617486"
      ]
     },
     "execution_count": 12,
     "metadata": {},
     "output_type": "execute_result"
    }
   ],
   "source": [
    "Z = norm.cdf(Z)\n",
    "Z"
   ]
  },
  {
   "cell_type": "code",
   "execution_count": 13,
   "id": "2dec52e8",
   "metadata": {},
   "outputs": [
    {
     "data": {
      "text/plain": [
       "0.00033932983825135654"
      ]
     },
     "execution_count": 13,
     "metadata": {},
     "output_type": "execute_result"
    }
   ],
   "source": [
    "p = 1 - Z\n",
    "p"
   ]
  },
  {
   "cell_type": "markdown",
   "id": "ff591d1c",
   "metadata": {},
   "source": [
    "#### Teste de hipótese Z com statsmodel"
   ]
  },
  {
   "cell_type": "markdown",
   "id": "e49b2f48",
   "metadata": {},
   "source": [
    "https://www.statsmodels.org/devel/generated/statsmodels.stats.weightstats.ztest.html"
   ]
  },
  {
   "cell_type": "code",
   "execution_count": 15,
   "id": "bb753b7a",
   "metadata": {},
   "outputs": [
    {
     "name": "stderr",
     "output_type": "stream",
     "text": [
      "C:\\ProgramData\\Anaconda3\\lib\\site-packages\\statsmodels\\compat\\pandas.py:61: FutureWarning: pandas.Int64Index is deprecated and will be removed from pandas in a future version. Use pandas.Index with the appropriate dtype instead.\n",
      "  from pandas import Int64Index as NumericIndex\n"
     ]
    }
   ],
   "source": [
    "from statsmodels.stats.weightstats import ztest"
   ]
  },
  {
   "cell_type": "code",
   "execution_count": 16,
   "id": "6c58b7ee",
   "metadata": {},
   "outputs": [],
   "source": [
    "# Larger significa H1_media > H0_meddia\n",
    "# Ha outros valores pro parametro\n",
    "_, p = ztest(dados_originais, dados_novos,\n",
    "             value = H1_media - H0_media,\n",
    "             alternative='larger')"
   ]
  },
  {
   "cell_type": "code",
   "execution_count": 17,
   "id": "0e733de3",
   "metadata": {},
   "outputs": [
    {
     "data": {
      "text/plain": [
       "0.9999993877283934"
      ]
     },
     "execution_count": 17,
     "metadata": {},
     "output_type": "execute_result"
    }
   ],
   "source": [
    "# A biblioteca retorna o valor de Z, é necessário realizar a subtração 1 - 'p' para obter o valor de p.\n",
    "p"
   ]
  },
  {
   "cell_type": "markdown",
   "id": "bc871920",
   "metadata": {},
   "source": [
    "### Exercício"
   ]
  },
  {
   "cell_type": "markdown",
   "id": "2d436ec7",
   "metadata": {},
   "source": [
    "https://thedatascientist.com/how-to-do-a-t-test-in-python/"
   ]
  },
  {
   "cell_type": "markdown",
   "id": "29a17ed2",
   "metadata": {},
   "source": [
    "#### Hipóteses\n",
    "$H_0: média_{H0}  = média_{H1}$\n",
    "\n",
    "$H_1: média_{H0} <> média_{H1}$\n",
    "\n",
    "É um teste pareado: há uma diferença no grupo entre pontos diferente do tempo\n",
    "\n",
    "Nível de significância: 5%"
   ]
  },
  {
   "cell_type": "code",
   "execution_count": 20,
   "id": "2b4b3b36",
   "metadata": {},
   "outputs": [],
   "source": [
    "from numpy.random import seed \n",
    "from numpy.random import randn \n",
    "from numpy.random import normal \n",
    "from scipy.stats import ttest_rel"
   ]
  },
  {
   "cell_type": "code",
   "execution_count": 19,
   "id": "caeed0b0",
   "metadata": {},
   "outputs": [],
   "source": [
    "amostra_orig = np.array([149. , 160., 147., 189., 175., 168., 156., 160., 152.])\n",
    "amostra_nova = np.array([149. , 160., 147., 189., 175., 168., 156., 160., 152.]) * 1.2"
   ]
  },
  {
   "cell_type": "code",
   "execution_count": 21,
   "id": "a68b53b2",
   "metadata": {},
   "outputs": [
    {
     "name": "stdout",
     "output_type": "stream",
     "text": [
      "T-statistic value: -35.7846507069113\n",
      "P-Value:  4.0729224939298203e-10\n"
     ]
    }
   ],
   "source": [
    "t_stat, p_value = ttest_rel(amostra_orig, amostra_nova) \n",
    "print('T-statistic value:', t_stat)  \n",
    "print('P-Value: ', p_value)\n"
   ]
  }
 ],
 "metadata": {
  "kernelspec": {
   "display_name": "Python 3 (ipykernel)",
   "language": "python",
   "name": "python3"
  },
  "language_info": {
   "codemirror_mode": {
    "name": "ipython",
    "version": 3
   },
   "file_extension": ".py",
   "mimetype": "text/x-python",
   "name": "python",
   "nbconvert_exporter": "python",
   "pygments_lexer": "ipython3",
   "version": "3.8.12"
  }
 },
 "nbformat": 4,
 "nbformat_minor": 5
}
