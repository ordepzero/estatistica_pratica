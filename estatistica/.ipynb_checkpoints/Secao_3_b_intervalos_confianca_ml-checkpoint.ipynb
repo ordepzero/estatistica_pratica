{
 "cells": [
  {
   "cell_type": "markdown",
   "id": "ec5c977b",
   "metadata": {},
   "source": [
    "## Amostragem\n",
    "\n",
    "### Tipos de amostragem\n",
    "- Amostragem probabilística\n",
    "- Amostragem não-probabilística\n",
    "\n",
    "### Amostragem probabilística\n",
    "\n",
    "##### Vantagem\t\n",
    "- Seleção aleatória.\n",
    "- Elimina o erro sistemático e o viés de seleção.\n",
    "- Representa bem as características populacionais de interesse.\n",
    "- Permite generalização à amostra.\n",
    "\n",
    "##### Desvantagem\t\n",
    "- É necessário conhecer e definir bem a população de interesse.\n",
    "- Custosa.\n",
    "- De difícil acesso, as vezes.\n",
    "- Tende a ser pouco atualizada para mudanças de nomes (ex: casamento) ou mudanças geográficas.\n",
    "- Há situações em que é impossível (ex: verificar a população de usuários de crack).\n",
    "\n",
    "##### Exemplo\t\n",
    "- Quase sempre, pesquisas em que há um valor financeiro associado ou estatísticas oficiais\n",
    "- Pesquisas de intenção de votos\n",
    "- Pesquisa epidemiológica sobre saúde mental no Brasil\n",
    "\n",
    "### Amostragem não-probabilística\t\n",
    "##### Vantagem\t\n",
    "- Relativamente fácil de se planejar e executar.\n",
    "- Tende a ser mais barata do que métodos probabilísticos.\n",
    "\n",
    "##### Desvantagem\t\n",
    "- Costuma representar mal a população.\n",
    "- Baixa ou ausente capacidade de generalização\n",
    "\n",
    "##### Exemplo\t\n",
    "- Pesquisas feitas com coleta de dados online\n",
    "\n",
    "### Metodologias de mostragem\n",
    "\n",
    "<ol>\n",
    "    <li> Amostragem aleatória simples </li>\n",
    "    <li> Amostragem aleatória sistemática </li>\n",
    "    <li> Amostragem estratificada </li>\n",
    "    <li> Amostragem por conglomerados </li>\n",
    "    <li> Amostragem por conveniência </li>\n",
    "    <li> Amostragem por auto-seleção </li>\n",
    "</ol>\n",
    "\n",
    "### Tamanho amostral"
   ]
  },
  {
   "cell_type": "markdown",
   "id": "f02ccd2c",
   "metadata": {},
   "source": [
    "### Teorema de limite central\n",
    "- A tendência da distribuição amostral de assumir uma forma normal conforme o tamanho da amostra cresce.\n",
    "\n",
    "### Erro-padrão\n",
    "\n",
    "- É uma estimativa do quanto o valor de uma estatística do teste, ou estatística amostral, varia de amostra para amostra. "
   ]
  },
  {
   "cell_type": "markdown",
   "id": "25ebcebd",
   "metadata": {},
   "source": [
    "### Bootstrap\n",
    "\n",
    "- É uma amostragem sempre com reposição de um conjunto de dados observado."
   ]
  },
  {
   "cell_type": "code",
   "execution_count": 1,
   "id": "b25c11d1",
   "metadata": {},
   "outputs": [],
   "source": [
    "import pandas as pd"
   ]
  },
  {
   "cell_type": "code",
   "execution_count": 2,
   "id": "aaa509ce",
   "metadata": {},
   "outputs": [
    {
     "data": {
      "text/html": [
       "<div>\n",
       "<style scoped>\n",
       "    .dataframe tbody tr th:only-of-type {\n",
       "        vertical-align: middle;\n",
       "    }\n",
       "\n",
       "    .dataframe tbody tr th {\n",
       "        vertical-align: top;\n",
       "    }\n",
       "\n",
       "    .dataframe thead th {\n",
       "        text-align: right;\n",
       "    }\n",
       "</style>\n",
       "<table border=\"1\" class=\"dataframe\">\n",
       "  <thead>\n",
       "    <tr style=\"text-align: right;\">\n",
       "      <th></th>\n",
       "      <th>Unnamed: 0</th>\n",
       "      <th>city</th>\n",
       "      <th>area</th>\n",
       "      <th>rooms</th>\n",
       "      <th>bathroom</th>\n",
       "      <th>parking spaces</th>\n",
       "      <th>floor</th>\n",
       "      <th>animal</th>\n",
       "      <th>furniture</th>\n",
       "      <th>hoa</th>\n",
       "      <th>rent amount</th>\n",
       "      <th>property tax</th>\n",
       "      <th>fire insurance</th>\n",
       "      <th>total</th>\n",
       "    </tr>\n",
       "  </thead>\n",
       "  <tbody>\n",
       "    <tr>\n",
       "      <th>0</th>\n",
       "      <td>0</td>\n",
       "      <td>1</td>\n",
       "      <td>240</td>\n",
       "      <td>3</td>\n",
       "      <td>3</td>\n",
       "      <td>4</td>\n",
       "      <td>-</td>\n",
       "      <td>acept</td>\n",
       "      <td>furnished</td>\n",
       "      <td>R$0</td>\n",
       "      <td>R$8,000</td>\n",
       "      <td>R$1,000</td>\n",
       "      <td>R$121</td>\n",
       "      <td>R$9,121</td>\n",
       "    </tr>\n",
       "    <tr>\n",
       "      <th>1</th>\n",
       "      <td>1</td>\n",
       "      <td>0</td>\n",
       "      <td>64</td>\n",
       "      <td>2</td>\n",
       "      <td>1</td>\n",
       "      <td>1</td>\n",
       "      <td>10</td>\n",
       "      <td>acept</td>\n",
       "      <td>not furnished</td>\n",
       "      <td>R$540</td>\n",
       "      <td>R$820</td>\n",
       "      <td>R$122</td>\n",
       "      <td>R$11</td>\n",
       "      <td>R$1,493</td>\n",
       "    </tr>\n",
       "    <tr>\n",
       "      <th>2</th>\n",
       "      <td>2</td>\n",
       "      <td>1</td>\n",
       "      <td>443</td>\n",
       "      <td>5</td>\n",
       "      <td>5</td>\n",
       "      <td>4</td>\n",
       "      <td>3</td>\n",
       "      <td>acept</td>\n",
       "      <td>furnished</td>\n",
       "      <td>R$4,172</td>\n",
       "      <td>R$7,000</td>\n",
       "      <td>R$1,417</td>\n",
       "      <td>R$89</td>\n",
       "      <td>R$12,680</td>\n",
       "    </tr>\n",
       "    <tr>\n",
       "      <th>3</th>\n",
       "      <td>3</td>\n",
       "      <td>1</td>\n",
       "      <td>73</td>\n",
       "      <td>2</td>\n",
       "      <td>2</td>\n",
       "      <td>1</td>\n",
       "      <td>12</td>\n",
       "      <td>acept</td>\n",
       "      <td>not furnished</td>\n",
       "      <td>R$700</td>\n",
       "      <td>R$1,250</td>\n",
       "      <td>R$150</td>\n",
       "      <td>R$16</td>\n",
       "      <td>R$2,116</td>\n",
       "    </tr>\n",
       "    <tr>\n",
       "      <th>4</th>\n",
       "      <td>4</td>\n",
       "      <td>1</td>\n",
       "      <td>19</td>\n",
       "      <td>1</td>\n",
       "      <td>1</td>\n",
       "      <td>0</td>\n",
       "      <td>-</td>\n",
       "      <td>not acept</td>\n",
       "      <td>not furnished</td>\n",
       "      <td>R$0</td>\n",
       "      <td>R$1,200</td>\n",
       "      <td>R$41</td>\n",
       "      <td>R$16</td>\n",
       "      <td>R$1,257</td>\n",
       "    </tr>\n",
       "  </tbody>\n",
       "</table>\n",
       "</div>"
      ],
      "text/plain": [
       "   Unnamed: 0  city  area  rooms  bathroom  parking spaces floor     animal  \\\n",
       "0           0     1   240      3         3               4     -      acept   \n",
       "1           1     0    64      2         1               1    10      acept   \n",
       "2           2     1   443      5         5               4     3      acept   \n",
       "3           3     1    73      2         2               1    12      acept   \n",
       "4           4     1    19      1         1               0     -  not acept   \n",
       "\n",
       "       furniture      hoa rent amount property tax fire insurance     total  \n",
       "0      furnished      R$0     R$8,000      R$1,000          R$121   R$9,121  \n",
       "1  not furnished    R$540       R$820        R$122           R$11   R$1,493  \n",
       "2      furnished  R$4,172     R$7,000      R$1,417           R$89  R$12,680  \n",
       "3  not furnished    R$700     R$1,250        R$150           R$16   R$2,116  \n",
       "4  not furnished      R$0     R$1,200         R$41           R$16   R$1,257  "
      ]
     },
     "execution_count": 2,
     "metadata": {},
     "output_type": "execute_result"
    }
   ],
   "source": [
    "df = pd.read_csv(\"datasets/houses_to_rent.csv\")\n",
    "df.head()"
   ]
  },
  {
   "cell_type": "code",
   "execution_count": 18,
   "id": "1c09beb9",
   "metadata": {
    "collapsed": true,
    "jupyter": {
     "outputs_hidden": true
    }
   },
   "outputs": [
    {
     "name": "stdout",
     "output_type": "stream",
     "text": [
      "<class 'pandas.core.frame.DataFrame'>\n",
      "RangeIndex: 6080 entries, 0 to 6079\n",
      "Data columns (total 15 columns):\n",
      " #   Column          Non-Null Count  Dtype  \n",
      "---  ------          --------------  -----  \n",
      " 0   Unnamed: 0      6080 non-null   int64  \n",
      " 1   city            6080 non-null   int64  \n",
      " 2   area            6080 non-null   int64  \n",
      " 3   rooms           6080 non-null   int64  \n",
      " 4   bathroom        6080 non-null   int64  \n",
      " 5   parking spaces  6080 non-null   int64  \n",
      " 6   floor           6080 non-null   object \n",
      " 7   animal          6080 non-null   object \n",
      " 8   furniture       6080 non-null   object \n",
      " 9   hoa             6080 non-null   object \n",
      " 10  rent amount     6080 non-null   object \n",
      " 11  property tax    6080 non-null   object \n",
      " 12  fire insurance  6080 non-null   object \n",
      " 13  total           6080 non-null   object \n",
      " 14  SP              6080 non-null   float64\n",
      "dtypes: float64(1), int64(6), object(8)\n",
      "memory usage: 712.6+ KB\n"
     ]
    }
   ],
   "source": [
    "df.info()"
   ]
  },
  {
   "cell_type": "code",
   "execution_count": 3,
   "id": "4340cbc5",
   "metadata": {},
   "outputs": [],
   "source": [
    "df['SP'] = df['total'].str.replace(\"R$\", \"\",regex=False).str.replace(\",\", \"\",regex=False).astype(float)"
   ]
  },
  {
   "cell_type": "code",
   "execution_count": 4,
   "id": "8df5fa13",
   "metadata": {
    "scrolled": true
   },
   "outputs": [
    {
     "data": {
      "image/png": "[encoded data removed]",
      "text/plain": [
       "<Figure size 432x288 with 1 Axes>"
      ]
     },
     "metadata": {
      "needs_background": "light"
     },
     "output_type": "display_data"
    }
   ],
   "source": [
    "import matplotlib.pyplot as plt\n",
    "\n",
    "means = [] #lista com as médias\n",
    "\n",
    "for i in range (1000): #criando 1000 reamostragens\n",
    "    bootrstap = df['SP'].sample(1000, replace=True) #cria as reamostragens com 10 valores e com reposição\n",
    "    sp_means = bootrstap.mean() #calculando as médias de cada reamostragem\n",
    "    means.append(sp_means) #colocando as médias na lista\n",
    "    \n",
    "    plt.hist(means, alpha=0.5); #plota o histograma com as médias"
   ]
  },
  {
   "cell_type": "markdown",
   "id": "b821a57c",
   "metadata": {},
   "source": [
    "#### Erro Padrão"
   ]
  },
  {
   "cell_type": "code",
   "execution_count": 22,
   "id": "9c9ea85f",
   "metadata": {},
   "outputs": [
    {
     "data": {
      "text/plain": [
       "281.0512477507608"
      ]
     },
     "execution_count": 22,
     "metadata": {},
     "output_type": "execute_result"
    }
   ],
   "source": [
    "import numpy as np\n",
    "# É uma estimativa do quanto o valor de uma estatística do teste, ou estatística amostral, varia de amostra para amostra.\n",
    "#calculate standard deviation of list\n",
    "np.std(means)"
   ]
  },
  {
   "cell_type": "markdown",
   "id": "acc5e24c",
   "metadata": {},
   "source": [
    "### Intervalos de Confiança\n",
    "\n",
    "- Tabelas de frequência, histograma, boxplots e erros-padrão são todos meios de entender o potencial erro de uma estimativa de amostra.\n",
    "- Tem como um dos propósitos apresentar uma estimativa não como um número único, mas como uma amplitude.\n",
    "\n",
    "#### Nível de confiança\n",
    "- A porcentagem de intervalos de confiança, construída da mesma forma e de uma mesma população, em que se espera que haja a estatística de interesse.\n",
    "\n",
    "#### Extremidade de intervalo\n",
    "- O topo e a base do intervalo de confiança."
   ]
  },
  {
   "cell_type": "markdown",
   "id": "9d11db2c",
   "metadata": {},
   "source": [
    "### Distribuição Normal (Gaussiana ou Distribuição Z)\n",
    "- A utilidade da distribuição normal vem do fato de muitas estatísticas serem normalmente distribuídas em sua distribuição amostral.\n",
    "\n",
    "#### Padronizar\n",
    "- Subtrair a média e dividir pelo desvio-padrão\n",
    "\n",
    "#### Escore-Z\n",
    "- O resultado da padronização de um ponto de dados individual\n",
    "\n",
    "#### Normal padrão\n",
    "- Uma distribuição normal com média = 0 e desvio-padrão = 1\n",
    "\n",
    "#### Quantiles\n",
    "- Em Estatística e Probabilidade, quantiles são pontos divididos em intervalos de uma distribuição de probabilidade dentro de intervalos contínuos com probabilidades iguais.\n",
    "- Quantiles comuns tem nomes especiais, tal como: quartiles (4 grupos), deciles (10 grupos) e percentiles (100 grupos)\n",
    "\n",
    "#### Gráfico QQ (Quantil-Quantil)\n",
    "- Um gráfico para visualizar quão próxima uma distribuição amostral está de uma distribuição normal\n",
    "- A principal utilidade é verificar se um conjunto de dados segue uma distribuição específica.\n"
   ]
  },
  {
   "cell_type": "code",
   "execution_count": 9,
   "id": "623bf98c",
   "metadata": {},
   "outputs": [],
   "source": [
    "mean = df['SP'].mean()\n",
    "std  = df['SP'].std()"
   ]
  },
  {
   "cell_type": "code",
   "execution_count": 12,
   "id": "3b369a39",
   "metadata": {},
   "outputs": [],
   "source": [
    "df['SP_padronizado'] = (df['SP']-mean)/std"
   ]
  },
  {
   "cell_type": "code",
   "execution_count": 17,
   "id": "f080cc3f",
   "metadata": {},
   "outputs": [
    {
     "data": {
      "text/plain": [
       "<AxesSubplot:ylabel='Frequency'>"
      ]
     },
     "execution_count": 17,
     "metadata": {},
     "output_type": "execute_result"
    },
    {
     "data": {
      "image/png": "[encoded data removed]",
      "text/plain": [
       "<Figure size 432x288 with 1 Axes>"
      ]
     },
     "metadata": {
      "needs_background": "light"
     },
     "output_type": "display_data"
    }
   ],
   "source": [
    "df['SP_padronizado'].plot(kind='hist')"
   ]
  },
  {
   "cell_type": "code",
   "execution_count": 45,
   "id": "9f671f80",
   "metadata": {},
   "outputs": [],
   "source": [
    "from sklearn.preprocessing import StandardScaler\n",
    "\n",
    "scaler = StandardScaler()\n",
    "\n",
    "scaler = scaler.fit(df[['SP']])\n",
    "\n",
    "df['df_padrao'] = scaler.transform(df[['SP']])"
   ]
  },
  {
   "cell_type": "code",
   "execution_count": 46,
   "id": "fd44da0e",
   "metadata": {
    "scrolled": true
   },
   "outputs": [
    {
     "data": {
      "text/html": [
       "<div>\n",
       "<style scoped>\n",
       "    .dataframe tbody tr th:only-of-type {\n",
       "        vertical-align: middle;\n",
       "    }\n",
       "\n",
       "    .dataframe tbody tr th {\n",
       "        vertical-align: top;\n",
       "    }\n",
       "\n",
       "    .dataframe thead th {\n",
       "        text-align: right;\n",
       "    }\n",
       "</style>\n",
       "<table border=\"1\" class=\"dataframe\">\n",
       "  <thead>\n",
       "    <tr style=\"text-align: right;\">\n",
       "      <th></th>\n",
       "      <th>SP</th>\n",
       "      <th>df_padrao</th>\n",
       "    </tr>\n",
       "  </thead>\n",
       "  <tbody>\n",
       "    <tr>\n",
       "      <th>count</th>\n",
       "      <td>6080.000000</td>\n",
       "      <td>6.080000e+03</td>\n",
       "    </tr>\n",
       "    <tr>\n",
       "      <th>mean</th>\n",
       "      <td>6033.194572</td>\n",
       "      <td>-3.913171e-17</td>\n",
       "    </tr>\n",
       "    <tr>\n",
       "      <th>std</th>\n",
       "      <td>8751.347700</td>\n",
       "      <td>1.000082e+00</td>\n",
       "    </tr>\n",
       "    <tr>\n",
       "      <th>min</th>\n",
       "      <td>660.000000</td>\n",
       "      <td>-6.140353e-01</td>\n",
       "    </tr>\n",
       "    <tr>\n",
       "      <th>25%</th>\n",
       "      <td>2451.500000</td>\n",
       "      <td>-4.093071e-01</td>\n",
       "    </tr>\n",
       "    <tr>\n",
       "      <th>50%</th>\n",
       "      <td>4128.500000</td>\n",
       "      <td>-2.176638e-01</td>\n",
       "    </tr>\n",
       "    <tr>\n",
       "      <th>75%</th>\n",
       "      <td>8074.000000</td>\n",
       "      <td>2.332182e-01</td>\n",
       "    </tr>\n",
       "    <tr>\n",
       "      <th>max</th>\n",
       "      <td>372700.000000</td>\n",
       "      <td>4.190177e+01</td>\n",
       "    </tr>\n",
       "  </tbody>\n",
       "</table>\n",
       "</div>"
      ],
      "text/plain": [
       "                  SP     df_padrao\n",
       "count    6080.000000  6.080000e+03\n",
       "mean     6033.194572 -3.913171e-17\n",
       "std      8751.347700  1.000082e+00\n",
       "min       660.000000 -6.140353e-01\n",
       "25%      2451.500000 -4.093071e-01\n",
       "50%      4128.500000 -2.176638e-01\n",
       "75%      8074.000000  2.332182e-01\n",
       "max    372700.000000  4.190177e+01"
      ]
     },
     "execution_count": 46,
     "metadata": {},
     "output_type": "execute_result"
    }
   ],
   "source": [
    "df[['SP','df_padrao']].describe()"
   ]
  },
  {
   "cell_type": "code",
   "execution_count": 48,
   "id": "900cbe4e",
   "metadata": {
    "collapsed": true,
    "jupyter": {
     "outputs_hidden": true
    }
   },
   "outputs": [
    {
     "data": {
      "image/png": "[encoded data removed]",
      "text/plain": [
       "<Figure size 432x288 with 1 Axes>"
      ]
     },
     "metadata": {
      "needs_background": "light"
     },
     "output_type": "display_data"
    }
   ],
   "source": [
    "sm.qqplot(df[['df_padrao']], line ='45') \n",
    "py.show() "
   ]
  },
  {
   "cell_type": "code",
   "execution_count": 49,
   "id": "8962fc0d",
   "metadata": {},
   "outputs": [],
   "source": [
    "from statsmodels.graphics.gofplots import qqplot"
   ]
  },
  {
   "cell_type": "code",
   "execution_count": 58,
   "id": "b9ff66b2",
   "metadata": {},
   "outputs": [
    {
     "data": {
      "image/png": "[encoded data removed]",
      "text/plain": [
       "<Figure size 432x288 with 1 Axes>"
      ]
     },
     "metadata": {
      "needs_background": "light"
     },
     "output_type": "display_data"
    }
   ],
   "source": [
    "qqplot_data = qqplot(df['df_padrao'], line='s').gca().lines"
   ]
  },
  {
   "cell_type": "code",
   "execution_count": 57,
   "id": "b30e9aa4",
   "metadata": {
    "scrolled": true
   },
   "outputs": [
    {
     "data": {
      "image/png": "[encoded data removed]",
      "text/plain": [
       "<Figure size 432x288 with 1 Axes>"
      ]
     },
     "metadata": {
      "needs_background": "light"
     },
     "output_type": "display_data"
    }
   ],
   "source": [
    "# Remoção de outliers \n",
    "qqplot_data = qqplot(df['df_padrao'].loc[lambda x : x < 10], line='s').gca().lines"
   ]
  },
  {
   "cell_type": "code",
   "execution_count": 60,
   "id": "6ce63198",
   "metadata": {
    "scrolled": true
   },
   "outputs": [
    {
     "data": {
      "image/png": "[encoded data removed]",
      "text/plain": [
       "<Figure size 432x288 with 1 Axes>"
      ]
     },
     "metadata": {
      "needs_background": "light"
     },
     "output_type": "display_data"
    }
   ],
   "source": [
    "# Remoção de outliers \n",
    "qqplot_data = qqplot(df['df_padrao'].loc[lambda x : x < 5], line='s').gca().lines"
   ]
  },
  {
   "cell_type": "markdown",
   "id": "ed3ceaa8",
   "metadata": {},
   "source": [
    "### Distribuição de Cauda Longa\n",
    "- A maioria dos dados não é normalmente distribuída.\n",
    "- Presumir uma distribuição normal pode levar à subestimação de eventos extremos (\"cisnes negros\").\n",
    "\n",
    "#### Cauda\n",
    "- A porção longa e estreita de ums distribuição de frequências, na qual valores relativamente extremos ocorrem em baixa frequência.\n",
    "\n",
    "#### Desequilíbrio\n",
    "- No qual uma sauda de uma distribuição é mais londa que outra.\n",
    "\n",
    "#### Teoria do Cisne Negro\n",
    "- Prevê que eventos anormais, como uma queda na bolsa de valores, estão mais propensos a acontecer do que o previsto pela distribuição normal."
   ]
  },
  {
   "cell_type": "markdown",
   "id": "3dede9be",
   "metadata": {},
   "source": [
    "### Distribuição t de Student\n",
    "- É uma distribuição normalmente formatada, mas um pouco mais espessa e mais longa nas caudas.\n",
    "- É extensivamente usada para representar distribuições de estatísticas amostrais.\n",
    "- Quanto maior é a amostra, mais normalmente formatada se torna a distribuição t.\n",
    "- É necessária a padronização dos dados.\n",
    "- A precisão da distribuição t na representação do comportamento de uma estatística amostral exige que a distribuição de tal estatística seja formatada como uma distribuição normal\n",
    "- Aplicada para amostras de até 30 valores\n",
    "\n",
    "\n",
    "#### Graus de liberdade\n",
    "- Parâmetro que permite que a distribuição t se ajuste a diferentes tamanhos de amostras, estatísticas e números de grupos.\n",
    "\n",
    "#### n\n",
    "- Tamanho da amostra\n",
    "\n",
    "#### Função\n",
    "- $\\bar x \\pm t_{n-1} (.05) \\cdot \\dfrac{s}{n}$\n",
    "\n",
    "### Distribuição Binomial\n",
    "- Distribuição do número de sucessos em `x` ensaios\n",
    "- Resultados sim/não (binomial) estão no centro da análise, já que constumam ser a culminação de uma decisão: comprar/não comprar, clicar/não clicar, sobreviver/morrer.\n",
    "- Construída considerando um conjunto de ensaios, cada um deles com dois resultados possíveis.\n",
    "- A distribuição binomial é a distribuição de frequências do número de sucessos (x) em um dado número de ensaios (n) com probabilidade específica (p) de sucesso em cada ensaio.\n",
    "\n",
    "#### Ensaio\n",
    "- Um evento com um resultado discreto\n",
    "\n",
    "#### Sucesso\n",
    "- Resultado de interesse para um ensaio\n",
    "\n",
    "#### Binomial\n",
    "- Ter dois resultados possíveis.\n",
    "\n",
    "#### Ensaio Binomial\n",
    "- Um ensaio com dois resultados\n",
    "\n",
    "### Distribuição Poisson\n",
    "- Muitos processos produzem eventos aleatoriamente em dado índice geral \n",
    "    - Ex: visitantes chegando a um site, carros chegando a uma praça de pedágio (eventos espalhados no tempo), imperfeições em um metro quadrado de tecido, erros de digitação a cada 100 linhas de código (eventos espalhados no espaço)\n",
    "- A distribuição de frequências do número de eventos em unidades amostradas de tempo ou espaço\n",
    "\n",
    "#### Lambda\n",
    "- Taxa (por unidade de tempo ou espaço) na qual os eventos ocorrem\n",
    "\n",
    "### Distribuição Exponencial\n",
    "- A distribuição de frequência de tempo ou distância de um evento ao próximo\n",
    "- Modela a distribuição do tempo entre eventos\n",
    "    - Ex: tempo entre visitas a um site, ou entre chegando carros na praça de pedágio\n",
    "\n",
    "### Distribuição Weibull\n",
    "- Uma versão generalizada da exponencial, na qual a taxa do evento pode mudar com o tempo."
   ]
  },
  {
   "cell_type": "markdown",
   "id": "bef5ed54",
   "metadata": {},
   "source": [
    "# O que implica uma distribuição não ser normal?\n",
    "- https://www.linkedin.com/advice/0/how-do-you-deal-non-normal-data-cannot-transformed#:~:text=Many%20statistical%20methods%2C%20such%20as,detect%20significant%20effects%20or%20relationships.\n",
    "- https://onlinelibrary.wiley.com/doi/pdf/10.1016/j.pmrj.2012.10.013\n",
    "- https://blog.minitab.com/en/understanding-statistics-and-its-application/what-should-i-do-if-my-data-is-not-normal-v2\n",
    "- https://towardsdatascience.com/what-if-your-data-is-not-normal-d7293f7b8f0\n",
    "- https://www.six-sigma-material.com/Normal-Distribution.html\n",
    "- https://www.isixsigma.com/normality/dealing-non-normal-data-strategies-and-tools/\n",
    "- https://www.statisticshowto.com/probability-and-statistics/non-normal-distributions/\n"
   ]
  }
 ],
 "metadata": {
  "kernelspec": {
   "display_name": "Python 3 (ipykernel)",
   "language": "python",
   "name": "python3"
  },
  "language_info": {
   "codemirror_mode": {
    "name": "ipython",
    "version": 3
   },
   "file_extension": ".py",
   "mimetype": "text/x-python",
   "name": "python",
   "nbconvert_exporter": "python",
   "pygments_lexer": "ipython3",
   "version": "3.8.18"
  }
 },
 "nbformat": 4,
 "nbformat_minor": 5
}
