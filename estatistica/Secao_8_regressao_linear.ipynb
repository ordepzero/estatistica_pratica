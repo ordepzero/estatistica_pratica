{
 "cells": [
  {
   "cell_type": "markdown",
   "id": "29df6802",
   "metadata": {},
   "source": [
    "### O que é Regressão Linear?\n",
    "\n",
    "A ideia por trás do modelo de regressão linear é estimar uma reta que melhor descreva a relação entre variáveis. Pode-se pensar na reta como uma forma de se resumir a informação."
   ]
  },
  {
   "cell_type": "markdown",
   "id": "9bb791b5",
   "metadata": {},
   "source": [
    "#### Variável dependente e explicativa"
   ]
  },
  {
   "cell_type": "markdown",
   "id": "88111cd9",
   "metadata": {},
   "source": [
    "#### Equação da reta:  \n",
    "\n",
    "$ y = a + b x $\n",
    "\n",
    "$a$ será o intercepto vertical e $b$ é a inclinação da reta.\n",
    "\n",
    "A reta de regressão depende de cinco estatísticas básicas: \n",
    "\n",
    "a) média de X: $\\bar X = \\dfrac{1}{N} \\sum \\limits _{i=1} ^{n} X_{i}$\n",
    "\n",
    "b) desvio-padrão de X: $S_{x} = \\sqrt{\\dfrac{1}{N} \\sum \\limits _{i=1} ^{n} (X_{i} - \\bar X)^2}$\n",
    "\n",
    "c) média de Y: $\\bar Y = \\dfrac{1}{N} \\sum \\limits _{i=1} ^{n} Y_{i}$\n",
    "\n",
    "d) desvio-padrão de Y: $S_{y} = \\sqrt{\\dfrac{1}{N} \\sum \\limits _{i=1} ^{n} (Y_{i} - \\bar Y)^2}$\n",
    "\n",
    "e) correlação de X e Y: $r = \\dfrac{1}{N} \\sum \\limits _{i=1} ^{n} \\dfrac{X_{i}-\\bar{X}}{S_{x}} \\dfrac{Y_{i}-\\bar{Y}}{S_{y}} $\n",
    "\n",
    "Logo, com base nessas estatísticas, podemos calcular a reta de regressão, sabendo que a regressão de Y em X passa pelos pontos médios. \n",
    "\n",
    "A inclinação da reta é:\n",
    "\n",
    "$ \\beta_{1} = \\dfrac{r . S_{y}}{S_{x}} $\n",
    "\n",
    "\n",
    "O intercepto da reta de regressão populacional será:\n",
    "\n",
    "$ \\bar{Y} - \\beta_{1}\\bar{X} $"
   ]
  },
  {
   "cell_type": "markdown",
   "id": "e4bc6ff2",
   "metadata": {},
   "source": []
  }
 ],
 "metadata": {
  "kernelspec": {
   "display_name": "Python 3 (ipykernel)",
   "language": "python",
   "name": "python3"
  },
  "language_info": {
   "codemirror_mode": {
    "name": "ipython",
    "version": 3
   },
   "file_extension": ".py",
   "mimetype": "text/x-python",
   "name": "python",
   "nbconvert_exporter": "python",
   "pygments_lexer": "ipython3",
   "version": "3.8.18"
  }
 },
 "nbformat": 4,
 "nbformat_minor": 5
}
