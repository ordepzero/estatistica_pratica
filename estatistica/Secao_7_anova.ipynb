{
 "cells": [
  {
   "cell_type": "markdown",
   "id": "f0bd5483-3da8-4481-9c94-1937f8808e3a",
   "metadata": {},
   "source": [
    "### Análise de Variância"
   ]
  },
  {
   "cell_type": "markdown",
   "id": "7f417e21-9907-487d-aa1e-5a0137833c4b",
   "metadata": {},
   "source": [
    "- Comparação entre 3 ou mais grupos (amostras independentes)\n",
    "- Uma variável quantitativa e uma ou mais variáveis qualitativas\n",
    "- Distribuição Normal (estatística paramétrica)\n",
    "- Variação entre os grupos comparando a variação dentro dos grupos\n",
    "- H0: não existe diferença estatística\n",
    "- H1: existe diferença estatística"
   ]
  },
  {
   "cell_type": "markdown",
   "id": "2bf86044-d54a-415a-92b1-7b48a605936f",
   "metadata": {},
   "source": [
    "#### Passo a passo\n",
    "- Calcula a média de cada grupo\n",
    "- Calcula a média geral\n",
    "- Calcula o quadrado da diferença entre a média do grupo e média geral\n",
    "- Soma os resultados do passo anterior e multiplica pelo número de linhas (SSG - sum of squares group)\n",
    "- Calcula os graus de liberdade do grupo, número de grupos - 1 (DFG - degress of freedom groups)\n",
    "- Calcula o quadrado da diferença de cada valor com a média do respectivo grupo que o valor faz parte\n",
    "- Soma os resultados (SSE - sum of squares error)\n",
    "- Multiplica a (quantidade de linhas - 1) * grupos (DFE\n",
    "- Calcula a estatística F = (SSG/DFG)/(SSE/DFE)\n",
    "- Calcula o F crítico, consulta a tabela F, há uma tabela para cada alpha, usa os graus de liberdade DFG e DFE para consultar a tabela\n",
    "- Decisão:  \n",
    "    - F caculado <= F crítico, aceita hipótese nula\n",
    "    - F calculado > F crítico, rejeita hipótese nula"
   ]
  },
  {
   "cell_type": "markdown",
   "id": "fa152810-b7a8-4851-92de-4f56be98f927",
   "metadata": {},
   "source": [
    "### Exemplo prático"
   ]
  },
  {
   "cell_type": "code",
   "execution_count": 3,
   "id": "5721009d-6e99-45de-9df9-6f4c5a1270d9",
   "metadata": {},
   "outputs": [],
   "source": [
    "from scipy.stats import f\n",
    "import numpy as np"
   ]
  },
  {
   "cell_type": "code",
   "execution_count": 4,
   "id": "026f5d31-97de-4a0d-bbe0-a73af24a5d9a",
   "metadata": {},
   "outputs": [],
   "source": [
    "grupo_a = np.array([165, 152, 143, 140, 155])\n",
    "grupo_b = np.array([130, 169, 164, 143, 154])\n",
    "grupo_c = np.array([163, 158, 154, 149, 156])"
   ]
  },
  {
   "cell_type": "code",
   "execution_count": 5,
   "id": "3960200d-9ebc-4f4b-954a-bb81c4932197",
   "metadata": {},
   "outputs": [
    {
     "data": {
      "text/plain": [
       "3.8852938346523933"
      ]
     },
     "execution_count": 5,
     "metadata": {},
     "output_type": "execute_result"
    }
   ],
   "source": [
    "f.ppf(1 - 0.05, dfn = 2, dfd = 12)"
   ]
  },
  {
   "cell_type": "code",
   "execution_count": 6,
   "id": "4b827424-4084-4d7c-bd71-e931497cb606",
   "metadata": {},
   "outputs": [],
   "source": [
    "from scipy.stats import f_oneway"
   ]
  },
  {
   "cell_type": "code",
   "execution_count": 7,
   "id": "4be4b275-1d4b-4550-ace9-84b6873c23da",
   "metadata": {},
   "outputs": [
    {
     "data": {
      "text/plain": [
       "0.7613994386091956"
      ]
     },
     "execution_count": 7,
     "metadata": {},
     "output_type": "execute_result"
    }
   ],
   "source": [
    "_, p = f_oneway(grupo_a, grupo_b, grupo_c)\n",
    "p"
   ]
  },
  {
   "cell_type": "code",
   "execution_count": 8,
   "id": "8aaa4a60-a962-4233-bb7f-d305a8953b29",
   "metadata": {},
   "outputs": [
    {
     "name": "stdout",
     "output_type": "stream",
     "text": [
      "Hipótese alternativa rejeitada\n"
     ]
    }
   ],
   "source": [
    "alpha = 0.05\n",
    "if p <= alpha:\n",
    "    print('Hipótese nula rejeitada')\n",
    "else:\n",
    "    print('Hipótese alternativa rejeitada')"
   ]
  },
  {
   "cell_type": "markdown",
   "id": "4a12c6a0-a097-45ca-81e9-365557ae8088",
   "metadata": {},
   "source": [
    "### Teste de Tukey"
   ]
  },
  {
   "cell_type": "code",
   "execution_count": 9,
   "id": "c8af7d3f-9568-4e3c-b756-b07679154f39",
   "metadata": {},
   "outputs": [],
   "source": [
    "# Dados que produzem resultado que rejeita a hipótese alternativa\n",
    "dados = {'valores': [165, 152, 143, 140, 155, 130, 169, 164, 143, 154, 163, 158, 154, 149, 156],\n",
    "         'grupo': ['A', 'A', 'A', 'A', 'A', 'B', 'B', 'B', 'B', 'B', 'C', 'C', 'C', 'C', 'C']}"
   ]
  },
  {
   "cell_type": "code",
   "execution_count": 10,
   "id": "c6cd81d6-71df-40e2-bc25-24d1804124b6",
   "metadata": {},
   "outputs": [],
   "source": [
    "# Dados que produzem resultado que rejeita a hipótese nula\n",
    "dados = {'valores': [70, 90, 80, 50, 20, 130, 169, 164, 143, 154, 163, 158, 154, 149, 156],\n",
    "         'grupo': ['A', 'A', 'A', 'A', 'A', 'B', 'B', 'B', 'B', 'B', 'C', 'C', 'C', 'C', 'C']}"
   ]
  },
  {
   "cell_type": "code",
   "execution_count": 11,
   "id": "2c719a79-8482-4fb5-9be1-30c58b2c7a29",
   "metadata": {},
   "outputs": [
    {
     "data": {
      "text/html": [
       "<div>\n",
       "<style scoped>\n",
       "    .dataframe tbody tr th:only-of-type {\n",
       "        vertical-align: middle;\n",
       "    }\n",
       "\n",
       "    .dataframe tbody tr th {\n",
       "        vertical-align: top;\n",
       "    }\n",
       "\n",
       "    .dataframe thead th {\n",
       "        text-align: right;\n",
       "    }\n",
       "</style>\n",
       "<table border=\"1\" class=\"dataframe\">\n",
       "  <thead>\n",
       "    <tr style=\"text-align: right;\">\n",
       "      <th></th>\n",
       "      <th>valores</th>\n",
       "      <th>grupo</th>\n",
       "    </tr>\n",
       "  </thead>\n",
       "  <tbody>\n",
       "    <tr>\n",
       "      <th>0</th>\n",
       "      <td>70</td>\n",
       "      <td>A</td>\n",
       "    </tr>\n",
       "    <tr>\n",
       "      <th>1</th>\n",
       "      <td>90</td>\n",
       "      <td>A</td>\n",
       "    </tr>\n",
       "    <tr>\n",
       "      <th>2</th>\n",
       "      <td>80</td>\n",
       "      <td>A</td>\n",
       "    </tr>\n",
       "    <tr>\n",
       "      <th>3</th>\n",
       "      <td>50</td>\n",
       "      <td>A</td>\n",
       "    </tr>\n",
       "    <tr>\n",
       "      <th>4</th>\n",
       "      <td>20</td>\n",
       "      <td>A</td>\n",
       "    </tr>\n",
       "    <tr>\n",
       "      <th>5</th>\n",
       "      <td>130</td>\n",
       "      <td>B</td>\n",
       "    </tr>\n",
       "    <tr>\n",
       "      <th>6</th>\n",
       "      <td>169</td>\n",
       "      <td>B</td>\n",
       "    </tr>\n",
       "    <tr>\n",
       "      <th>7</th>\n",
       "      <td>164</td>\n",
       "      <td>B</td>\n",
       "    </tr>\n",
       "    <tr>\n",
       "      <th>8</th>\n",
       "      <td>143</td>\n",
       "      <td>B</td>\n",
       "    </tr>\n",
       "    <tr>\n",
       "      <th>9</th>\n",
       "      <td>154</td>\n",
       "      <td>B</td>\n",
       "    </tr>\n",
       "    <tr>\n",
       "      <th>10</th>\n",
       "      <td>163</td>\n",
       "      <td>C</td>\n",
       "    </tr>\n",
       "    <tr>\n",
       "      <th>11</th>\n",
       "      <td>158</td>\n",
       "      <td>C</td>\n",
       "    </tr>\n",
       "    <tr>\n",
       "      <th>12</th>\n",
       "      <td>154</td>\n",
       "      <td>C</td>\n",
       "    </tr>\n",
       "    <tr>\n",
       "      <th>13</th>\n",
       "      <td>149</td>\n",
       "      <td>C</td>\n",
       "    </tr>\n",
       "    <tr>\n",
       "      <th>14</th>\n",
       "      <td>156</td>\n",
       "      <td>C</td>\n",
       "    </tr>\n",
       "  </tbody>\n",
       "</table>\n",
       "</div>"
      ],
      "text/plain": [
       "    valores grupo\n",
       "0        70     A\n",
       "1        90     A\n",
       "2        80     A\n",
       "3        50     A\n",
       "4        20     A\n",
       "5       130     B\n",
       "6       169     B\n",
       "7       164     B\n",
       "8       143     B\n",
       "9       154     B\n",
       "10      163     C\n",
       "11      158     C\n",
       "12      154     C\n",
       "13      149     C\n",
       "14      156     C"
      ]
     },
     "execution_count": 11,
     "metadata": {},
     "output_type": "execute_result"
    }
   ],
   "source": [
    "import pandas as pd\n",
    "dados_pd = pd.DataFrame(dados)\n",
    "dados_pd"
   ]
  },
  {
   "cell_type": "code",
   "execution_count": 12,
   "id": "4b59b494-07ab-449a-ae4b-2b09f9210ed1",
   "metadata": {},
   "outputs": [],
   "source": [
    "from statsmodels.stats.multicomp import MultiComparison"
   ]
  },
  {
   "cell_type": "code",
   "execution_count": 13,
   "id": "d89e736b-43c7-4ff8-9b19-56f1467239f0",
   "metadata": {},
   "outputs": [],
   "source": [
    "compara_grupos = MultiComparison(dados_pd['valores'], dados_pd['grupo'])"
   ]
  },
  {
   "cell_type": "code",
   "execution_count": 14,
   "id": "1763826a-8de1-4a51-be73-fe5e84e6d82f",
   "metadata": {},
   "outputs": [
    {
     "name": "stdout",
     "output_type": "stream",
     "text": [
      "Multiple Comparison of Means - Tukey HSD, FWER=0.05\n",
      "===================================================\n",
      "group1 group2 meandiff p-adj  lower   upper  reject\n",
      "---------------------------------------------------\n",
      "     A      B     90.0 0.001  58.494 121.506   True\n",
      "     A      C     94.0 0.001  62.494 125.506   True\n",
      "     B      C      4.0   0.9 -27.506  35.506  False\n",
      "---------------------------------------------------\n"
     ]
    }
   ],
   "source": [
    "teste = compara_grupos.tukeyhsd()\n",
    "print(teste)"
   ]
  },
  {
   "cell_type": "code",
   "execution_count": 16,
   "id": "7c0d6b00-ccca-4485-a56b-03eede7d5c35",
   "metadata": {},
   "outputs": [
    {
     "data": {
      "image/png": "[encoded data removed]",
      "text/plain": [
       "<Figure size 720x432 with 1 Axes>"
      ]
     },
     "metadata": {
      "needs_background": "light"
     },
     "output_type": "display_data"
    }
   ],
   "source": [
    "# Mostra como as médias estão próximas, ou distantes\n",
    "teste.plot_simultaneous();"
   ]
  },
  {
   "cell_type": "markdown",
   "id": "07704360-1c61-4835-b7c6-fd4e4de09c1f",
   "metadata": {},
   "source": [
    "### Verificar se há diferença estatística entre os algoritmos"
   ]
  },
  {
   "cell_type": "code",
   "execution_count": 7,
   "id": "005653c8-ca93-466a-93ab-47087c36baa6",
   "metadata": {},
   "outputs": [
    {
     "data": {
      "text/html": [
       "<div>\n",
       "<style scoped>\n",
       "    .dataframe tbody tr th:only-of-type {\n",
       "        vertical-align: middle;\n",
       "    }\n",
       "\n",
       "    .dataframe tbody tr th {\n",
       "        vertical-align: top;\n",
       "    }\n",
       "\n",
       "    .dataframe thead th {\n",
       "        text-align: right;\n",
       "    }\n",
       "</style>\n",
       "<table border=\"1\" class=\"dataframe\">\n",
       "  <thead>\n",
       "    <tr style=\"text-align: right;\">\n",
       "      <th></th>\n",
       "      <th>clientid</th>\n",
       "      <th>income</th>\n",
       "      <th>age</th>\n",
       "      <th>loan</th>\n",
       "      <th>default</th>\n",
       "    </tr>\n",
       "  </thead>\n",
       "  <tbody>\n",
       "    <tr>\n",
       "      <th>0</th>\n",
       "      <td>1</td>\n",
       "      <td>66155.925095</td>\n",
       "      <td>59.017015</td>\n",
       "      <td>8106.532131</td>\n",
       "      <td>0</td>\n",
       "    </tr>\n",
       "    <tr>\n",
       "      <th>1</th>\n",
       "      <td>2</td>\n",
       "      <td>34415.153966</td>\n",
       "      <td>48.117153</td>\n",
       "      <td>6564.745018</td>\n",
       "      <td>0</td>\n",
       "    </tr>\n",
       "    <tr>\n",
       "      <th>2</th>\n",
       "      <td>3</td>\n",
       "      <td>57317.170063</td>\n",
       "      <td>63.108049</td>\n",
       "      <td>8020.953296</td>\n",
       "      <td>0</td>\n",
       "    </tr>\n",
       "    <tr>\n",
       "      <th>3</th>\n",
       "      <td>4</td>\n",
       "      <td>42709.534201</td>\n",
       "      <td>45.751972</td>\n",
       "      <td>6103.642260</td>\n",
       "      <td>0</td>\n",
       "    </tr>\n",
       "    <tr>\n",
       "      <th>4</th>\n",
       "      <td>5</td>\n",
       "      <td>66952.688845</td>\n",
       "      <td>18.584336</td>\n",
       "      <td>8770.099235</td>\n",
       "      <td>1</td>\n",
       "    </tr>\n",
       "  </tbody>\n",
       "</table>\n",
       "</div>"
      ],
      "text/plain": [
       "   clientid        income        age         loan  default\n",
       "0         1  66155.925095  59.017015  8106.532131        0\n",
       "1         2  34415.153966  48.117153  6564.745018        0\n",
       "2         3  57317.170063  63.108049  8020.953296        0\n",
       "3         4  42709.534201  45.751972  6103.642260        0\n",
       "4         5  66952.688845  18.584336  8770.099235        1"
      ]
     },
     "execution_count": 7,
     "metadata": {},
     "output_type": "execute_result"
    }
   ],
   "source": [
    "import pandas as pd\n",
    "import numpy as np\n",
    "from sklearn.naive_bayes import GaussianNB\n",
    "from sklearn.linear_model import LogisticRegression\n",
    "from sklearn.ensemble import RandomForestClassifier\n",
    "from sklearn.model_selection import cross_val_score, KFold\n",
    "dataset = pd.read_csv('datasets/credit_data.csv')\n",
    "dataset.dropna(inplace=True)\n",
    "dataset.head()"
   ]
  },
  {
   "cell_type": "code",
   "execution_count": 8,
   "id": "f681613c-bf45-43a6-8541-9c2f04d93127",
   "metadata": {},
   "outputs": [],
   "source": [
    "X = dataset.iloc[:, 1:4].values\n",
    "y = dataset.iloc[:, 4].values"
   ]
  },
  {
   "cell_type": "code",
   "execution_count": 9,
   "id": "5dfcc55f-2827-4392-9dec-f634f68c177b",
   "metadata": {},
   "outputs": [
    {
     "data": {
      "text/plain": [
       "(59.0170150669292, 66155.9250950813)"
      ]
     },
     "execution_count": 9,
     "metadata": {},
     "output_type": "execute_result"
    }
   ],
   "source": [
    "min(X[0]), max(X[0])"
   ]
  },
  {
   "cell_type": "code",
   "execution_count": 10,
   "id": "07049a49-d519-4a65-8df6-5ece4fddc784",
   "metadata": {},
   "outputs": [],
   "source": [
    "from sklearn.preprocessing import StandardScaler\n",
    "scaler = StandardScaler()\n",
    "X = scaler.fit_transform(X)"
   ]
  },
  {
   "cell_type": "code",
   "execution_count": 11,
   "id": "bacc6ccc-4751-4fb2-b806-da3fd66dee0c",
   "metadata": {},
   "outputs": [
    {
     "data": {
      "text/plain": [
       "(1.2019070702053862, 1.4538977547824534)"
      ]
     },
     "execution_count": 11,
     "metadata": {},
     "output_type": "execute_result"
    }
   ],
   "source": [
    "min(X[0]), max(X[0])"
   ]
  },
  {
   "cell_type": "code",
   "execution_count": 12,
   "id": "3256601b-b52e-4e26-9631-e43f89e05abe",
   "metadata": {},
   "outputs": [],
   "source": [
    "resultados_naive_cv = []\n",
    "resultados_logistica_cv = []\n",
    "resultados_forest_cv = []\n",
    "for i in range(30):\n",
    "    kfold = KFold(n_splits = 10, shuffle = True, random_state = i)\n",
    "\n",
    "    naive_bayes = GaussianNB()\n",
    "    scores = cross_val_score(naive_bayes, X, y, cv = kfold)\n",
    "    resultados_naive_cv.append(scores.mean())\n",
    "\n",
    "    logistica = LogisticRegression()\n",
    "    scores = cross_val_score(logistica, X, y, cv = kfold)\n",
    "    resultados_logistica_cv.append(scores.mean())  \n",
    "\n",
    "    random_forest = RandomForestClassifier()\n",
    "    scores = cross_val_score(random_forest, X, y, cv = kfold)\n",
    "    resultados_forest_cv.append(scores.mean())\n",
    "\n",
    "resultados_naive_cv = np.array(resultados_naive_cv)\n",
    "resultados_logistica_cv = np.array(resultados_logistica_cv)\n",
    "resultados_forest_cv = np.array(resultados_forest_cv)"
   ]
  },
  {
   "cell_type": "code",
   "execution_count": 13,
   "id": "a64a620c-39ad-4a7c-8469-227d2273a175",
   "metadata": {},
   "outputs": [
    {
     "data": {
      "text/plain": [
       "(0.9249859296482411, 0.9457008375209381, 0.9870475711892795)"
      ]
     },
     "execution_count": 13,
     "metadata": {},
     "output_type": "execute_result"
    }
   ],
   "source": [
    "resultados_naive_cv.mean(), resultados_logistica_cv.mean(), resultados_forest_cv.mean()"
   ]
  },
  {
   "cell_type": "markdown",
   "id": "d5ebc09b-08f4-4979-b96c-d0bf4edbfaec",
   "metadata": {},
   "source": [
    "### Teste de hipótese de Shapiro-Wilk"
   ]
  },
  {
   "cell_type": "markdown",
   "id": "58ba74c3-b4e6-4573-804a-2b56b163e654",
   "metadata": {},
   "source": [
    "https://en.wikipedia.org/wiki/Shapiro%E2%80%93Wilk_test"
   ]
  },
  {
   "cell_type": "markdown",
   "id": "acacefed-8994-4ae6-ba8d-0824c746866e",
   "metadata": {},
   "source": [
    "> O algoritmo random forest tem apresentado o melhor desempenho, vamos avaliar se há diferença significativa entre os três algotimos. Porém precisamos verificar se os dados estão normalmente distribuídos com o teste de hipótese de Shapiro-Wilk."
   ]
  },
  {
   "cell_type": "code",
   "execution_count": 14,
   "id": "0afe3771-c785-4cfb-aa1f-91639901445a",
   "metadata": {},
   "outputs": [],
   "source": [
    "alpha = 0.05"
   ]
  },
  {
   "cell_type": "code",
   "execution_count": 15,
   "id": "79c17496-ec02-49bf-81ae-10c3a76b825b",
   "metadata": {},
   "outputs": [
    {
     "data": {
      "text/plain": [
       "(ShapiroResult(statistic=0.9646671414375305, pvalue=0.4051830470561981),\n",
       " ShapiroResult(statistic=0.9463143944740295, pvalue=0.13459184765815735),\n",
       " ShapiroResult(statistic=0.9525711536407471, pvalue=0.19801656901836395))"
      ]
     },
     "execution_count": 15,
     "metadata": {},
     "output_type": "execute_result"
    }
   ],
   "source": [
    "from scipy.stats import shapiro\n",
    "shapiro(resultados_naive_cv), shapiro(resultados_logistica_cv), shapiro(resultados_forest_cv)"
   ]
  },
  {
   "cell_type": "markdown",
   "id": "19d6a79d-c182-4d68-9b55-3abb0913cbfc",
   "metadata": {},
   "source": [
    "> O resultado mostra o pvalue > alpha então aceita hipótese nula do teste que significa que os dados estão normalmente distribuídos, se o pvalue < alpha, então aceitaria a hipótese alternativa, ou seja, os dados não são normalmente distruibuídos"
   ]
  },
  {
   "cell_type": "markdown",
   "id": "ec52cc28-bdd4-483c-9bc5-2bc79155314b",
   "metadata": {},
   "source": [
    "- Vamos analisar os gráficos para verificar se assemelham à distribuição normal"
   ]
  },
  {
   "cell_type": "code",
   "execution_count": 16,
   "id": "19698164-9572-4893-85bc-6be8044b0785",
   "metadata": {},
   "outputs": [
    {
     "name": "stderr",
     "output_type": "stream",
     "text": [
      "C:\\ProgramData\\Anaconda3\\lib\\site-packages\\seaborn\\distributions.py:2619: FutureWarning: `distplot` is a deprecated function and will be removed in a future version. Please adapt your code to use either `displot` (a figure-level function with similar flexibility) or `histplot` (an axes-level function for histograms).\n",
      "  warnings.warn(msg, FutureWarning)\n"
     ]
    },
    {
     "data": {
      "text/plain": [
       "<AxesSubplot:ylabel='Density'>"
      ]
     },
     "execution_count": 16,
     "metadata": {},
     "output_type": "execute_result"
    },
    {
     "data": {
      "image/png": "[encoded data removed]",
      "text/plain": [
       "<Figure size 432x288 with 1 Axes>"
      ]
     },
     "metadata": {
      "needs_background": "light"
     },
     "output_type": "display_data"
    }
   ],
   "source": [
    "import seaborn as sns\n",
    "sns.distplot(resultados_naive_cv)"
   ]
  },
  {
   "cell_type": "code",
   "execution_count": 17,
   "id": "1732aa4d-6765-4a31-98d5-44e01947a5d2",
   "metadata": {},
   "outputs": [
    {
     "name": "stderr",
     "output_type": "stream",
     "text": [
      "C:\\ProgramData\\Anaconda3\\lib\\site-packages\\seaborn\\distributions.py:2619: FutureWarning: `distplot` is a deprecated function and will be removed in a future version. Please adapt your code to use either `displot` (a figure-level function with similar flexibility) or `histplot` (an axes-level function for histograms).\n",
      "  warnings.warn(msg, FutureWarning)\n"
     ]
    },
    {
     "data": {
      "text/plain": [
       "<AxesSubplot:ylabel='Density'>"
      ]
     },
     "execution_count": 17,
     "metadata": {},
     "output_type": "execute_result"
    },
    {
     "data": {
      "image/png": "[encoded data removed]",
      "text/plain": [
       "<Figure size 432x288 with 1 Axes>"
      ]
     },
     "metadata": {
      "needs_background": "light"
     },
     "output_type": "display_data"
    }
   ],
   "source": [
    "sns.distplot(resultados_logistica_cv)"
   ]
  },
  {
   "cell_type": "code",
   "execution_count": null,
   "id": "3f784252-2bba-4ecc-b942-b5bd3420d43b",
   "metadata": {},
   "outputs": [],
   "source": []
  },
  {
   "cell_type": "code",
   "execution_count": 18,
   "id": "eaf95b6a-3158-4fbd-b6dc-1e98ab2ca75f",
   "metadata": {},
   "outputs": [
    {
     "name": "stderr",
     "output_type": "stream",
     "text": [
      "C:\\ProgramData\\Anaconda3\\lib\\site-packages\\seaborn\\distributions.py:2619: FutureWarning: `distplot` is a deprecated function and will be removed in a future version. Please adapt your code to use either `displot` (a figure-level function with similar flexibility) or `histplot` (an axes-level function for histograms).\n",
      "  warnings.warn(msg, FutureWarning)\n"
     ]
    },
    {
     "data": {
      "image/png": "[encoded data removed]",
      "text/plain": [
       "<Figure size 432x288 with 1 Axes>"
      ]
     },
     "metadata": {
      "needs_background": "light"
     },
     "output_type": "display_data"
    }
   ],
   "source": [
    "sns.distplot(resultados_forest_cv);"
   ]
  },
  {
   "cell_type": "markdown",
   "id": "5431f929-b7b6-448c-8a54-b50fd76474e1",
   "metadata": {},
   "source": [
    "### Teste de hipótese de D'Agostinho K^2"
   ]
  },
  {
   "cell_type": "markdown",
   "id": "624a88b0-2ed2-40c4-a0e1-0453083a1b41",
   "metadata": {},
   "source": [
    "https://en.wikipedia.org/wiki/D%27Agostino%27s_K-squared_test"
   ]
  },
  {
   "cell_type": "code",
   "execution_count": 19,
   "id": "17bba06c-12db-42c6-b320-712d70c5400d",
   "metadata": {},
   "outputs": [
    {
     "data": {
      "text/plain": [
       "(NormaltestResult(statistic=0.8391668731677201, pvalue=0.6573205784978502),\n",
       " NormaltestResult(statistic=4.079254883823804, pvalue=0.1300771631514313),\n",
       " NormaltestResult(statistic=2.3048206890510743, pvalue=0.3158744847287711))"
      ]
     },
     "execution_count": 19,
     "metadata": {},
     "output_type": "execute_result"
    }
   ],
   "source": [
    "from scipy.stats import normaltest\n",
    "normaltest(resultados_naive_cv), normaltest(resultados_logistica_cv), normaltest(resultados_forest_cv)"
   ]
  },
  {
   "cell_type": "markdown",
   "id": "ca2d6f5d-e02c-4ddc-af85-287b4bdd84c3",
   "metadata": {},
   "source": [
    "> Não é possível rejeitar a hipótese nula"
   ]
  },
  {
   "cell_type": "markdown",
   "id": "9d4b4ee8-4e91-4a24-a2c1-33936bd7af30",
   "metadata": {},
   "source": [
    "### Teste de hipótese de Anderson-Darling"
   ]
  },
  {
   "cell_type": "code",
   "execution_count": 20,
   "id": "68da2c09-0a03-4ad0-ad4a-99bc9631d564",
   "metadata": {},
   "outputs": [
    {
     "data": {
      "text/plain": [
       "(0.5456346672421084, 0.6048933015735969, 0.41696756915214195)"
      ]
     },
     "execution_count": 20,
     "metadata": {},
     "output_type": "execute_result"
    }
   ],
   "source": [
    "from scipy.stats import anderson\n",
    "anderson(resultados_naive_cv).statistic, anderson(resultados_logistica_cv).statistic, anderson(resultados_forest_cv).statistic"
   ]
  },
  {
   "cell_type": "markdown",
   "id": "d393dc6b-fdfb-49cd-ba7c-def62351445e",
   "metadata": {
    "tags": []
   },
   "source": [
    "> Não é possível rejeitar a hipótese nula"
   ]
  },
  {
   "cell_type": "markdown",
   "id": "3faafcea-af77-445b-a049-1c35fa2bc9ae",
   "metadata": {},
   "source": [
    "### Testes não paramétricos"
   ]
  },
  {
   "cell_type": "markdown",
   "id": "2a9ca523-c9cc-426a-83a2-55b2b95033b9",
   "metadata": {
    "jp-MarkdownHeadingCollapsed": true,
    "tags": []
   },
   "source": [
    "https://www.statisticshowto.com/parametric-and-non-parametric-data/#:~:text=Nonparametric%20tests%20can%20perform%20well,20%20items%20in%20each%20group).\n",
    "\n",
    "If at all possible, you should us parametric tests, as they tend to be more accurate. Parametric tests have greater statistical power, which means they are likely to find a true significant effect. Use nonparametric tests only if you have to (i.e. you know that assumptions like normality are being violated). Nonparametric tests can perform well with non-normal continuous data if you have a sufficiently large sample size (generally 15-20 items in each group)."
   ]
  },
  {
   "cell_type": "markdown",
   "id": "213c501c-024f-4a96-b88f-d8682e3864e1",
   "metadata": {},
   "source": [
    "#### Teste de Wilcoxon Signed-Rank"
   ]
  },
  {
   "cell_type": "markdown",
   "id": "56d8c63f-ca34-4fe1-a713-96265770b3c2",
   "metadata": {},
   "source": [
    "https://en.wikipedia.org/wiki/Wilcoxon_signed-rank_test"
   ]
  },
  {
   "cell_type": "code",
   "execution_count": 21,
   "id": "92861f9f-fb6f-4316-84d4-a6cf4ab4103e",
   "metadata": {},
   "outputs": [
    {
     "data": {
      "text/plain": [
       "1.7333066441991056e-06"
      ]
     },
     "execution_count": 21,
     "metadata": {},
     "output_type": "execute_result"
    }
   ],
   "source": [
    "from scipy.stats import wilcoxon\n",
    "_, p = wilcoxon(resultados_naive_cv, resultados_logistica_cv)\n",
    "p"
   ]
  },
  {
   "cell_type": "markdown",
   "id": "6d2836ed-f4e1-4a3f-b604-f174be1d0e79",
   "metadata": {},
   "source": [
    "> p < alpha: rejeitamos a hipótese nula que diz que não há diferença. Aceitamos a hipótese alternativa."
   ]
  },
  {
   "cell_type": "code",
   "execution_count": 22,
   "id": "ea686507-a4e7-4b30-92a5-ce4bf29b98f5",
   "metadata": {},
   "outputs": [
    {
     "data": {
      "text/plain": [
       "1.7311263949197288e-06"
      ]
     },
     "execution_count": 22,
     "metadata": {},
     "output_type": "execute_result"
    }
   ],
   "source": [
    "_, p = wilcoxon(resultados_naive_cv, resultados_forest_cv)\n",
    "p"
   ]
  },
  {
   "cell_type": "markdown",
   "id": "d4c2c861-35da-47ac-9232-570fa847d678",
   "metadata": {},
   "source": [
    "> p < alpha: rejeitamos a hipótese nula que diz que não há diferença. Aceitamos a hipótese alternativa."
   ]
  },
  {
   "cell_type": "code",
   "execution_count": 23,
   "id": "a6828625-6aab-41cf-8777-7ce3d9a04fbc",
   "metadata": {},
   "outputs": [
    {
     "data": {
      "text/plain": [
       "1.7333066441991056e-06"
      ]
     },
     "execution_count": 23,
     "metadata": {},
     "output_type": "execute_result"
    }
   ],
   "source": [
    "_, p = wilcoxon(resultados_logistica_cv, resultados_forest_cv)\n",
    "p"
   ]
  },
  {
   "cell_type": "markdown",
   "id": "1f7a0036-3164-49ff-ae4f-85bf38122c8d",
   "metadata": {},
   "source": [
    "> p < alpha: rejeitamos a hipótese nula que diz que não há diferença. Aceitamos a hipótese alternativa."
   ]
  },
  {
   "cell_type": "markdown",
   "id": "7fc31533-c96d-4ae2-97c1-87c0d1674b31",
   "metadata": {},
   "source": [
    "> dessa forma podemos concluir que o Random Forest é superior ao Naive Bayes e Regrassão Logística pois apresentou a média melhor"
   ]
  },
  {
   "cell_type": "markdown",
   "id": "351be204-3e00-4553-b010-ddd6efe91200",
   "metadata": {},
   "source": [
    "### Teste de Friedman"
   ]
  },
  {
   "cell_type": "markdown",
   "id": "b6f06306-d26c-4342-a8c3-1c8a72c94bf5",
   "metadata": {},
   "source": [
    "https://en.wikipedia.org/wiki/Friedman_test\n",
    "\n",
    "O teste de Friedman tem como vantagem receber mais de uma base de dados para realizar as comparações, porém retorna um valor que indica que há diferença significativa, porém não indica quais comparações apontam diferença.\n",
    "\n",
    "Teste de Nemenyi: https://en.wikipedia.org/wiki/Nemenyi_test"
   ]
  },
  {
   "cell_type": "code",
   "execution_count": 30,
   "id": "ad55c17d-231f-4381-9afa-477dfdb8c840",
   "metadata": {},
   "outputs": [],
   "source": [
    "from scipy.stats import friedmanchisquare"
   ]
  },
  {
   "cell_type": "code",
   "execution_count": 31,
   "id": "6ba61734-73b9-422b-8dcd-a3a07700938d",
   "metadata": {},
   "outputs": [
    {
     "data": {
      "text/plain": [
       "9.357622968840163e-14"
      ]
     },
     "execution_count": 31,
     "metadata": {},
     "output_type": "execute_result"
    }
   ],
   "source": [
    "_, p = friedmanchisquare(resultados_naive_cv, resultados_logistica_cv, resultados_forest_cv)\n",
    "p"
   ]
  },
  {
   "cell_type": "markdown",
   "id": "afa13f46-9744-4f73-a2e6-ca4729b58609",
   "metadata": {},
   "source": [
    "### ANOVA e Tukey - algoritmos"
   ]
  },
  {
   "cell_type": "code",
   "execution_count": 24,
   "id": "29a40ae2-463f-41c7-a1ad-5d9fd35676af",
   "metadata": {},
   "outputs": [],
   "source": [
    "from scipy.stats import f_oneway"
   ]
  },
  {
   "cell_type": "code",
   "execution_count": 25,
   "id": "a887bf6f-8e34-4213-801a-1756f8baaa96",
   "metadata": {},
   "outputs": [
    {
     "data": {
      "text/plain": [
       "1.2184713732197273e-116"
      ]
     },
     "execution_count": 25,
     "metadata": {},
     "output_type": "execute_result"
    }
   ],
   "source": [
    "_, p = f_oneway(resultados_naive_cv, resultados_logistica_cv, resultados_forest_cv)\n",
    "p"
   ]
  },
  {
   "cell_type": "code",
   "execution_count": 26,
   "id": "95558070-ffe9-4e66-8c8e-26ab15267d66",
   "metadata": {},
   "outputs": [
    {
     "name": "stdout",
     "output_type": "stream",
     "text": [
      "Hipótese nula rejeitada. Dados são diferentes\n"
     ]
    }
   ],
   "source": [
    "alpha = 0.05\n",
    "if p <= alpha:\n",
    "    print('Hipótese nula rejeitada. Dados são diferentes')\n",
    "else:\n",
    "    print('Hipótese alternativa rejeitada')"
   ]
  },
  {
   "cell_type": "code",
   "execution_count": 27,
   "id": "71115120-63c8-456c-8802-5e43ce80e1de",
   "metadata": {},
   "outputs": [],
   "source": [
    "resultados_algoritmos = {'accuracy': np.concatenate([resultados_naive_cv, resultados_logistica_cv, resultados_forest_cv]),\n",
    "                         'algoritmo': ['naive', 'naive','naive','naive','naive','naive','naive','naive','naive','naive',\n",
    "                                       'naive', 'naive','naive','naive','naive','naive','naive','naive','naive','naive',\n",
    "                                       'naive', 'naive','naive','naive','naive','naive','naive','naive','naive','naive',\n",
    "                                       'logistic','logistic','logistic','logistic','logistic','logistic','logistic','logistic','logistic','logistic',\n",
    "                                       'logistic','logistic','logistic','logistic','logistic','logistic','logistic','logistic','logistic','logistic',\n",
    "                                       'logistic','logistic','logistic','logistic','logistic','logistic','logistic','logistic','logistic','logistic',\n",
    "                                       'forest','forest','forest','forest','forest','forest','forest','forest','forest','forest',\n",
    "                                       'forest','forest','forest','forest','forest','forest','forest','forest','forest','forest',\n",
    "                                       'forest','forest','forest','forest','forest','forest','forest','forest','forest','forest']}"
   ]
  },
  {
   "cell_type": "code",
   "execution_count": 28,
   "id": "58f2bd03-97cd-41d0-903c-a42cd8f4742d",
   "metadata": {},
   "outputs": [
    {
     "data": {
      "text/html": [
       "<div>\n",
       "<style scoped>\n",
       "    .dataframe tbody tr th:only-of-type {\n",
       "        vertical-align: middle;\n",
       "    }\n",
       "\n",
       "    .dataframe tbody tr th {\n",
       "        vertical-align: top;\n",
       "    }\n",
       "\n",
       "    .dataframe thead th {\n",
       "        text-align: right;\n",
       "    }\n",
       "</style>\n",
       "<table border=\"1\" class=\"dataframe\">\n",
       "  <thead>\n",
       "    <tr style=\"text-align: right;\">\n",
       "      <th></th>\n",
       "      <th>accuracy</th>\n",
       "      <th>algoritmo</th>\n",
       "    </tr>\n",
       "  </thead>\n",
       "  <tbody>\n",
       "    <tr>\n",
       "      <th>0</th>\n",
       "      <td>0.924862</td>\n",
       "      <td>naive</td>\n",
       "    </tr>\n",
       "    <tr>\n",
       "      <th>1</th>\n",
       "      <td>0.924917</td>\n",
       "      <td>naive</td>\n",
       "    </tr>\n",
       "    <tr>\n",
       "      <th>2</th>\n",
       "      <td>0.924387</td>\n",
       "      <td>naive</td>\n",
       "    </tr>\n",
       "    <tr>\n",
       "      <th>3</th>\n",
       "      <td>0.922882</td>\n",
       "      <td>naive</td>\n",
       "    </tr>\n",
       "    <tr>\n",
       "      <th>4</th>\n",
       "      <td>0.924872</td>\n",
       "      <td>naive</td>\n",
       "    </tr>\n",
       "    <tr>\n",
       "      <th>...</th>\n",
       "      <td>...</td>\n",
       "      <td>...</td>\n",
       "    </tr>\n",
       "    <tr>\n",
       "      <th>85</th>\n",
       "      <td>0.987490</td>\n",
       "      <td>forest</td>\n",
       "    </tr>\n",
       "    <tr>\n",
       "      <th>86</th>\n",
       "      <td>0.986977</td>\n",
       "      <td>forest</td>\n",
       "    </tr>\n",
       "    <tr>\n",
       "      <th>87</th>\n",
       "      <td>0.987980</td>\n",
       "      <td>forest</td>\n",
       "    </tr>\n",
       "    <tr>\n",
       "      <th>88</th>\n",
       "      <td>0.989492</td>\n",
       "      <td>forest</td>\n",
       "    </tr>\n",
       "    <tr>\n",
       "      <th>89</th>\n",
       "      <td>0.988987</td>\n",
       "      <td>forest</td>\n",
       "    </tr>\n",
       "  </tbody>\n",
       "</table>\n",
       "<p>90 rows × 2 columns</p>\n",
       "</div>"
      ],
      "text/plain": [
       "    accuracy algoritmo\n",
       "0   0.924862     naive\n",
       "1   0.924917     naive\n",
       "2   0.924387     naive\n",
       "3   0.922882     naive\n",
       "4   0.924872     naive\n",
       "..       ...       ...\n",
       "85  0.987490    forest\n",
       "86  0.986977    forest\n",
       "87  0.987980    forest\n",
       "88  0.989492    forest\n",
       "89  0.988987    forest\n",
       "\n",
       "[90 rows x 2 columns]"
      ]
     },
     "execution_count": 28,
     "metadata": {},
     "output_type": "execute_result"
    }
   ],
   "source": [
    "import pandas as pd\n",
    "resultados_df = pd.DataFrame(resultados_algoritmos)\n",
    "resultados_df"
   ]
  },
  {
   "cell_type": "code",
   "execution_count": 32,
   "id": "952b2648-3826-40de-9523-3273d9878147",
   "metadata": {},
   "outputs": [],
   "source": [
    "from statsmodels.stats.multicomp import MultiComparison"
   ]
  },
  {
   "cell_type": "code",
   "execution_count": 33,
   "id": "d07bdb45-392d-4755-b29e-0ac986548162",
   "metadata": {},
   "outputs": [],
   "source": [
    "compara_grupos = MultiComparison(resultados_df['accuracy'], resultados_df['algoritmo'])"
   ]
  },
  {
   "cell_type": "code",
   "execution_count": 34,
   "id": "5b11677f-e660-4ce9-9ff8-476e0988ea16",
   "metadata": {},
   "outputs": [
    {
     "name": "stdout",
     "output_type": "stream",
     "text": [
      "  Multiple Comparison of Means - Tukey HSD, FWER=0.05  \n",
      "=======================================================\n",
      " group1   group2  meandiff p-adj  lower   upper  reject\n",
      "-------------------------------------------------------\n",
      "  forest logistic  -0.0413 0.001 -0.0421 -0.0406   True\n",
      "  forest    naive  -0.0621 0.001 -0.0628 -0.0613   True\n",
      "logistic    naive  -0.0207 0.001 -0.0215   -0.02   True\n",
      "-------------------------------------------------------\n"
     ]
    }
   ],
   "source": [
    "teste = compara_grupos.tukeyhsd()\n",
    "print(teste)"
   ]
  },
  {
   "cell_type": "markdown",
   "id": "53ef5cde-d676-4738-bb24-720a818d9b6e",
   "metadata": {},
   "source": [
    "> Todas comparações apontam diferenças significativas. Podemos concluir que o Random Forest é que apresentou melhor média."
   ]
  },
  {
   "cell_type": "code",
   "execution_count": 35,
   "id": "3350de2f-6b1f-485b-94a4-6fea0efe1f5a",
   "metadata": {},
   "outputs": [
    {
     "data": {
      "image/png": "[encoded data removed]",
      "text/plain": [
       "<Figure size 720x432 with 1 Axes>"
      ]
     },
     "execution_count": 35,
     "metadata": {},
     "output_type": "execute_result"
    },
    {
     "data": {
      "image/png": "[encoded data removed]",
      "text/plain": [
       "<Figure size 720x432 with 1 Axes>"
      ]
     },
     "metadata": {
      "needs_background": "light"
     },
     "output_type": "display_data"
    }
   ],
   "source": [
    "teste.plot_simultaneous()"
   ]
  },
  {
   "cell_type": "markdown",
   "id": "a1ef9200-c1a3-4485-afca-9be4a358cfb9",
   "metadata": {},
   "source": [
    "### Geração do arquivo com os resultados para o teste de Nemenyi"
   ]
  },
  {
   "cell_type": "code",
   "execution_count": 36,
   "id": "c3ce5e7a-43cc-4f4b-bbf1-d2c634371a46",
   "metadata": {},
   "outputs": [],
   "source": [
    "resultados_algoritmos = {'naive_bayes': resultados_naive_cv,\n",
    "                         'logistica': resultados_logistica_cv,\n",
    "                         'random_forest': resultados_forest_cv}"
   ]
  },
  {
   "cell_type": "code",
   "execution_count": 37,
   "id": "bc24d7d2-f0cd-4065-ba49-8dce89e1160c",
   "metadata": {},
   "outputs": [
    {
     "data": {
      "text/html": [
       "<div>\n",
       "<style scoped>\n",
       "    .dataframe tbody tr th:only-of-type {\n",
       "        vertical-align: middle;\n",
       "    }\n",
       "\n",
       "    .dataframe tbody tr th {\n",
       "        vertical-align: top;\n",
       "    }\n",
       "\n",
       "    .dataframe thead th {\n",
       "        text-align: right;\n",
       "    }\n",
       "</style>\n",
       "<table border=\"1\" class=\"dataframe\">\n",
       "  <thead>\n",
       "    <tr style=\"text-align: right;\">\n",
       "      <th></th>\n",
       "      <th>naive_bayes</th>\n",
       "      <th>logistica</th>\n",
       "      <th>random_forest</th>\n",
       "    </tr>\n",
       "  </thead>\n",
       "  <tbody>\n",
       "    <tr>\n",
       "      <th>0</th>\n",
       "      <td>0.924862</td>\n",
       "      <td>0.946427</td>\n",
       "      <td>0.983472</td>\n",
       "    </tr>\n",
       "    <tr>\n",
       "      <th>1</th>\n",
       "      <td>0.924917</td>\n",
       "      <td>0.946402</td>\n",
       "      <td>0.984980</td>\n",
       "    </tr>\n",
       "    <tr>\n",
       "      <th>2</th>\n",
       "      <td>0.924387</td>\n",
       "      <td>0.946417</td>\n",
       "      <td>0.984980</td>\n",
       "    </tr>\n",
       "    <tr>\n",
       "      <th>3</th>\n",
       "      <td>0.922882</td>\n",
       "      <td>0.944910</td>\n",
       "      <td>0.985470</td>\n",
       "    </tr>\n",
       "    <tr>\n",
       "      <th>4</th>\n",
       "      <td>0.924872</td>\n",
       "      <td>0.945915</td>\n",
       "      <td>0.988987</td>\n",
       "    </tr>\n",
       "    <tr>\n",
       "      <th>5</th>\n",
       "      <td>0.925889</td>\n",
       "      <td>0.942917</td>\n",
       "      <td>0.986987</td>\n",
       "    </tr>\n",
       "    <tr>\n",
       "      <th>6</th>\n",
       "      <td>0.924384</td>\n",
       "      <td>0.944912</td>\n",
       "      <td>0.986475</td>\n",
       "    </tr>\n",
       "    <tr>\n",
       "      <th>7</th>\n",
       "      <td>0.924889</td>\n",
       "      <td>0.946902</td>\n",
       "      <td>0.985482</td>\n",
       "    </tr>\n",
       "    <tr>\n",
       "      <th>8</th>\n",
       "      <td>0.924872</td>\n",
       "      <td>0.945415</td>\n",
       "      <td>0.985477</td>\n",
       "    </tr>\n",
       "    <tr>\n",
       "      <th>9</th>\n",
       "      <td>0.923889</td>\n",
       "      <td>0.943927</td>\n",
       "      <td>0.988485</td>\n",
       "    </tr>\n",
       "    <tr>\n",
       "      <th>10</th>\n",
       "      <td>0.925384</td>\n",
       "      <td>0.946425</td>\n",
       "      <td>0.987982</td>\n",
       "    </tr>\n",
       "    <tr>\n",
       "      <th>11</th>\n",
       "      <td>0.924402</td>\n",
       "      <td>0.945422</td>\n",
       "      <td>0.985970</td>\n",
       "    </tr>\n",
       "    <tr>\n",
       "      <th>12</th>\n",
       "      <td>0.925374</td>\n",
       "      <td>0.946422</td>\n",
       "      <td>0.989480</td>\n",
       "    </tr>\n",
       "    <tr>\n",
       "      <th>13</th>\n",
       "      <td>0.924394</td>\n",
       "      <td>0.945402</td>\n",
       "      <td>0.987982</td>\n",
       "    </tr>\n",
       "    <tr>\n",
       "      <th>14</th>\n",
       "      <td>0.924887</td>\n",
       "      <td>0.944410</td>\n",
       "      <td>0.986985</td>\n",
       "    </tr>\n",
       "    <tr>\n",
       "      <th>15</th>\n",
       "      <td>0.925382</td>\n",
       "      <td>0.945922</td>\n",
       "      <td>0.989487</td>\n",
       "    </tr>\n",
       "    <tr>\n",
       "      <th>16</th>\n",
       "      <td>0.925884</td>\n",
       "      <td>0.945940</td>\n",
       "      <td>0.987987</td>\n",
       "    </tr>\n",
       "    <tr>\n",
       "      <th>17</th>\n",
       "      <td>0.924394</td>\n",
       "      <td>0.944912</td>\n",
       "      <td>0.986472</td>\n",
       "    </tr>\n",
       "    <tr>\n",
       "      <th>18</th>\n",
       "      <td>0.924382</td>\n",
       "      <td>0.945399</td>\n",
       "      <td>0.986982</td>\n",
       "    </tr>\n",
       "    <tr>\n",
       "      <th>19</th>\n",
       "      <td>0.925884</td>\n",
       "      <td>0.946417</td>\n",
       "      <td>0.982977</td>\n",
       "    </tr>\n",
       "    <tr>\n",
       "      <th>20</th>\n",
       "      <td>0.925894</td>\n",
       "      <td>0.947435</td>\n",
       "      <td>0.986972</td>\n",
       "    </tr>\n",
       "    <tr>\n",
       "      <th>21</th>\n",
       "      <td>0.925389</td>\n",
       "      <td>0.944912</td>\n",
       "      <td>0.987480</td>\n",
       "    </tr>\n",
       "    <tr>\n",
       "      <th>22</th>\n",
       "      <td>0.924364</td>\n",
       "      <td>0.946425</td>\n",
       "      <td>0.986982</td>\n",
       "    </tr>\n",
       "    <tr>\n",
       "      <th>23</th>\n",
       "      <td>0.926884</td>\n",
       "      <td>0.944910</td>\n",
       "      <td>0.987477</td>\n",
       "    </tr>\n",
       "    <tr>\n",
       "      <th>24</th>\n",
       "      <td>0.923394</td>\n",
       "      <td>0.945899</td>\n",
       "      <td>0.988485</td>\n",
       "    </tr>\n",
       "    <tr>\n",
       "      <th>25</th>\n",
       "      <td>0.924889</td>\n",
       "      <td>0.945922</td>\n",
       "      <td>0.987490</td>\n",
       "    </tr>\n",
       "    <tr>\n",
       "      <th>26</th>\n",
       "      <td>0.924887</td>\n",
       "      <td>0.947440</td>\n",
       "      <td>0.986977</td>\n",
       "    </tr>\n",
       "    <tr>\n",
       "      <th>27</th>\n",
       "      <td>0.925392</td>\n",
       "      <td>0.945422</td>\n",
       "      <td>0.987980</td>\n",
       "    </tr>\n",
       "    <tr>\n",
       "      <th>28</th>\n",
       "      <td>0.925884</td>\n",
       "      <td>0.946425</td>\n",
       "      <td>0.989492</td>\n",
       "    </tr>\n",
       "    <tr>\n",
       "      <th>29</th>\n",
       "      <td>0.926384</td>\n",
       "      <td>0.945422</td>\n",
       "      <td>0.988987</td>\n",
       "    </tr>\n",
       "  </tbody>\n",
       "</table>\n",
       "</div>"
      ],
      "text/plain": [
       "    naive_bayes  logistica  random_forest\n",
       "0      0.924862   0.946427       0.983472\n",
       "1      0.924917   0.946402       0.984980\n",
       "2      0.924387   0.946417       0.984980\n",
       "3      0.922882   0.944910       0.985470\n",
       "4      0.924872   0.945915       0.988987\n",
       "5      0.925889   0.942917       0.986987\n",
       "6      0.924384   0.944912       0.986475\n",
       "7      0.924889   0.946902       0.985482\n",
       "8      0.924872   0.945415       0.985477\n",
       "9      0.923889   0.943927       0.988485\n",
       "10     0.925384   0.946425       0.987982\n",
       "11     0.924402   0.945422       0.985970\n",
       "12     0.925374   0.946422       0.989480\n",
       "13     0.924394   0.945402       0.987982\n",
       "14     0.924887   0.944410       0.986985\n",
       "15     0.925382   0.945922       0.989487\n",
       "16     0.925884   0.945940       0.987987\n",
       "17     0.924394   0.944912       0.986472\n",
       "18     0.924382   0.945399       0.986982\n",
       "19     0.925884   0.946417       0.982977\n",
       "20     0.925894   0.947435       0.986972\n",
       "21     0.925389   0.944912       0.987480\n",
       "22     0.924364   0.946425       0.986982\n",
       "23     0.926884   0.944910       0.987477\n",
       "24     0.923394   0.945899       0.988485\n",
       "25     0.924889   0.945922       0.987490\n",
       "26     0.924887   0.947440       0.986977\n",
       "27     0.925392   0.945422       0.987980\n",
       "28     0.925884   0.946425       0.989492\n",
       "29     0.926384   0.945422       0.988987"
      ]
     },
     "execution_count": 37,
     "metadata": {},
     "output_type": "execute_result"
    }
   ],
   "source": [
    "resultados_df = pd.DataFrame(resultados_algoritmos)\n",
    "resultados_df"
   ]
  },
  {
   "cell_type": "code",
   "execution_count": 39,
   "id": "aa4c03f8-9c31-42bf-850a-c32f6cee2645",
   "metadata": {},
   "outputs": [],
   "source": [
    "# Salvando excel para realizar uma análise no excel, rankear cada execução\n",
    "resultados_df.to_excel('resultados_excel.xlsx', sheet_name='resultados')"
   ]
  }
 ],
 "metadata": {
  "kernelspec": {
   "display_name": "Python 3 (ipykernel)",
   "language": "python",
   "name": "python3"
  },
  "language_info": {
   "codemirror_mode": {
    "name": "ipython",
    "version": 3
   },
   "file_extension": ".py",
   "mimetype": "text/x-python",
   "name": "python",
   "nbconvert_exporter": "python",
   "pygments_lexer": "ipython3",
   "version": "3.8.12"
  }
 },
 "nbformat": 4,
 "nbformat_minor": 5
}
