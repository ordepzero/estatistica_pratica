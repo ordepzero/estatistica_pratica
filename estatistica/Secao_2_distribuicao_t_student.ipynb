{
 "cells": [
  {
   "cell_type": "markdown",
   "id": "6a3a3787-f6f0-4f27-9640-80c001b9aa91",
   "metadata": {},
   "source": [
    "### Distribuição T-student\n",
    "\n",
    "- Adequada quando se há poucos dados (30 valores) e variação não conhecida\n",
    "- Há maior dispersão dos dados\n",
    "- É uma distribuição normalmente formatada, mas um pouco mais espessa e mais longa nas caudas.\n",
    "- É extensivamente usada para representar distribuições de estatísticas amostrais.\n",
    "- Quanto maior é a amostra, mais normalmente formatada se torna a distribuição t.\n",
    "- É necessária a padronização dos dados.\n",
    "- A precisão da distribuição t na representação do comportamento de uma estatística amostral exige que a distribuição de tal estatística seja formatada como uma distribuição normal\n",
    "\n",
    "\n",
    "#### Graus de liberdade\n",
    "- Parâmetro que permite que a distribuição t se ajuste a diferentes tamanhos de amostras, estatísticas e números de grupos.\n",
    "\n",
    "\n",
    "#### Função\n",
    "- $\\bar x \\pm t_{n-1, \\dfrac{\\alpha}{2}} \\dfrac{S}{\\sqrt{n}}$\n",
    "\n",
    "\n",
    "Onde:\n",
    "\n",
    "$\\bar x$: média da amostra\n",
    "\n",
    "$t$: valor encontrado na tabela T\n",
    "\n",
    "$n$: tamanho da amostra\n",
    "\n",
    "$n-1$: graus de liberdade\n",
    "\n",
    "$\\alpha$ : 1 - nível de confiança\n",
    "\n",
    "$S $: desvio padrão da amostra\n"
   ]
  },
  {
   "cell_type": "markdown",
   "id": "6d0608cb-e7de-4b2d-bb86-b1102593b68b",
   "metadata": {},
   "source": [
    "#### Como consultar na tabela T\n",
    "\n",
    "- A linha corresponde aos graus de liberdade\n",
    "- A coluna corresponde ao $\\alpha$/2\n",
    "- Coeficiente T é valor encontrado no cruzamento da linha e coluna"
   ]
  },
  {
   "cell_type": "markdown",
   "id": "6a3fc4ac-5399-4d1b-a734-5569e1410912",
   "metadata": {},
   "source": [
    "### Exemplo prático - Calculando o intervalo de confiança manualmente"
   ]
  },
  {
   "cell_type": "code",
   "execution_count": 8,
   "id": "7da8a93a-bf2e-4fbf-a113-3b9338e3cf04",
   "metadata": {},
   "outputs": [],
   "source": [
    "import numpy as np\n",
    "from scipy.stats import t\n",
    "from scipy import stats"
   ]
  },
  {
   "cell_type": "code",
   "execution_count": 2,
   "id": "d7a31cde-6dc1-4aae-b396-28f3af5a5983",
   "metadata": {},
   "outputs": [],
   "source": [
    "dados = np.array([149. , 160., 147., 189., 175., 168., 156., 160., 152.])"
   ]
  },
  {
   "cell_type": "code",
   "execution_count": 3,
   "id": "c1975458-9fb9-4581-a526-090d0b385537",
   "metadata": {},
   "outputs": [
    {
     "data": {
      "text/plain": [
       "9"
      ]
     },
     "execution_count": 3,
     "metadata": {},
     "output_type": "execute_result"
    }
   ],
   "source": [
    "n = len(dados)\n",
    "n"
   ]
  },
  {
   "cell_type": "code",
   "execution_count": 4,
   "id": "fd3edbc8-be74-4661-9f8d-ddf97bc22db4",
   "metadata": {},
   "outputs": [
    {
     "data": {
      "text/plain": [
       "161.77777777777777"
      ]
     },
     "execution_count": 4,
     "metadata": {},
     "output_type": "execute_result"
    }
   ],
   "source": [
    "media = dados.mean()\n",
    "media"
   ]
  },
  {
   "cell_type": "code",
   "execution_count": 5,
   "id": "7d3eb2ce-7a71-4ade-bae1-07c1a058605a",
   "metadata": {},
   "outputs": [
    {
     "data": {
      "text/plain": [
       "12.786953227391823"
      ]
     },
     "execution_count": 5,
     "metadata": {},
     "output_type": "execute_result"
    }
   ],
   "source": [
    "desvio_padrao = np.std(dados)\n",
    "desvio_padrao"
   ]
  },
  {
   "cell_type": "code",
   "execution_count": 11,
   "id": "17c6a9eb-5f98-47b9-bbb2-57357e07a5bb",
   "metadata": {},
   "outputs": [
    {
     "data": {
      "text/plain": [
       "(151.9488554388298, 171.60670011672573)"
      ]
     },
     "execution_count": 11,
     "metadata": {},
     "output_type": "execute_result"
    }
   ],
   "source": [
    "# Parâmetro ddof corresponde aos graus de liberdade, neste exemplo ele não vai considerar os GL\n",
    "intervalos = t.interval(0.95, n - 1, media, stats.sem(dados, ddof = 0))\n",
    "intervalos"
   ]
  },
  {
   "cell_type": "code",
   "execution_count": 10,
   "id": "e1c6dd16-4f87-47ea-a51c-542f5ee8ef05",
   "metadata": {},
   "outputs": [
    {
     "data": {
      "text/plain": [
       "9.828922338947962"
      ]
     },
     "execution_count": 10,
     "metadata": {},
     "output_type": "execute_result"
    }
   ],
   "source": [
    "margem_erro = media - intervalos[0]\n",
    "margem_erro"
   ]
  }
 ],
 "metadata": {
  "kernelspec": {
   "display_name": "Python 3 (ipykernel)",
   "language": "python",
   "name": "python3"
  },
  "language_info": {
   "codemirror_mode": {
    "name": "ipython",
    "version": 3
   },
   "file_extension": ".py",
   "mimetype": "text/x-python",
   "name": "python",
   "nbconvert_exporter": "python",
   "pygments_lexer": "ipython3",
   "version": "3.8.12"
  }
 },
 "nbformat": 4,
 "nbformat_minor": 5
}
