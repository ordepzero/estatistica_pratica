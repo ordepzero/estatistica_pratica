{
 "cells": [
  {
   "cell_type": "markdown",
   "id": "d1ae7865-353a-4d8a-aec0-79939dfb0aa7",
   "metadata": {},
   "source": [
    "### Intervalos de Confiança em Machine Learning"
   ]
  },
  {
   "cell_type": "code",
   "execution_count": 21,
   "id": "80ee13e4-c90f-4045-8303-aca96c35e70d",
   "metadata": {
    "scrolled": true
   },
   "outputs": [
    {
     "data": {
      "text/html": [
       "<div>\n",
       "<style scoped>\n",
       "    .dataframe tbody tr th:only-of-type {\n",
       "        vertical-align: middle;\n",
       "    }\n",
       "\n",
       "    .dataframe tbody tr th {\n",
       "        vertical-align: top;\n",
       "    }\n",
       "\n",
       "    .dataframe thead th {\n",
       "        text-align: right;\n",
       "    }\n",
       "</style>\n",
       "<table border=\"1\" class=\"dataframe\">\n",
       "  <thead>\n",
       "    <tr style=\"text-align: right;\">\n",
       "      <th></th>\n",
       "      <th>clientid</th>\n",
       "      <th>income</th>\n",
       "      <th>age</th>\n",
       "      <th>loan</th>\n",
       "      <th>default</th>\n",
       "    </tr>\n",
       "  </thead>\n",
       "  <tbody>\n",
       "    <tr>\n",
       "      <th>0</th>\n",
       "      <td>1</td>\n",
       "      <td>66155.925095</td>\n",
       "      <td>59.017015</td>\n",
       "      <td>8106.532131</td>\n",
       "      <td>0</td>\n",
       "    </tr>\n",
       "    <tr>\n",
       "      <th>1</th>\n",
       "      <td>2</td>\n",
       "      <td>34415.153966</td>\n",
       "      <td>48.117153</td>\n",
       "      <td>6564.745018</td>\n",
       "      <td>0</td>\n",
       "    </tr>\n",
       "    <tr>\n",
       "      <th>2</th>\n",
       "      <td>3</td>\n",
       "      <td>57317.170063</td>\n",
       "      <td>63.108049</td>\n",
       "      <td>8020.953296</td>\n",
       "      <td>0</td>\n",
       "    </tr>\n",
       "    <tr>\n",
       "      <th>3</th>\n",
       "      <td>4</td>\n",
       "      <td>42709.534201</td>\n",
       "      <td>45.751972</td>\n",
       "      <td>6103.642260</td>\n",
       "      <td>0</td>\n",
       "    </tr>\n",
       "    <tr>\n",
       "      <th>4</th>\n",
       "      <td>5</td>\n",
       "      <td>66952.688845</td>\n",
       "      <td>18.584336</td>\n",
       "      <td>8770.099235</td>\n",
       "      <td>1</td>\n",
       "    </tr>\n",
       "  </tbody>\n",
       "</table>\n",
       "</div>"
      ],
      "text/plain": [
       "   clientid        income        age         loan  default\n",
       "0         1  66155.925095  59.017015  8106.532131        0\n",
       "1         2  34415.153966  48.117153  6564.745018        0\n",
       "2         3  57317.170063  63.108049  8020.953296        0\n",
       "3         4  42709.534201  45.751972  6103.642260        0\n",
       "4         5  66952.688845  18.584336  8770.099235        1"
      ]
     },
     "execution_count": 21,
     "metadata": {},
     "output_type": "execute_result"
    }
   ],
   "source": [
    "import numpy as np\n",
    "import pandas as pd\n",
    "import seaborn as sns\n",
    "from scipy import stats\n",
    "from sklearn.model_selection import train_test_split\n",
    "from sklearn.naive_bayes import GaussianNB\n",
    "from sklearn.linear_model import LogisticRegression\n",
    "from sklearn.ensemble import RandomForestClassifier\n",
    "from sklearn.metrics import accuracy_score\n",
    "from sklearn.model_selection import cross_val_score, KFold\n",
    "dataset = pd.read_csv('datasets/credit_data.csv')\n",
    "dataset.dropna(inplace=True)\n",
    "dataset.head()"
   ]
  },
  {
   "cell_type": "code",
   "execution_count": 2,
   "id": "fa2ecf2a",
   "metadata": {},
   "outputs": [
    {
     "data": {
      "text/plain": [
       "array([[6.61559251e+04, 5.90170151e+01, 8.10653213e+03],\n",
       "       [3.44151540e+04, 4.81171531e+01, 6.56474502e+03],\n",
       "       [5.73171701e+04, 6.31080495e+01, 8.02095330e+03],\n",
       "       ...,\n",
       "       [4.43114493e+04, 2.80171669e+01, 5.52278669e+03],\n",
       "       [4.37560566e+04, 6.39717958e+01, 1.62272260e+03],\n",
       "       [6.94365796e+04, 5.61526170e+01, 7.37883360e+03]])"
      ]
     },
     "execution_count": 2,
     "metadata": {},
     "output_type": "execute_result"
    }
   ],
   "source": [
    "# Atributos preditores\n",
    "X = dataset.iloc[:, 1:4].values\n",
    "X"
   ]
  },
  {
   "cell_type": "code",
   "execution_count": 3,
   "id": "0926bbbc",
   "metadata": {},
   "outputs": [
    {
     "data": {
      "text/plain": [
       "array([0, 0, 0, ..., 1, 0, 0], dtype=int64)"
      ]
     },
     "execution_count": 3,
     "metadata": {},
     "output_type": "execute_result"
    }
   ],
   "source": [
    "# Atributo alvo\n",
    "y = dataset.iloc[:, 4].values\n",
    "y"
   ]
  },
  {
   "cell_type": "code",
   "execution_count": 4,
   "id": "8d567f74",
   "metadata": {},
   "outputs": [],
   "source": [
    "# 300 é o valor correspondente  aos 30 testes realizando, cada um seperando a base em 10 partes (30 * 10 = 300)\n",
    "# Usa-se 30 e 10 para esses parâmetros por serem valores aceitos no meio científico \n",
    "# por serem utilizados nos experimentos de publicações\n",
    "\n",
    "resultados_naive_bayes_cv = []\n",
    "resultados_naive_bayes_cv_300 = []\n",
    "resultados_logistica_cv = []\n",
    "resultados_logistica_cv_300 = []\n",
    "resultados_forest_cv = []\n",
    "resultados_forest_cv_300 = []\n",
    "for i in range(30):\n",
    "    kfold = KFold(n_splits = 10, shuffle = True, random_state = i)\n",
    "\n",
    "    naive_bayes = GaussianNB()\n",
    "    scores = cross_val_score(naive_bayes, X, y, cv = kfold)\n",
    "    resultados_naive_bayes_cv_300.append(scores)\n",
    "    resultados_naive_bayes_cv.append(scores.mean())\n",
    "\n",
    "    logistica = LogisticRegression()\n",
    "    scores = cross_val_score(logistica, X, y, cv = kfold)\n",
    "    resultados_logistica_cv_300.append(scores)\n",
    "    resultados_logistica_cv.append(scores.mean())\n",
    "\n",
    "    random_forest = RandomForestClassifier()\n",
    "    scores = cross_val_score(random_forest, X, y, cv = kfold)\n",
    "    resultados_forest_cv_300.append(scores)\n",
    "    resultados_forest_cv.append(scores.mean())"
   ]
  },
  {
   "cell_type": "code",
   "execution_count": 8,
   "id": "bff992fa",
   "metadata": {},
   "outputs": [
    {
     "data": {
      "text/plain": [
       "(30, 30)"
      ]
     },
     "execution_count": 8,
     "metadata": {},
     "output_type": "execute_result"
    }
   ],
   "source": [
    "# Tamanho das listas\n",
    "len(resultados_naive_bayes_cv), len(resultados_naive_bayes_cv_300)"
   ]
  },
  {
   "cell_type": "code",
   "execution_count": 7,
   "id": "156a8799-deae-4ff4-8040-9f86383f56e6",
   "metadata": {},
   "outputs": [
    {
     "data": {
      "text/plain": [
       "(30, 10)"
      ]
     },
     "execution_count": 7,
     "metadata": {},
     "output_type": "execute_result"
    }
   ],
   "source": [
    "np.asarray(resultados_naive_bayes_cv_300).shape"
   ]
  },
  {
   "cell_type": "code",
   "execution_count": 9,
   "id": "ef50dca9",
   "metadata": {},
   "outputs": [],
   "source": [
    "# Convertendo redimensionando as listas\n",
    "resultados_naive_bayes_cv = np.array(resultados_naive_bayes_cv)\n",
    "resultados_naive_bayes_cv_300 = np.array(np.asarray(resultados_naive_bayes_cv_300).reshape(-1))\n",
    "resultados_logistica_cv = np.array(resultados_logistica_cv)\n",
    "resultados_logistica_cv_300 = np.array(np.asarray(resultados_logistica_cv_300).reshape(-1))\n",
    "resultados_forest_cv = np.array(resultados_forest_cv)\n",
    "resultados_forest_cv_300 = np.array(np.asarray(resultados_forest_cv_300).reshape(-1))"
   ]
  },
  {
   "cell_type": "code",
   "execution_count": 10,
   "id": "450717cf",
   "metadata": {
    "scrolled": true
   },
   "outputs": [
    {
     "data": {
      "text/plain": [
       "(300,)"
      ]
     },
     "execution_count": 10,
     "metadata": {},
     "output_type": "execute_result"
    }
   ],
   "source": [
    "resultados_naive_bayes_cv_300.shape"
   ]
  },
  {
   "cell_type": "code",
   "execution_count": 13,
   "id": "b9eb0a6d",
   "metadata": {
    "scrolled": true
   },
   "outputs": [
    {
     "name": "stderr",
     "output_type": "stream",
     "text": [
      "C:\\ProgramData\\Anaconda3\\lib\\site-packages\\seaborn\\distributions.py:2619: FutureWarning: `distplot` is a deprecated function and will be removed in a future version. Please adapt your code to use either `displot` (a figure-level function with similar flexibility) or `histplot` (an axes-level function for histograms).\n",
      "  warnings.warn(msg, FutureWarning)\n"
     ]
    },
    {
     "data": {
      "image/png": "[encoded data removed]",
      "text/plain": [
       "<Figure size 432x288 with 1 Axes>"
      ]
     },
     "metadata": {
      "needs_background": "light"
     },
     "output_type": "display_data"
    }
   ],
   "source": [
    "sns.distplot(resultados_naive_bayes_cv);"
   ]
  },
  {
   "cell_type": "markdown",
   "id": "b90f7861",
   "metadata": {},
   "source": [
    "> Este plot com 30 amostras não apresenta uma distribuição normal"
   ]
  },
  {
   "cell_type": "code",
   "execution_count": 14,
   "id": "207c60e6",
   "metadata": {},
   "outputs": [
    {
     "name": "stderr",
     "output_type": "stream",
     "text": [
      "C:\\ProgramData\\Anaconda3\\lib\\site-packages\\seaborn\\distributions.py:2619: FutureWarning: `distplot` is a deprecated function and will be removed in a future version. Please adapt your code to use either `displot` (a figure-level function with similar flexibility) or `histplot` (an axes-level function for histograms).\n",
      "  warnings.warn(msg, FutureWarning)\n"
     ]
    },
    {
     "data": {
      "text/plain": [
       "<AxesSubplot:ylabel='Density'>"
      ]
     },
     "execution_count": 14,
     "metadata": {},
     "output_type": "execute_result"
    },
    {
     "data": {
      "image/png": "[encoded data removed]",
      "text/plain": [
       "<Figure size 432x288 with 1 Axes>"
      ]
     },
     "metadata": {
      "needs_background": "light"
     },
     "output_type": "display_data"
    }
   ],
   "source": [
    "sns.distplot(resultados_naive_bayes_cv_300)"
   ]
  },
  {
   "cell_type": "markdown",
   "id": "fe33e9da",
   "metadata": {},
   "source": [
    "> Porém, quando aumenta a quantidade de amostras de 30 para 300, é possível identificar que a distribuição se aproxima de uma normal (Teorema do limite central).\n",
    "\n",
    "> Desta forma é possível aplicar os cálculo de intervalo de confiança e outras estatísticas."
   ]
  },
  {
   "cell_type": "markdown",
   "id": "3b55f581",
   "metadata": {},
   "source": [
    "> É possível transformar dados em um distribuição normal aplicando a função Log."
   ]
  },
  {
   "cell_type": "code",
   "execution_count": 15,
   "id": "d660cab2",
   "metadata": {
    "scrolled": true
   },
   "outputs": [
    {
     "name": "stderr",
     "output_type": "stream",
     "text": [
      "C:\\ProgramData\\Anaconda3\\lib\\site-packages\\seaborn\\distributions.py:2619: FutureWarning: `distplot` is a deprecated function and will be removed in a future version. Please adapt your code to use either `displot` (a figure-level function with similar flexibility) or `histplot` (an axes-level function for histograms).\n",
      "  warnings.warn(msg, FutureWarning)\n"
     ]
    },
    {
     "data": {
      "image/png": "[encoded data removed]",
      "text/plain": [
       "<Figure size 432x288 with 1 Axes>"
      ]
     },
     "metadata": {
      "needs_background": "light"
     },
     "output_type": "display_data"
    }
   ],
   "source": [
    "sns.distplot(resultados_logistica_cv);"
   ]
  },
  {
   "cell_type": "code",
   "execution_count": 16,
   "id": "6b2708ae",
   "metadata": {},
   "outputs": [
    {
     "name": "stderr",
     "output_type": "stream",
     "text": [
      "C:\\ProgramData\\Anaconda3\\lib\\site-packages\\seaborn\\distributions.py:2619: FutureWarning: `distplot` is a deprecated function and will be removed in a future version. Please adapt your code to use either `displot` (a figure-level function with similar flexibility) or `histplot` (an axes-level function for histograms).\n",
      "  warnings.warn(msg, FutureWarning)\n"
     ]
    },
    {
     "data": {
      "image/png": "[encoded data removed]",
      "text/plain": [
       "<Figure size 432x288 with 1 Axes>"
      ]
     },
     "metadata": {
      "needs_background": "light"
     },
     "output_type": "display_data"
    }
   ],
   "source": [
    "sns.distplot(resultados_logistica_cv_300);"
   ]
  },
  {
   "cell_type": "code",
   "execution_count": 17,
   "id": "89777375",
   "metadata": {},
   "outputs": [
    {
     "name": "stderr",
     "output_type": "stream",
     "text": [
      "C:\\ProgramData\\Anaconda3\\lib\\site-packages\\seaborn\\distributions.py:2619: FutureWarning: `distplot` is a deprecated function and will be removed in a future version. Please adapt your code to use either `displot` (a figure-level function with similar flexibility) or `histplot` (an axes-level function for histograms).\n",
      "  warnings.warn(msg, FutureWarning)\n"
     ]
    },
    {
     "data": {
      "image/png": "[encoded data removed]",
      "text/plain": [
       "<Figure size 432x288 with 1 Axes>"
      ]
     },
     "metadata": {
      "needs_background": "light"
     },
     "output_type": "display_data"
    }
   ],
   "source": [
    "sns.distplot(resultados_forest_cv);"
   ]
  },
  {
   "cell_type": "code",
   "execution_count": 18,
   "id": "74374129",
   "metadata": {
    "scrolled": true
   },
   "outputs": [
    {
     "name": "stderr",
     "output_type": "stream",
     "text": [
      "C:\\ProgramData\\Anaconda3\\lib\\site-packages\\seaborn\\distributions.py:2619: FutureWarning: `distplot` is a deprecated function and will be removed in a future version. Please adapt your code to use either `displot` (a figure-level function with similar flexibility) or `histplot` (an axes-level function for histograms).\n",
      "  warnings.warn(msg, FutureWarning)\n"
     ]
    },
    {
     "data": {
      "image/png": "[encoded data removed]",
      "text/plain": [
       "<Figure size 432x288 with 1 Axes>"
      ]
     },
     "metadata": {
      "needs_background": "light"
     },
     "output_type": "display_data"
    }
   ],
   "source": [
    "sns.distplot(resultados_forest_cv_300, bins=5);"
   ]
  },
  {
   "cell_type": "code",
   "execution_count": 19,
   "id": "1ebaa29c",
   "metadata": {},
   "outputs": [
    {
     "data": {
      "text/plain": [
       "(0.9249359296482411, 0.9137817420435511, 0.9868808207705193)"
      ]
     },
     "execution_count": 19,
     "metadata": {},
     "output_type": "execute_result"
    }
   ],
   "source": [
    "# Calculo das médias\n",
    "resultados_naive_bayes_cv.mean(), resultados_logistica_cv.mean(), resultados_forest_cv.mean()"
   ]
  },
  {
   "cell_type": "code",
   "execution_count": 23,
   "id": "9c058451",
   "metadata": {},
   "outputs": [
    {
     "data": {
      "text/plain": [
       "(0.08641071566366061, 0.38801026116292653, 0.15752056613033028)"
      ]
     },
     "execution_count": 23,
     "metadata": {},
     "output_type": "execute_result"
    }
   ],
   "source": [
    "stats.variation(resultados_naive_bayes_cv) * 100, stats.variation(resultados_logistica_cv) * 100, stats.variation(resultados_forest_cv) * 100"
   ]
  },
  {
   "cell_type": "markdown",
   "id": "971b4e09",
   "metadata": {},
   "source": [
    "### Intervalos de confiança"
   ]
  },
  {
   "cell_type": "code",
   "execution_count": 24,
   "id": "4ad7d482",
   "metadata": {},
   "outputs": [],
   "source": [
    "from scipy.stats import t\n",
    "from scipy.stats import norm"
   ]
  },
  {
   "cell_type": "markdown",
   "id": "edd3dd4b",
   "metadata": {},
   "source": [
    "#### Naïve bayes"
   ]
  },
  {
   "cell_type": "code",
   "execution_count": 26,
   "id": "3e8dd6ef",
   "metadata": {},
   "outputs": [
    {
     "name": "stdout",
     "output_type": "stream",
     "text": [
      "Intervalo:  (0.9246374871248957, 0.9252343721715865)\n"
     ]
    }
   ],
   "source": [
    "# 30 amostras\n",
    "intervalos_naive_bayes_t = t.interval(0.95, len(resultados_naive_bayes_cv) - 1, \n",
    "                                    resultados_naive_bayes_cv.mean(), \n",
    "                                    stats.sem(resultados_naive_bayes_cv, ddof = 0))\n",
    "print('Intervalo: ',intervalos_naive_bayes_t)"
   ]
  },
  {
   "cell_type": "code",
   "execution_count": 27,
   "id": "c756b616",
   "metadata": {},
   "outputs": [
    {
     "data": {
      "text/plain": [
       "0.0002984425233454324"
      ]
     },
     "execution_count": 27,
     "metadata": {},
     "output_type": "execute_result"
    }
   ],
   "source": [
    "# Margem\n",
    "abs(resultados_naive_bayes_cv.mean() - intervalos_naive_bayes_t[1])"
   ]
  },
  {
   "cell_type": "code",
   "execution_count": 29,
   "id": "8f84749b",
   "metadata": {},
   "outputs": [
    {
     "name": "stdout",
     "output_type": "stream",
     "text": [
      "Intervalo:  (0.9229333893644709, 0.9269384699320113)\n"
     ]
    }
   ],
   "source": [
    "# 300 amostras\n",
    "intervalos_naive_bayes_n = norm.interval(0.95, resultados_naive_bayes_cv_300.mean(), \n",
    "                                         stats.sem(resultados_naive_bayes_cv_300))\n",
    "print('Intervalo: ',intervalos_naive_bayes_n)"
   ]
  },
  {
   "cell_type": "code",
   "execution_count": 31,
   "id": "44685ea3",
   "metadata": {},
   "outputs": [
    {
     "data": {
      "text/plain": [
       "0.0020025402837702266"
      ]
     },
     "execution_count": 31,
     "metadata": {},
     "output_type": "execute_result"
    }
   ],
   "source": [
    "# Margem\n",
    "abs(resultados_naive_bayes_cv_300.mean() - intervalos_naive_bayes_n[1])"
   ]
  },
  {
   "cell_type": "markdown",
   "id": "447295bc",
   "metadata": {},
   "source": [
    "> A margem é MAIOR com 300 amostras devido os dados serem mais consistentes comparado com 30 amostras."
   ]
  },
  {
   "cell_type": "markdown",
   "id": "2ef6f834",
   "metadata": {},
   "source": [
    "### Regressão logística"
   ]
  },
  {
   "cell_type": "code",
   "execution_count": 32,
   "id": "4e864199",
   "metadata": {},
   "outputs": [
    {
     "data": {
      "text/plain": [
       "(0.9124578055959317, 0.9151056784911705)"
      ]
     },
     "execution_count": 32,
     "metadata": {},
     "output_type": "execute_result"
    }
   ],
   "source": [
    "# 30 amostras\n",
    "intervalos_logistica_t = t.interval(0.95, len(resultados_logistica_cv) - 1, \n",
    "                                    resultados_logistica_cv.mean(), \n",
    "                                    stats.sem(resultados_logistica_cv, ddof = 0))\n",
    "intervalos_logistica_t"
   ]
  },
  {
   "cell_type": "code",
   "execution_count": 33,
   "id": "b0d5b820",
   "metadata": {},
   "outputs": [
    {
     "data": {
      "text/plain": [
       "0.0013239364476194115"
      ]
     },
     "execution_count": 33,
     "metadata": {},
     "output_type": "execute_result"
    }
   ],
   "source": [
    "# Margem\n",
    "abs(resultados_logistica_cv.mean() - intervalos_logistica_t[1])"
   ]
  },
  {
   "cell_type": "code",
   "execution_count": 35,
   "id": "b52dcd38",
   "metadata": {},
   "outputs": [
    {
     "data": {
      "text/plain": [
       "(0.9114192660020396, 0.9161442180850629)"
      ]
     },
     "execution_count": 35,
     "metadata": {},
     "output_type": "execute_result"
    }
   ],
   "source": [
    "# 300 amostras\n",
    "intervalos_logistica_n = norm.interval(0.95, resultados_logistica_cv_300.mean(), \n",
    "                                       stats.sem(resultados_logistica_cv_300))\n",
    "intervalos_logistica_n"
   ]
  },
  {
   "cell_type": "code",
   "execution_count": 36,
   "id": "bb145533",
   "metadata": {},
   "outputs": [
    {
     "data": {
      "text/plain": [
       "0.0023624760415116297"
      ]
     },
     "execution_count": 36,
     "metadata": {},
     "output_type": "execute_result"
    }
   ],
   "source": [
    "# Margem\n",
    "abs(resultados_logistica_cv_300.mean() - intervalos_logistica_n[1])"
   ]
  },
  {
   "cell_type": "markdown",
   "id": "dec86788",
   "metadata": {},
   "source": [
    "### Random Forest"
   ]
  },
  {
   "cell_type": "code",
   "execution_count": 37,
   "id": "fc6cfd46",
   "metadata": {},
   "outputs": [
    {
     "data": {
      "text/plain": [
       "(0.9863003458991252, 0.9874612956419134)"
      ]
     },
     "execution_count": 37,
     "metadata": {},
     "output_type": "execute_result"
    }
   ],
   "source": [
    "intervalos_forest_t = t.interval(0.95, len(resultados_forest_cv) - 1, \n",
    "                                 resultados_forest_cv.mean(), \n",
    "                                 stats.sem(resultados_forest_cv, ddof = 0))\n",
    "intervalos_forest_t"
   ]
  },
  {
   "cell_type": "code",
   "execution_count": 38,
   "id": "b2114826",
   "metadata": {},
   "outputs": [
    {
     "data": {
      "text/plain": [
       "0.000580474871394121"
      ]
     },
     "execution_count": 38,
     "metadata": {},
     "output_type": "execute_result"
    }
   ],
   "source": [
    "abs(resultados_forest_cv.mean() - intervalos_forest_t[1])"
   ]
  },
  {
   "cell_type": "code",
   "execution_count": 39,
   "id": "5bb8c4a3",
   "metadata": {},
   "outputs": [
    {
     "data": {
      "text/plain": [
       "(0.9860437771041201, 0.9877178644369188)"
      ]
     },
     "execution_count": 39,
     "metadata": {},
     "output_type": "execute_result"
    }
   ],
   "source": [
    "intervalos_forest_n = norm.interval(0.95, resultados_forest_cv_300.mean(), \n",
    "                                    stats.sem(resultados_forest_cv_300))\n",
    "intervalos_forest_n"
   ]
  },
  {
   "cell_type": "code",
   "execution_count": 40,
   "id": "548ca0f8",
   "metadata": {},
   "outputs": [
    {
     "data": {
      "text/plain": [
       "0.0008370436663993619"
      ]
     },
     "execution_count": 40,
     "metadata": {},
     "output_type": "execute_result"
    }
   ],
   "source": [
    "abs(resultados_forest_cv_300.mean() - intervalos_forest_n[1])"
   ]
  },
  {
   "cell_type": "markdown",
   "id": "03f319b7",
   "metadata": {},
   "source": [
    "> Temos 95% de confiança de que a média de acertos do Random Forest está no intervalo entre 98,63% e 98,74% - 98,59% e 98,77%"
   ]
  },
  {
   "cell_type": "code",
   "execution_count": 43,
   "id": "a8f7bb5b",
   "metadata": {},
   "outputs": [
    {
     "name": "stdout",
     "output_type": "stream",
     "text": [
      "0.9889798994974874\n"
     ]
    }
   ],
   "source": [
    "kfold = KFold(n_splits = 10, shuffle = True)\n",
    "random_forest = RandomForestClassifier()\n",
    "scores = cross_val_score(random_forest, X, y, cv = kfold)\n",
    "print(scores.mean())"
   ]
  }
 ],
 "metadata": {
  "kernelspec": {
   "display_name": "Python 3 (ipykernel)",
   "language": "python",
   "name": "python3"
  },
  "language_info": {
   "codemirror_mode": {
    "name": "ipython",
    "version": 3
   },
   "file_extension": ".py",
   "mimetype": "text/x-python",
   "name": "python",
   "nbconvert_exporter": "python",
   "pygments_lexer": "ipython3",
   "version": "3.8.18"
  }
 },
 "nbformat": 4,
 "nbformat_minor": 5
}
