{
 "cells": [
  {
   "cell_type": "markdown",
   "id": "5ca982af",
   "metadata": {},
   "source": [
    "### Testes de Hipóteses"
   ]
  },
  {
   "cell_type": "markdown",
   "id": "472e392b",
   "metadata": {},
   "source": [
    "- Usado tomar uma decisão entre duas ou mais hipóteses, utilizando os dados observados de um determinado experimento.\n",
    "- Hipótese: idéia a ser testada\n",
    "- Hipótese nula (H0): \n",
    "    - afirmação que já existia\n",
    "    - presumir que é verdadeira até que se prove o contrário\n",
    "- Hipótese alternativa (H1): \n",
    "    - o que está tentando se provar (tudo o que é diferente da nula)\n",
    "- Alfa\n",
    "    - probabiliadde de rejeitar a hipótese nula, quanto menor mais seguro é o resultado (nível de significância) - em geral 0,01 ou 0,05\n",
    "    - Ex: 5% de chances de concluir que existe uma diferença quando não há diferença real\n",
    "- Valor de p (p-value)\n",
    "    - valor calculado pelo teste usado para rejeitar ou aceitar as hipóteses\n",
    "    - p-value >= alfa: não rejeita H0 (não há evidências)\n",
    "- Erro Tipo I\n",
    "    - rejeitar hipótese nula (H0) quando não deveria\n",
    "- Erro Tipo II\n",
    "    - não rejeitar hipótese nula (H0) quando deveria rejeitar"
   ]
  },
  {
   "cell_type": "markdown",
   "id": "dc49d3fb",
   "metadata": {},
   "source": [
    "### Qual teste usar?\n",
    "\n",
    "#### Teste de Hipótese Z ou Teste de Hipótese T?\n",
    "- Usa-se o Teste de Hipótese Z quando a amostra tiver mais de 30 amostra, caso contrário, usar o Teste de hipótese T"
   ]
  },
  {
   "cell_type": "markdown",
   "id": "673a112a",
   "metadata": {},
   "source": [
    "### Teste de Hipótese Z\n",
    "- Usa a estatística Z\n",
    "- Usa-se quando o desvio padrão é conhecido\n",
    "- Fórmula:\n",
    "$ Z = \\dfrac{\\bar X - \\mu_0}{\\dfrac{\\sigma}{\\sqrt{n}}} $ \n",
    "\n",
    "Onde:\n",
    "\n",
    "$\\bar X$: é a estatística a ser testada (H1), ex: média\n",
    "\n",
    "$\\mu_0$: é a estatística considerada (H0), ex: média\n",
    "\n",
    "$\\sigma$: desvio padrão\n",
    "\n",
    "$n$: tamanho da amostra"
   ]
  },
  {
   "cell_type": "markdown",
   "id": "00228b83",
   "metadata": {},
   "source": [
    "### Exemplo tirado de um site\n",
    "\n",
    "\n",
    "Uma indústria produz discos de metal, segundo o vendedor, os diâmetros dos discos são de **10 cm**, com **desvio padrão de 0,13 cm**. O comprador selecionou **30** discos aleatoriamente para confirmar os diâmetros e obteve **média 9,9 cm**. O comprador deseja confirmar os diâmetros para **uma $\\alfa$ = 0,05**.\n",
    "\n",
    "- Passo 1: Escreva suas hipóteses\n",
    "- H0: os discos tem 10 cm de diâmetro (m = 10)\n",
    "- H1: os discos tem diâmetro diferente de 10 cm (m ≠10)\n",
    "- Teste bicaudal\n",
    "\n",
    "$ Z_{calc} = \\dfrac{(9.9 - 10)}{\\dfrac{0.13}{\\sqrt{30}}}  = -4.347$\n",
    "\n",
    "$ Z_{cric} = 1 - (\\dfrac{\\alpha}{2}) $ \n",
    "\n",
    "$ Z_{cric} =  1 - \\dfrac{0.05}{2} $\n",
    "\n",
    "$ Z_{cric} =  1 - 0.025  = 0.975 $ (busca na tabela Z)\n",
    "\n",
    "$ Z_{cric} = 1.96 $\n",
    "\n",
    "\n",
    "#### Decisão\n",
    "\n",
    "Se $ Z_{calc} ≥ Z_{crit}$ Rejeita H0. Porque as chances de erro são pequenas\n",
    "\n",
    "Se $ Z_{calc} < Z_{crit}$ Não Rejeita H0. Porque as chances de erro são grandes\n",
    "\n",
    "Valor (tabela) do $Z_{crit}$ = 1,96\n",
    "\n",
    "Temos:\n",
    "\n",
    "$Z_{calc} = -4,34 $\n",
    "\n",
    "Então: |- 4,34| > |1,96|\n",
    "\n",
    "Logo, rejeitamos a H0.\n",
    "\n",
    "http://www.leg.ufpr.br/lib/exe/fetch.php/disciplinas:ce001:teste_z_-_para_apresentar.pdf\n",
    "\n",
    "[Outro exemplo] https://fumachi.mat.br/2023/03/27/teste-z/"
   ]
  },
  {
   "cell_type": "markdown",
   "id": "a22e7524",
   "metadata": {},
   "source": [
    "### Exercício Prático - Teste de Hipótese Z"
   ]
  },
  {
   "cell_type": "code",
   "execution_count": 23,
   "id": "c1ef3904",
   "metadata": {},
   "outputs": [],
   "source": [
    "import numpy as np\n",
    "import math\n",
    "from scipy.stats import norm"
   ]
  },
  {
   "cell_type": "code",
   "execution_count": 24,
   "id": "d57e0b08",
   "metadata": {},
   "outputs": [],
   "source": [
    "dados_originais = np.array([126. , 129.5, 133. , 133. , 136.5, 136.5, 140. , 140. , 140. ,\n",
    "                            140. , 143.5, 143.5, 143.5, 143.5, 143.5, 143.5, 147. , 147. ,\n",
    "                            147. , 147. , 147. , 147. , 147. , 150.5, 150.5, 150.5, 150.5,\n",
    "                            150.5, 150.5, 150.5, 150.5, 154. , 154. , 154. , 154. , 154. ,\n",
    "                            154. , 154. , 154. , 154. , 157.5, 157.5, 157.5, 157.5, 157.5,\n",
    "                            157.5, 157.5, 157.5, 157.5, 157.5, 161. , 161. , 161. , 161. ,\n",
    "                            161. , 161. , 161. , 161. , 161. , 161. , 164.5, 164.5, 164.5,\n",
    "                            164.5, 164.5, 164.5, 164.5, 164.5, 164.5, 168. , 168. , 168. ,\n",
    "                            168. , 168. , 168. , 168. , 168. , 171.5, 171.5, 171.5, 171.5,\n",
    "                            171.5, 171.5, 171.5, 175. , 175. , 175. , 175. , 175. , 175. ,\n",
    "                            178.5, 178.5, 178.5, 178.5, 182. , 182. , 185.5, 185.5, 189., 192.5])"
   ]
  },
  {
   "cell_type": "code",
   "execution_count": 25,
   "id": "4af709fa",
   "metadata": {},
   "outputs": [
    {
     "data": {
      "text/plain": [
       "159.25"
      ]
     },
     "execution_count": 25,
     "metadata": {},
     "output_type": "execute_result"
    }
   ],
   "source": [
    "H0_media = np.mean(dados_originais)\n",
    "H0_media"
   ]
  },
  {
   "cell_type": "code",
   "execution_count": 26,
   "id": "7dfd955d",
   "metadata": {},
   "outputs": [
    {
     "data": {
      "text/plain": [
       "13.65"
      ]
     },
     "execution_count": 26,
     "metadata": {},
     "output_type": "execute_result"
    }
   ],
   "source": [
    "H0_desvio_padrao = np.std(dados_originais)\n",
    "H0_desvio_padrao"
   ]
  },
  {
   "cell_type": "code",
   "execution_count": 27,
   "id": "a98e20af",
   "metadata": {},
   "outputs": [
    {
     "data": {
      "text/plain": [
       "array([129.78 , 133.385, 136.99 , 136.99 , 140.595, 140.595, 144.2  ,\n",
       "       144.2  , 144.2  , 144.2  , 147.805, 147.805, 147.805, 147.805,\n",
       "       147.805, 147.805, 151.41 , 151.41 , 151.41 , 151.41 , 151.41 ,\n",
       "       151.41 , 151.41 , 155.015, 155.015, 155.015, 155.015, 155.015,\n",
       "       155.015, 155.015, 155.015, 158.62 , 158.62 , 158.62 , 158.62 ,\n",
       "       158.62 , 158.62 , 158.62 , 158.62 , 158.62 , 162.225, 162.225,\n",
       "       162.225, 162.225, 162.225, 162.225, 162.225, 162.225, 162.225,\n",
       "       162.225, 165.83 , 165.83 , 165.83 , 165.83 , 165.83 , 165.83 ,\n",
       "       165.83 , 165.83 , 165.83 , 165.83 , 169.435, 169.435, 169.435,\n",
       "       169.435, 169.435, 169.435, 169.435, 169.435, 169.435, 173.04 ,\n",
       "       173.04 , 173.04 , 173.04 , 173.04 , 173.04 , 173.04 , 173.04 ,\n",
       "       176.645, 176.645, 176.645, 176.645, 176.645, 176.645, 176.645,\n",
       "       180.25 , 180.25 , 180.25 , 180.25 , 180.25 , 180.25 , 183.855,\n",
       "       183.855, 183.855, 183.855, 187.46 , 187.46 , 191.065, 191.065,\n",
       "       194.67 , 198.275])"
      ]
     },
     "execution_count": 27,
     "metadata": {},
     "output_type": "execute_result"
    }
   ],
   "source": [
    "dados_novos = dados_originais * 1.03\n",
    "dados_novos"
   ]
  },
  {
   "cell_type": "code",
   "execution_count": 28,
   "id": "7ef17be5",
   "metadata": {},
   "outputs": [
    {
     "data": {
      "text/plain": [
       "164.0275"
      ]
     },
     "execution_count": 28,
     "metadata": {},
     "output_type": "execute_result"
    }
   ],
   "source": [
    "H1_media = np.mean(dados_novos)\n",
    "H1_media"
   ]
  },
  {
   "cell_type": "code",
   "execution_count": 29,
   "id": "80359086",
   "metadata": {},
   "outputs": [
    {
     "data": {
      "text/plain": [
       "14.0595"
      ]
     },
     "execution_count": 29,
     "metadata": {},
     "output_type": "execute_result"
    }
   ],
   "source": [
    "H1_desvio_padrao = np.std(dados_novos)\n",
    "H1_desvio_padrao"
   ]
  },
  {
   "cell_type": "code",
   "execution_count": 30,
   "id": "a24c3fcb",
   "metadata": {},
   "outputs": [
    {
     "data": {
      "text/plain": [
       "100"
      ]
     },
     "execution_count": 30,
     "metadata": {},
     "output_type": "execute_result"
    }
   ],
   "source": [
    "H1_n = len(dados_novos)\n",
    "H1_n"
   ]
  },
  {
   "cell_type": "code",
   "execution_count": 31,
   "id": "af02ad96",
   "metadata": {},
   "outputs": [],
   "source": [
    "alpha = 0.05"
   ]
  },
  {
   "cell_type": "markdown",
   "id": "424eefbc",
   "metadata": {},
   "source": [
    "#### Teste de hipótese Z manual"
   ]
  },
  {
   "cell_type": "code",
   "execution_count": 32,
   "id": "f0fb7579",
   "metadata": {},
   "outputs": [
    {
     "data": {
      "text/plain": [
       "3.398058252427187"
      ]
     },
     "execution_count": 32,
     "metadata": {},
     "output_type": "execute_result"
    }
   ],
   "source": [
    "Z = (H1_media - H0_media) / (H1_desvio_padrao / math.sqrt(H1_n))\n",
    "Z"
   ]
  },
  {
   "cell_type": "code",
   "execution_count": 33,
   "id": "b92fea5b",
   "metadata": {},
   "outputs": [
    {
     "data": {
      "text/plain": [
       "(0.9996606701617486, 3.3980582524271936)"
      ]
     },
     "execution_count": 33,
     "metadata": {},
     "output_type": "execute_result"
    }
   ],
   "source": [
    "# cdf é a probabilidade ACUMULATIVA\n",
    "# ppf retorna o valor de Z passando a probabilidade\n",
    "norm.cdf(3.398058252427187), norm.ppf(0.9996606701617486)"
   ]
  },
  {
   "cell_type": "code",
   "execution_count": 34,
   "id": "ae1e685b",
   "metadata": {},
   "outputs": [
    {
     "data": {
      "text/plain": [
       "0.9996606701617486"
      ]
     },
     "execution_count": 34,
     "metadata": {},
     "output_type": "execute_result"
    }
   ],
   "source": [
    "Z = norm.cdf(Z)\n",
    "Z"
   ]
  },
  {
   "cell_type": "code",
   "execution_count": 35,
   "id": "9d341a7c",
   "metadata": {},
   "outputs": [
    {
     "data": {
      "text/plain": [
       "0.00033932983825135654"
      ]
     },
     "execution_count": 35,
     "metadata": {},
     "output_type": "execute_result"
    }
   ],
   "source": [
    "p = 1 - Z\n",
    "p"
   ]
  },
  {
   "cell_type": "code",
   "execution_count": 36,
   "id": "bee0087e",
   "metadata": {},
   "outputs": [
    {
     "name": "stdout",
     "output_type": "stream",
     "text": [
      "Hipótese nula rejeitada\n"
     ]
    }
   ],
   "source": [
    "if p < alpha:\n",
    "    print('Hipótese nula rejeitada')\n",
    "else:\n",
    "    print('Hipótese alternativa rejeitada')"
   ]
  },
  {
   "cell_type": "markdown",
   "id": "091b5582",
   "metadata": {},
   "source": [
    "#### Teste de hipótese Z com statsmodel"
   ]
  },
  {
   "cell_type": "markdown",
   "id": "61ca8472",
   "metadata": {},
   "source": [
    "https://www.statsmodels.org/devel/generated/statsmodels.stats.weightstats.ztest.html"
   ]
  },
  {
   "cell_type": "code",
   "execution_count": 37,
   "id": "6718df2c",
   "metadata": {},
   "outputs": [],
   "source": [
    "from statsmodels.stats.weightstats import ztest"
   ]
  },
  {
   "cell_type": "code",
   "execution_count": 38,
   "id": "41353a84",
   "metadata": {},
   "outputs": [],
   "source": [
    "# Larger significa H1_media > H0_meddia\n",
    "# Ha outros valores pro parametro\n",
    "_, p = ztest(dados_originais, dados_novos,\n",
    "             value = H1_media - H0_media,\n",
    "             alternative='larger')"
   ]
  },
  {
   "cell_type": "code",
   "execution_count": 39,
   "id": "f6eb3eac",
   "metadata": {},
   "outputs": [
    {
     "data": {
      "text/plain": [
       "0.9999993877283934"
      ]
     },
     "execution_count": 39,
     "metadata": {},
     "output_type": "execute_result"
    }
   ],
   "source": [
    "# A biblioteca retorna o valor da probabilidade acumulativa, é necessário realizar a subtração 1 - 'p' para obter o valor de p.\n",
    "p"
   ]
  },
  {
   "cell_type": "code",
   "execution_count": 40,
   "id": "6efce02e",
   "metadata": {},
   "outputs": [],
   "source": [
    "p = 1 - p"
   ]
  },
  {
   "cell_type": "code",
   "execution_count": 41,
   "id": "204b98bd",
   "metadata": {},
   "outputs": [
    {
     "name": "stdout",
     "output_type": "stream",
     "text": [
      "Hipótese nula rejeitada\n"
     ]
    }
   ],
   "source": [
    "if p < alpha:\n",
    "    print('Hipótese nula rejeitada')\n",
    "else:\n",
    "    print('Hipótese alternativa rejeitada')"
   ]
  },
  {
   "cell_type": "markdown",
   "id": "0615b233",
   "metadata": {},
   "source": [
    "### Exercício"
   ]
  },
  {
   "cell_type": "markdown",
   "id": "6135ab38",
   "metadata": {},
   "source": [
    "https://thedatascientist.com/how-to-do-a-t-test-in-python/"
   ]
  },
  {
   "cell_type": "markdown",
   "id": "41fbec26",
   "metadata": {},
   "source": [
    "#### Hipóteses\n",
    "$H_0: média_{H0}  = média_{H1}$\n",
    "\n",
    "$H_1: média_{H0} <> média_{H1}$\n",
    "\n",
    "É um teste pareado: há uma diferença no grupo entre pontos diferente do tempo\n",
    "\n",
    "Nível de significância: 5%"
   ]
  },
  {
   "cell_type": "code",
   "execution_count": 42,
   "id": "42037d6c",
   "metadata": {},
   "outputs": [],
   "source": [
    "from numpy.random import seed \n",
    "from numpy.random import randn \n",
    "from numpy.random import normal \n",
    "from scipy.stats import ttest_rel"
   ]
  },
  {
   "cell_type": "code",
   "execution_count": 43,
   "id": "da79d30e",
   "metadata": {},
   "outputs": [],
   "source": [
    "amostra_orig = np.array([149. , 160., 147., 189., 175., 168., 156., 160., 152.])\n",
    "amostra_nova = np.array([149. , 160., 147., 189., 175., 168., 156., 160., 152.]) * 1.2"
   ]
  },
  {
   "cell_type": "code",
   "execution_count": 44,
   "id": "c25805a1",
   "metadata": {},
   "outputs": [
    {
     "name": "stdout",
     "output_type": "stream",
     "text": [
      "T-statistic value: -35.7846507069113\n",
      "P-Value:  4.0729224939298203e-10\n"
     ]
    }
   ],
   "source": [
    "t_stat, p_value = ttest_rel(amostra_orig, amostra_nova) \n",
    "print('T-statistic value:', t_stat)  \n",
    "print('P-Value: ', p_value)\n"
   ]
  },
  {
   "cell_type": "code",
   "execution_count": 45,
   "id": "fdd44e8a",
   "metadata": {},
   "outputs": [
    {
     "name": "stdout",
     "output_type": "stream",
     "text": [
      "Hipótese nula rejeitada\n"
     ]
    }
   ],
   "source": [
    "if p_value < alpha:\n",
    "    print('Hipótese nula rejeitada')\n",
    "else:\n",
    "    print('Hipótese alternativa rejeitada')"
   ]
  },
  {
   "cell_type": "markdown",
   "id": "917c2642",
   "metadata": {},
   "source": [
    "Páginas para estudo:\n",
    "- https://thedatascientist.com/how-to-do-a-t-test-in-python/\n",
    "- https://www.geeksforgeeks.org/z-test/\n",
    "- https://www.statology.org/z-test-python/"
   ]
  }
 ],
 "metadata": {
  "kernelspec": {
   "display_name": "Python 3 (ipykernel)",
   "language": "python",
   "name": "python3"
  },
  "language_info": {
   "codemirror_mode": {
    "name": "ipython",
    "version": 3
   },
   "file_extension": ".py",
   "mimetype": "text/x-python",
   "name": "python",
   "nbconvert_exporter": "python",
   "pygments_lexer": "ipython3",
   "version": "3.8.12"
  }
 },
 "nbformat": 4,
 "nbformat_minor": 5
}
