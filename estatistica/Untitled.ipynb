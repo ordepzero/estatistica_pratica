{
 "cells": [
  {
   "cell_type": "markdown",
   "id": "d3bfcf44-4b55-4bcf-8edd-c1ba147e486f",
   "metadata": {},
   "source": [
    "<li>Estatística Básica</li>\n",
    "        <ol>\n",
    "            <li>Variáveis aleatórias contínuas e discretas</li>\n",
    "            <li>Função densidade de probabilidade e distribuição acumulada</li>\n",
    "            <li>Propriedades de distribuições: </li>\n",
    "                <ol>\n",
    "                    <li>médias, </li>\n",
    "                    <li>medianas, </li>\n",
    "                    <li>quartis, </li>\n",
    "                    <li>moda, </li>\n",
    "                    <li>variância, </li>\n",
    "                    <li>desvio padrão, </li>\n",
    "                    <li>amplitude, </li>\n",
    "                    <li>etc</li>\n",
    "                </ol>\n",
    "            <li>Testes de hipóteses</li>\n",
    "                <ol>\n",
    "                    <li> Testes paramétricos </li>\n",
    "                    <li> Testes não-paramétricos </li>\n",
    "                </ol>\n",
    "            <li>Principais distribuições: </li>\n",
    "                <ol>\n",
    "                    <li>Distribuição Normal</li>\n",
    "                    <li>Distribuição Bernoulli</li>\n",
    "                    <li>Distribuição Binomial</li>\n",
    "                    <li>Distribuição Exponencial</li>\n",
    "                    <li>Distribuição Poisson</li>\n",
    "                    <li>Distribuição Geométrica</li>\n",
    "                    <li>Distribuição Gama, Beta</li>\n",
    "                    <li>Distribuição Uniforme</li>\n",
    "                    <li>Distribuição Outras</li>\n",
    "                </ol>\n",
    "        </ol>\n",
    "\n",
    "<ol> \n",
    "    <li>Estimação</li>\n",
    "    <li>Intervalo de confiança</li>\n",
    "    <li>interpretar</li>\n",
    "    <li>inferência</li>\n",
    "    <li>Teste A/B</li>\n",
    "    <li>Hipótese</li>\n",
    "    <li>Testes-T</li>\n",
    "    <li>p-value</li>\n",
    "    <li>ANOVA</li>\n",
    "    <li>Tipos de Amotragem</li>\n",
    "    <li>Método de Pearson</li>\n",
    "    <li>Método de Spearman</li>\n",
    "    <li>Método de Kendall</li>\n",
    "    <li>Unimodal</li>\n",
    "    <li>Teste Qui-Quadrado</li>\n",
    "</ol>"
   ]
  }
 ],
 "metadata": {
  "kernelspec": {
   "display_name": "Python 3 (ipykernel)",
   "language": "python",
   "name": "python3"
  },
  "language_info": {
   "codemirror_mode": {
    "name": "ipython",
    "version": 3
   },
   "file_extension": ".py",
   "mimetype": "text/x-python",
   "name": "python",
   "nbconvert_exporter": "python",
   "pygments_lexer": "ipython3",
   "version": "3.8.18"
  }
 },
 "nbformat": 4,
 "nbformat_minor": 5
}
