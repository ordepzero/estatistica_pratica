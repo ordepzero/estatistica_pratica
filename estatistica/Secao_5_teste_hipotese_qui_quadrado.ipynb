{
 "cells": [
  {
   "cell_type": "markdown",
   "id": "d8ebe3b6-e6e2-4115-b065-9c15d609d8f2",
   "metadata": {},
   "source": [
    "### Teste de Hipótese Qui-quadrado\n",
    "\n",
    "- Adequado quando se trabalha com categorias\n",
    "- Testa diferença entre categorias dentro da mesma população"
   ]
  },
  {
   "cell_type": "markdown",
   "id": "cb247a15-72e5-43f2-a058-1ce68a0877ce",
   "metadata": {},
   "source": [
    "https://docs.scipy.org/doc/scipy/reference/generated/scipy.stats.chi2_contingency.html"
   ]
  },
  {
   "cell_type": "code",
   "execution_count": 3,
   "id": "d2f91380-b71a-4eee-ba8d-12108c77eb82",
   "metadata": {},
   "outputs": [],
   "source": [
    "from scipy.stats import chi2_contingency\n",
    "import numpy as np"
   ]
  },
  {
   "cell_type": "code",
   "execution_count": 4,
   "id": "b90bb2d4-a3f2-436d-8479-ad7646b17f1b",
   "metadata": {},
   "outputs": [],
   "source": [
    "#tabela = np.array([[30, 20], [22, 28]])\n",
    "tabela = np.array([[45, 5], [5, 45]])"
   ]
  },
  {
   "cell_type": "code",
   "execution_count": 5,
   "id": "bec26443-fdba-49ca-a7fd-ae53744f67d2",
   "metadata": {},
   "outputs": [
    {
     "data": {
      "text/plain": [
       "6.190717543917382e-15"
      ]
     },
     "execution_count": 5,
     "metadata": {},
     "output_type": "execute_result"
    }
   ],
   "source": [
    "_, p, _, _ = chi2_contingency(tabela)\n",
    "p"
   ]
  },
  {
   "cell_type": "code",
   "execution_count": 7,
   "id": "ff576215-d578-4e2a-b9d6-9587b6bc35f3",
   "metadata": {},
   "outputs": [
    {
     "name": "stdout",
     "output_type": "stream",
     "text": [
      "Hipótese nula rejeitada\n"
     ]
    }
   ],
   "source": [
    "alpha = 0.05\n",
    "if p <= alpha:\n",
    "    print('Hipótese nula rejeitada')\n",
    "else:\n",
    "    print('Hipótese alternativa rejeitada')"
   ]
  }
 ],
 "metadata": {
  "kernelspec": {
   "display_name": "Python 3 (ipykernel)",
   "language": "python",
   "name": "python3"
  },
  "language_info": {
   "codemirror_mode": {
    "name": "ipython",
    "version": 3
   },
   "file_extension": ".py",
   "mimetype": "text/x-python",
   "name": "python",
   "nbconvert_exporter": "python",
   "pygments_lexer": "ipython3",
   "version": "3.8.12"
  }
 },
 "nbformat": 4,
 "nbformat_minor": 5
}
